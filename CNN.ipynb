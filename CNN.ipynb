{
  "nbformat": 4,
  "nbformat_minor": 0,
  "metadata": {
    "colab": {
      "provenance": []
    },
    "kernelspec": {
      "name": "python3",
      "display_name": "Python 3"
    },
    "language_info": {
      "name": "python"
    },
    "widgets": {
      "application/vnd.jupyter.widget-state+json": {
        "94fb7f2360924eec88db591e7f7dd4e1": {
          "model_module": "@jupyter-widgets/controls",
          "model_name": "HBoxModel",
          "model_module_version": "1.5.0",
          "state": {
            "_dom_classes": [],
            "_model_module": "@jupyter-widgets/controls",
            "_model_module_version": "1.5.0",
            "_model_name": "HBoxModel",
            "_view_count": null,
            "_view_module": "@jupyter-widgets/controls",
            "_view_module_version": "1.5.0",
            "_view_name": "HBoxView",
            "box_style": "",
            "children": [
              "IPY_MODEL_17e2ea4b87184a2fa331b145a97e7dd0",
              "IPY_MODEL_c5907a0e91f44d85b22cfc60bfe4af10",
              "IPY_MODEL_f40a8d49921646f4ba7ff80306b5d66d"
            ],
            "layout": "IPY_MODEL_bdeb5c431b674fdf869eacf9d12a4dd1"
          }
        },
        "17e2ea4b87184a2fa331b145a97e7dd0": {
          "model_module": "@jupyter-widgets/controls",
          "model_name": "HTMLModel",
          "model_module_version": "1.5.0",
          "state": {
            "_dom_classes": [],
            "_model_module": "@jupyter-widgets/controls",
            "_model_module_version": "1.5.0",
            "_model_name": "HTMLModel",
            "_view_count": null,
            "_view_module": "@jupyter-widgets/controls",
            "_view_module_version": "1.5.0",
            "_view_name": "HTMLView",
            "description": "",
            "description_tooltip": null,
            "layout": "IPY_MODEL_444038d217b046d0a2eb74caceb4c8ae",
            "placeholder": "​",
            "style": "IPY_MODEL_d3d58d9e42234b189fba500778992e27",
            "value": "100%"
          }
        },
        "c5907a0e91f44d85b22cfc60bfe4af10": {
          "model_module": "@jupyter-widgets/controls",
          "model_name": "FloatProgressModel",
          "model_module_version": "1.5.0",
          "state": {
            "_dom_classes": [],
            "_model_module": "@jupyter-widgets/controls",
            "_model_module_version": "1.5.0",
            "_model_name": "FloatProgressModel",
            "_view_count": null,
            "_view_module": "@jupyter-widgets/controls",
            "_view_module_version": "1.5.0",
            "_view_name": "ProgressView",
            "bar_style": "success",
            "description": "",
            "description_tooltip": null,
            "layout": "IPY_MODEL_f5615303a84e41abad769bf9166f028a",
            "max": 9912422,
            "min": 0,
            "orientation": "horizontal",
            "style": "IPY_MODEL_5d0fb1a8e7e54989a4940193dac10d95",
            "value": 9912422
          }
        },
        "f40a8d49921646f4ba7ff80306b5d66d": {
          "model_module": "@jupyter-widgets/controls",
          "model_name": "HTMLModel",
          "model_module_version": "1.5.0",
          "state": {
            "_dom_classes": [],
            "_model_module": "@jupyter-widgets/controls",
            "_model_module_version": "1.5.0",
            "_model_name": "HTMLModel",
            "_view_count": null,
            "_view_module": "@jupyter-widgets/controls",
            "_view_module_version": "1.5.0",
            "_view_name": "HTMLView",
            "description": "",
            "description_tooltip": null,
            "layout": "IPY_MODEL_3763b9fb7d2c4a76a0b77401d14c9216",
            "placeholder": "​",
            "style": "IPY_MODEL_5cab5c3e1aa14ac386fcea1d4f262caf",
            "value": " 9912422/9912422 [00:00&lt;00:00, 144683133.68it/s]"
          }
        },
        "bdeb5c431b674fdf869eacf9d12a4dd1": {
          "model_module": "@jupyter-widgets/base",
          "model_name": "LayoutModel",
          "model_module_version": "1.2.0",
          "state": {
            "_model_module": "@jupyter-widgets/base",
            "_model_module_version": "1.2.0",
            "_model_name": "LayoutModel",
            "_view_count": null,
            "_view_module": "@jupyter-widgets/base",
            "_view_module_version": "1.2.0",
            "_view_name": "LayoutView",
            "align_content": null,
            "align_items": null,
            "align_self": null,
            "border": null,
            "bottom": null,
            "display": null,
            "flex": null,
            "flex_flow": null,
            "grid_area": null,
            "grid_auto_columns": null,
            "grid_auto_flow": null,
            "grid_auto_rows": null,
            "grid_column": null,
            "grid_gap": null,
            "grid_row": null,
            "grid_template_areas": null,
            "grid_template_columns": null,
            "grid_template_rows": null,
            "height": null,
            "justify_content": null,
            "justify_items": null,
            "left": null,
            "margin": null,
            "max_height": null,
            "max_width": null,
            "min_height": null,
            "min_width": null,
            "object_fit": null,
            "object_position": null,
            "order": null,
            "overflow": null,
            "overflow_x": null,
            "overflow_y": null,
            "padding": null,
            "right": null,
            "top": null,
            "visibility": null,
            "width": null
          }
        },
        "444038d217b046d0a2eb74caceb4c8ae": {
          "model_module": "@jupyter-widgets/base",
          "model_name": "LayoutModel",
          "model_module_version": "1.2.0",
          "state": {
            "_model_module": "@jupyter-widgets/base",
            "_model_module_version": "1.2.0",
            "_model_name": "LayoutModel",
            "_view_count": null,
            "_view_module": "@jupyter-widgets/base",
            "_view_module_version": "1.2.0",
            "_view_name": "LayoutView",
            "align_content": null,
            "align_items": null,
            "align_self": null,
            "border": null,
            "bottom": null,
            "display": null,
            "flex": null,
            "flex_flow": null,
            "grid_area": null,
            "grid_auto_columns": null,
            "grid_auto_flow": null,
            "grid_auto_rows": null,
            "grid_column": null,
            "grid_gap": null,
            "grid_row": null,
            "grid_template_areas": null,
            "grid_template_columns": null,
            "grid_template_rows": null,
            "height": null,
            "justify_content": null,
            "justify_items": null,
            "left": null,
            "margin": null,
            "max_height": null,
            "max_width": null,
            "min_height": null,
            "min_width": null,
            "object_fit": null,
            "object_position": null,
            "order": null,
            "overflow": null,
            "overflow_x": null,
            "overflow_y": null,
            "padding": null,
            "right": null,
            "top": null,
            "visibility": null,
            "width": null
          }
        },
        "d3d58d9e42234b189fba500778992e27": {
          "model_module": "@jupyter-widgets/controls",
          "model_name": "DescriptionStyleModel",
          "model_module_version": "1.5.0",
          "state": {
            "_model_module": "@jupyter-widgets/controls",
            "_model_module_version": "1.5.0",
            "_model_name": "DescriptionStyleModel",
            "_view_count": null,
            "_view_module": "@jupyter-widgets/base",
            "_view_module_version": "1.2.0",
            "_view_name": "StyleView",
            "description_width": ""
          }
        },
        "f5615303a84e41abad769bf9166f028a": {
          "model_module": "@jupyter-widgets/base",
          "model_name": "LayoutModel",
          "model_module_version": "1.2.0",
          "state": {
            "_model_module": "@jupyter-widgets/base",
            "_model_module_version": "1.2.0",
            "_model_name": "LayoutModel",
            "_view_count": null,
            "_view_module": "@jupyter-widgets/base",
            "_view_module_version": "1.2.0",
            "_view_name": "LayoutView",
            "align_content": null,
            "align_items": null,
            "align_self": null,
            "border": null,
            "bottom": null,
            "display": null,
            "flex": null,
            "flex_flow": null,
            "grid_area": null,
            "grid_auto_columns": null,
            "grid_auto_flow": null,
            "grid_auto_rows": null,
            "grid_column": null,
            "grid_gap": null,
            "grid_row": null,
            "grid_template_areas": null,
            "grid_template_columns": null,
            "grid_template_rows": null,
            "height": null,
            "justify_content": null,
            "justify_items": null,
            "left": null,
            "margin": null,
            "max_height": null,
            "max_width": null,
            "min_height": null,
            "min_width": null,
            "object_fit": null,
            "object_position": null,
            "order": null,
            "overflow": null,
            "overflow_x": null,
            "overflow_y": null,
            "padding": null,
            "right": null,
            "top": null,
            "visibility": null,
            "width": null
          }
        },
        "5d0fb1a8e7e54989a4940193dac10d95": {
          "model_module": "@jupyter-widgets/controls",
          "model_name": "ProgressStyleModel",
          "model_module_version": "1.5.0",
          "state": {
            "_model_module": "@jupyter-widgets/controls",
            "_model_module_version": "1.5.0",
            "_model_name": "ProgressStyleModel",
            "_view_count": null,
            "_view_module": "@jupyter-widgets/base",
            "_view_module_version": "1.2.0",
            "_view_name": "StyleView",
            "bar_color": null,
            "description_width": ""
          }
        },
        "3763b9fb7d2c4a76a0b77401d14c9216": {
          "model_module": "@jupyter-widgets/base",
          "model_name": "LayoutModel",
          "model_module_version": "1.2.0",
          "state": {
            "_model_module": "@jupyter-widgets/base",
            "_model_module_version": "1.2.0",
            "_model_name": "LayoutModel",
            "_view_count": null,
            "_view_module": "@jupyter-widgets/base",
            "_view_module_version": "1.2.0",
            "_view_name": "LayoutView",
            "align_content": null,
            "align_items": null,
            "align_self": null,
            "border": null,
            "bottom": null,
            "display": null,
            "flex": null,
            "flex_flow": null,
            "grid_area": null,
            "grid_auto_columns": null,
            "grid_auto_flow": null,
            "grid_auto_rows": null,
            "grid_column": null,
            "grid_gap": null,
            "grid_row": null,
            "grid_template_areas": null,
            "grid_template_columns": null,
            "grid_template_rows": null,
            "height": null,
            "justify_content": null,
            "justify_items": null,
            "left": null,
            "margin": null,
            "max_height": null,
            "max_width": null,
            "min_height": null,
            "min_width": null,
            "object_fit": null,
            "object_position": null,
            "order": null,
            "overflow": null,
            "overflow_x": null,
            "overflow_y": null,
            "padding": null,
            "right": null,
            "top": null,
            "visibility": null,
            "width": null
          }
        },
        "5cab5c3e1aa14ac386fcea1d4f262caf": {
          "model_module": "@jupyter-widgets/controls",
          "model_name": "DescriptionStyleModel",
          "model_module_version": "1.5.0",
          "state": {
            "_model_module": "@jupyter-widgets/controls",
            "_model_module_version": "1.5.0",
            "_model_name": "DescriptionStyleModel",
            "_view_count": null,
            "_view_module": "@jupyter-widgets/base",
            "_view_module_version": "1.2.0",
            "_view_name": "StyleView",
            "description_width": ""
          }
        },
        "5059efa97ebd481a9fddef548520731e": {
          "model_module": "@jupyter-widgets/controls",
          "model_name": "HBoxModel",
          "model_module_version": "1.5.0",
          "state": {
            "_dom_classes": [],
            "_model_module": "@jupyter-widgets/controls",
            "_model_module_version": "1.5.0",
            "_model_name": "HBoxModel",
            "_view_count": null,
            "_view_module": "@jupyter-widgets/controls",
            "_view_module_version": "1.5.0",
            "_view_name": "HBoxView",
            "box_style": "",
            "children": [
              "IPY_MODEL_ba0ae73825a2475ea6b27fab51ec9822",
              "IPY_MODEL_be24e2d962a94704bb902f8ef1366399",
              "IPY_MODEL_3404a32c37724d45acecd2da22cce9f3"
            ],
            "layout": "IPY_MODEL_378a4ec494324a778e8d5f5907cf5ada"
          }
        },
        "ba0ae73825a2475ea6b27fab51ec9822": {
          "model_module": "@jupyter-widgets/controls",
          "model_name": "HTMLModel",
          "model_module_version": "1.5.0",
          "state": {
            "_dom_classes": [],
            "_model_module": "@jupyter-widgets/controls",
            "_model_module_version": "1.5.0",
            "_model_name": "HTMLModel",
            "_view_count": null,
            "_view_module": "@jupyter-widgets/controls",
            "_view_module_version": "1.5.0",
            "_view_name": "HTMLView",
            "description": "",
            "description_tooltip": null,
            "layout": "IPY_MODEL_e3c12700b0a74d0783830d0fc4a5d2ec",
            "placeholder": "​",
            "style": "IPY_MODEL_3349f83d2fcb44a596f74c465d0f73f2",
            "value": "100%"
          }
        },
        "be24e2d962a94704bb902f8ef1366399": {
          "model_module": "@jupyter-widgets/controls",
          "model_name": "FloatProgressModel",
          "model_module_version": "1.5.0",
          "state": {
            "_dom_classes": [],
            "_model_module": "@jupyter-widgets/controls",
            "_model_module_version": "1.5.0",
            "_model_name": "FloatProgressModel",
            "_view_count": null,
            "_view_module": "@jupyter-widgets/controls",
            "_view_module_version": "1.5.0",
            "_view_name": "ProgressView",
            "bar_style": "success",
            "description": "",
            "description_tooltip": null,
            "layout": "IPY_MODEL_3a8b49d7b0f14c24a21f4d10e754dfcb",
            "max": 28881,
            "min": 0,
            "orientation": "horizontal",
            "style": "IPY_MODEL_dea2feac65254415af7a9e87775015ef",
            "value": 28881
          }
        },
        "3404a32c37724d45acecd2da22cce9f3": {
          "model_module": "@jupyter-widgets/controls",
          "model_name": "HTMLModel",
          "model_module_version": "1.5.0",
          "state": {
            "_dom_classes": [],
            "_model_module": "@jupyter-widgets/controls",
            "_model_module_version": "1.5.0",
            "_model_name": "HTMLModel",
            "_view_count": null,
            "_view_module": "@jupyter-widgets/controls",
            "_view_module_version": "1.5.0",
            "_view_name": "HTMLView",
            "description": "",
            "description_tooltip": null,
            "layout": "IPY_MODEL_9e9ee3307a074f89bf7ed348d7cca21e",
            "placeholder": "​",
            "style": "IPY_MODEL_2da077740b114edb97f09f19b6ce5bea",
            "value": " 28881/28881 [00:00&lt;00:00, 1391005.27it/s]"
          }
        },
        "378a4ec494324a778e8d5f5907cf5ada": {
          "model_module": "@jupyter-widgets/base",
          "model_name": "LayoutModel",
          "model_module_version": "1.2.0",
          "state": {
            "_model_module": "@jupyter-widgets/base",
            "_model_module_version": "1.2.0",
            "_model_name": "LayoutModel",
            "_view_count": null,
            "_view_module": "@jupyter-widgets/base",
            "_view_module_version": "1.2.0",
            "_view_name": "LayoutView",
            "align_content": null,
            "align_items": null,
            "align_self": null,
            "border": null,
            "bottom": null,
            "display": null,
            "flex": null,
            "flex_flow": null,
            "grid_area": null,
            "grid_auto_columns": null,
            "grid_auto_flow": null,
            "grid_auto_rows": null,
            "grid_column": null,
            "grid_gap": null,
            "grid_row": null,
            "grid_template_areas": null,
            "grid_template_columns": null,
            "grid_template_rows": null,
            "height": null,
            "justify_content": null,
            "justify_items": null,
            "left": null,
            "margin": null,
            "max_height": null,
            "max_width": null,
            "min_height": null,
            "min_width": null,
            "object_fit": null,
            "object_position": null,
            "order": null,
            "overflow": null,
            "overflow_x": null,
            "overflow_y": null,
            "padding": null,
            "right": null,
            "top": null,
            "visibility": null,
            "width": null
          }
        },
        "e3c12700b0a74d0783830d0fc4a5d2ec": {
          "model_module": "@jupyter-widgets/base",
          "model_name": "LayoutModel",
          "model_module_version": "1.2.0",
          "state": {
            "_model_module": "@jupyter-widgets/base",
            "_model_module_version": "1.2.0",
            "_model_name": "LayoutModel",
            "_view_count": null,
            "_view_module": "@jupyter-widgets/base",
            "_view_module_version": "1.2.0",
            "_view_name": "LayoutView",
            "align_content": null,
            "align_items": null,
            "align_self": null,
            "border": null,
            "bottom": null,
            "display": null,
            "flex": null,
            "flex_flow": null,
            "grid_area": null,
            "grid_auto_columns": null,
            "grid_auto_flow": null,
            "grid_auto_rows": null,
            "grid_column": null,
            "grid_gap": null,
            "grid_row": null,
            "grid_template_areas": null,
            "grid_template_columns": null,
            "grid_template_rows": null,
            "height": null,
            "justify_content": null,
            "justify_items": null,
            "left": null,
            "margin": null,
            "max_height": null,
            "max_width": null,
            "min_height": null,
            "min_width": null,
            "object_fit": null,
            "object_position": null,
            "order": null,
            "overflow": null,
            "overflow_x": null,
            "overflow_y": null,
            "padding": null,
            "right": null,
            "top": null,
            "visibility": null,
            "width": null
          }
        },
        "3349f83d2fcb44a596f74c465d0f73f2": {
          "model_module": "@jupyter-widgets/controls",
          "model_name": "DescriptionStyleModel",
          "model_module_version": "1.5.0",
          "state": {
            "_model_module": "@jupyter-widgets/controls",
            "_model_module_version": "1.5.0",
            "_model_name": "DescriptionStyleModel",
            "_view_count": null,
            "_view_module": "@jupyter-widgets/base",
            "_view_module_version": "1.2.0",
            "_view_name": "StyleView",
            "description_width": ""
          }
        },
        "3a8b49d7b0f14c24a21f4d10e754dfcb": {
          "model_module": "@jupyter-widgets/base",
          "model_name": "LayoutModel",
          "model_module_version": "1.2.0",
          "state": {
            "_model_module": "@jupyter-widgets/base",
            "_model_module_version": "1.2.0",
            "_model_name": "LayoutModel",
            "_view_count": null,
            "_view_module": "@jupyter-widgets/base",
            "_view_module_version": "1.2.0",
            "_view_name": "LayoutView",
            "align_content": null,
            "align_items": null,
            "align_self": null,
            "border": null,
            "bottom": null,
            "display": null,
            "flex": null,
            "flex_flow": null,
            "grid_area": null,
            "grid_auto_columns": null,
            "grid_auto_flow": null,
            "grid_auto_rows": null,
            "grid_column": null,
            "grid_gap": null,
            "grid_row": null,
            "grid_template_areas": null,
            "grid_template_columns": null,
            "grid_template_rows": null,
            "height": null,
            "justify_content": null,
            "justify_items": null,
            "left": null,
            "margin": null,
            "max_height": null,
            "max_width": null,
            "min_height": null,
            "min_width": null,
            "object_fit": null,
            "object_position": null,
            "order": null,
            "overflow": null,
            "overflow_x": null,
            "overflow_y": null,
            "padding": null,
            "right": null,
            "top": null,
            "visibility": null,
            "width": null
          }
        },
        "dea2feac65254415af7a9e87775015ef": {
          "model_module": "@jupyter-widgets/controls",
          "model_name": "ProgressStyleModel",
          "model_module_version": "1.5.0",
          "state": {
            "_model_module": "@jupyter-widgets/controls",
            "_model_module_version": "1.5.0",
            "_model_name": "ProgressStyleModel",
            "_view_count": null,
            "_view_module": "@jupyter-widgets/base",
            "_view_module_version": "1.2.0",
            "_view_name": "StyleView",
            "bar_color": null,
            "description_width": ""
          }
        },
        "9e9ee3307a074f89bf7ed348d7cca21e": {
          "model_module": "@jupyter-widgets/base",
          "model_name": "LayoutModel",
          "model_module_version": "1.2.0",
          "state": {
            "_model_module": "@jupyter-widgets/base",
            "_model_module_version": "1.2.0",
            "_model_name": "LayoutModel",
            "_view_count": null,
            "_view_module": "@jupyter-widgets/base",
            "_view_module_version": "1.2.0",
            "_view_name": "LayoutView",
            "align_content": null,
            "align_items": null,
            "align_self": null,
            "border": null,
            "bottom": null,
            "display": null,
            "flex": null,
            "flex_flow": null,
            "grid_area": null,
            "grid_auto_columns": null,
            "grid_auto_flow": null,
            "grid_auto_rows": null,
            "grid_column": null,
            "grid_gap": null,
            "grid_row": null,
            "grid_template_areas": null,
            "grid_template_columns": null,
            "grid_template_rows": null,
            "height": null,
            "justify_content": null,
            "justify_items": null,
            "left": null,
            "margin": null,
            "max_height": null,
            "max_width": null,
            "min_height": null,
            "min_width": null,
            "object_fit": null,
            "object_position": null,
            "order": null,
            "overflow": null,
            "overflow_x": null,
            "overflow_y": null,
            "padding": null,
            "right": null,
            "top": null,
            "visibility": null,
            "width": null
          }
        },
        "2da077740b114edb97f09f19b6ce5bea": {
          "model_module": "@jupyter-widgets/controls",
          "model_name": "DescriptionStyleModel",
          "model_module_version": "1.5.0",
          "state": {
            "_model_module": "@jupyter-widgets/controls",
            "_model_module_version": "1.5.0",
            "_model_name": "DescriptionStyleModel",
            "_view_count": null,
            "_view_module": "@jupyter-widgets/base",
            "_view_module_version": "1.2.0",
            "_view_name": "StyleView",
            "description_width": ""
          }
        },
        "ac3fe14c8ddb440981e212ceeccac442": {
          "model_module": "@jupyter-widgets/controls",
          "model_name": "HBoxModel",
          "model_module_version": "1.5.0",
          "state": {
            "_dom_classes": [],
            "_model_module": "@jupyter-widgets/controls",
            "_model_module_version": "1.5.0",
            "_model_name": "HBoxModel",
            "_view_count": null,
            "_view_module": "@jupyter-widgets/controls",
            "_view_module_version": "1.5.0",
            "_view_name": "HBoxView",
            "box_style": "",
            "children": [
              "IPY_MODEL_1fcfda9fd2984ed5b394f12898829c15",
              "IPY_MODEL_66663cc008c54c54991c73bbbc2302b0",
              "IPY_MODEL_d525da57b9f14e7781734fd73d3d6f31"
            ],
            "layout": "IPY_MODEL_9ca6f0979f5a40fc9b87b18594bc8444"
          }
        },
        "1fcfda9fd2984ed5b394f12898829c15": {
          "model_module": "@jupyter-widgets/controls",
          "model_name": "HTMLModel",
          "model_module_version": "1.5.0",
          "state": {
            "_dom_classes": [],
            "_model_module": "@jupyter-widgets/controls",
            "_model_module_version": "1.5.0",
            "_model_name": "HTMLModel",
            "_view_count": null,
            "_view_module": "@jupyter-widgets/controls",
            "_view_module_version": "1.5.0",
            "_view_name": "HTMLView",
            "description": "",
            "description_tooltip": null,
            "layout": "IPY_MODEL_e00117aa915c44ddaf3c9003143a3bfb",
            "placeholder": "​",
            "style": "IPY_MODEL_0867f6d4fb8e47faae9d89c62e4cabb8",
            "value": "100%"
          }
        },
        "66663cc008c54c54991c73bbbc2302b0": {
          "model_module": "@jupyter-widgets/controls",
          "model_name": "FloatProgressModel",
          "model_module_version": "1.5.0",
          "state": {
            "_dom_classes": [],
            "_model_module": "@jupyter-widgets/controls",
            "_model_module_version": "1.5.0",
            "_model_name": "FloatProgressModel",
            "_view_count": null,
            "_view_module": "@jupyter-widgets/controls",
            "_view_module_version": "1.5.0",
            "_view_name": "ProgressView",
            "bar_style": "success",
            "description": "",
            "description_tooltip": null,
            "layout": "IPY_MODEL_67e340fd44f147bbadff331ff0bb6500",
            "max": 1648877,
            "min": 0,
            "orientation": "horizontal",
            "style": "IPY_MODEL_f5f4ccdee1c94be0ada206eef4cf9703",
            "value": 1648877
          }
        },
        "d525da57b9f14e7781734fd73d3d6f31": {
          "model_module": "@jupyter-widgets/controls",
          "model_name": "HTMLModel",
          "model_module_version": "1.5.0",
          "state": {
            "_dom_classes": [],
            "_model_module": "@jupyter-widgets/controls",
            "_model_module_version": "1.5.0",
            "_model_name": "HTMLModel",
            "_view_count": null,
            "_view_module": "@jupyter-widgets/controls",
            "_view_module_version": "1.5.0",
            "_view_name": "HTMLView",
            "description": "",
            "description_tooltip": null,
            "layout": "IPY_MODEL_d597beff82d04360ac4ceaa96fa28aa9",
            "placeholder": "​",
            "style": "IPY_MODEL_a0b9f778138f4737bc0d71956206122a",
            "value": " 1648877/1648877 [00:00&lt;00:00, 71987294.78it/s]"
          }
        },
        "9ca6f0979f5a40fc9b87b18594bc8444": {
          "model_module": "@jupyter-widgets/base",
          "model_name": "LayoutModel",
          "model_module_version": "1.2.0",
          "state": {
            "_model_module": "@jupyter-widgets/base",
            "_model_module_version": "1.2.0",
            "_model_name": "LayoutModel",
            "_view_count": null,
            "_view_module": "@jupyter-widgets/base",
            "_view_module_version": "1.2.0",
            "_view_name": "LayoutView",
            "align_content": null,
            "align_items": null,
            "align_self": null,
            "border": null,
            "bottom": null,
            "display": null,
            "flex": null,
            "flex_flow": null,
            "grid_area": null,
            "grid_auto_columns": null,
            "grid_auto_flow": null,
            "grid_auto_rows": null,
            "grid_column": null,
            "grid_gap": null,
            "grid_row": null,
            "grid_template_areas": null,
            "grid_template_columns": null,
            "grid_template_rows": null,
            "height": null,
            "justify_content": null,
            "justify_items": null,
            "left": null,
            "margin": null,
            "max_height": null,
            "max_width": null,
            "min_height": null,
            "min_width": null,
            "object_fit": null,
            "object_position": null,
            "order": null,
            "overflow": null,
            "overflow_x": null,
            "overflow_y": null,
            "padding": null,
            "right": null,
            "top": null,
            "visibility": null,
            "width": null
          }
        },
        "e00117aa915c44ddaf3c9003143a3bfb": {
          "model_module": "@jupyter-widgets/base",
          "model_name": "LayoutModel",
          "model_module_version": "1.2.0",
          "state": {
            "_model_module": "@jupyter-widgets/base",
            "_model_module_version": "1.2.0",
            "_model_name": "LayoutModel",
            "_view_count": null,
            "_view_module": "@jupyter-widgets/base",
            "_view_module_version": "1.2.0",
            "_view_name": "LayoutView",
            "align_content": null,
            "align_items": null,
            "align_self": null,
            "border": null,
            "bottom": null,
            "display": null,
            "flex": null,
            "flex_flow": null,
            "grid_area": null,
            "grid_auto_columns": null,
            "grid_auto_flow": null,
            "grid_auto_rows": null,
            "grid_column": null,
            "grid_gap": null,
            "grid_row": null,
            "grid_template_areas": null,
            "grid_template_columns": null,
            "grid_template_rows": null,
            "height": null,
            "justify_content": null,
            "justify_items": null,
            "left": null,
            "margin": null,
            "max_height": null,
            "max_width": null,
            "min_height": null,
            "min_width": null,
            "object_fit": null,
            "object_position": null,
            "order": null,
            "overflow": null,
            "overflow_x": null,
            "overflow_y": null,
            "padding": null,
            "right": null,
            "top": null,
            "visibility": null,
            "width": null
          }
        },
        "0867f6d4fb8e47faae9d89c62e4cabb8": {
          "model_module": "@jupyter-widgets/controls",
          "model_name": "DescriptionStyleModel",
          "model_module_version": "1.5.0",
          "state": {
            "_model_module": "@jupyter-widgets/controls",
            "_model_module_version": "1.5.0",
            "_model_name": "DescriptionStyleModel",
            "_view_count": null,
            "_view_module": "@jupyter-widgets/base",
            "_view_module_version": "1.2.0",
            "_view_name": "StyleView",
            "description_width": ""
          }
        },
        "67e340fd44f147bbadff331ff0bb6500": {
          "model_module": "@jupyter-widgets/base",
          "model_name": "LayoutModel",
          "model_module_version": "1.2.0",
          "state": {
            "_model_module": "@jupyter-widgets/base",
            "_model_module_version": "1.2.0",
            "_model_name": "LayoutModel",
            "_view_count": null,
            "_view_module": "@jupyter-widgets/base",
            "_view_module_version": "1.2.0",
            "_view_name": "LayoutView",
            "align_content": null,
            "align_items": null,
            "align_self": null,
            "border": null,
            "bottom": null,
            "display": null,
            "flex": null,
            "flex_flow": null,
            "grid_area": null,
            "grid_auto_columns": null,
            "grid_auto_flow": null,
            "grid_auto_rows": null,
            "grid_column": null,
            "grid_gap": null,
            "grid_row": null,
            "grid_template_areas": null,
            "grid_template_columns": null,
            "grid_template_rows": null,
            "height": null,
            "justify_content": null,
            "justify_items": null,
            "left": null,
            "margin": null,
            "max_height": null,
            "max_width": null,
            "min_height": null,
            "min_width": null,
            "object_fit": null,
            "object_position": null,
            "order": null,
            "overflow": null,
            "overflow_x": null,
            "overflow_y": null,
            "padding": null,
            "right": null,
            "top": null,
            "visibility": null,
            "width": null
          }
        },
        "f5f4ccdee1c94be0ada206eef4cf9703": {
          "model_module": "@jupyter-widgets/controls",
          "model_name": "ProgressStyleModel",
          "model_module_version": "1.5.0",
          "state": {
            "_model_module": "@jupyter-widgets/controls",
            "_model_module_version": "1.5.0",
            "_model_name": "ProgressStyleModel",
            "_view_count": null,
            "_view_module": "@jupyter-widgets/base",
            "_view_module_version": "1.2.0",
            "_view_name": "StyleView",
            "bar_color": null,
            "description_width": ""
          }
        },
        "d597beff82d04360ac4ceaa96fa28aa9": {
          "model_module": "@jupyter-widgets/base",
          "model_name": "LayoutModel",
          "model_module_version": "1.2.0",
          "state": {
            "_model_module": "@jupyter-widgets/base",
            "_model_module_version": "1.2.0",
            "_model_name": "LayoutModel",
            "_view_count": null,
            "_view_module": "@jupyter-widgets/base",
            "_view_module_version": "1.2.0",
            "_view_name": "LayoutView",
            "align_content": null,
            "align_items": null,
            "align_self": null,
            "border": null,
            "bottom": null,
            "display": null,
            "flex": null,
            "flex_flow": null,
            "grid_area": null,
            "grid_auto_columns": null,
            "grid_auto_flow": null,
            "grid_auto_rows": null,
            "grid_column": null,
            "grid_gap": null,
            "grid_row": null,
            "grid_template_areas": null,
            "grid_template_columns": null,
            "grid_template_rows": null,
            "height": null,
            "justify_content": null,
            "justify_items": null,
            "left": null,
            "margin": null,
            "max_height": null,
            "max_width": null,
            "min_height": null,
            "min_width": null,
            "object_fit": null,
            "object_position": null,
            "order": null,
            "overflow": null,
            "overflow_x": null,
            "overflow_y": null,
            "padding": null,
            "right": null,
            "top": null,
            "visibility": null,
            "width": null
          }
        },
        "a0b9f778138f4737bc0d71956206122a": {
          "model_module": "@jupyter-widgets/controls",
          "model_name": "DescriptionStyleModel",
          "model_module_version": "1.5.0",
          "state": {
            "_model_module": "@jupyter-widgets/controls",
            "_model_module_version": "1.5.0",
            "_model_name": "DescriptionStyleModel",
            "_view_count": null,
            "_view_module": "@jupyter-widgets/base",
            "_view_module_version": "1.2.0",
            "_view_name": "StyleView",
            "description_width": ""
          }
        },
        "c14beb6f3a3e4bbaba7d6f7b3c33b1a3": {
          "model_module": "@jupyter-widgets/controls",
          "model_name": "HBoxModel",
          "model_module_version": "1.5.0",
          "state": {
            "_dom_classes": [],
            "_model_module": "@jupyter-widgets/controls",
            "_model_module_version": "1.5.0",
            "_model_name": "HBoxModel",
            "_view_count": null,
            "_view_module": "@jupyter-widgets/controls",
            "_view_module_version": "1.5.0",
            "_view_name": "HBoxView",
            "box_style": "",
            "children": [
              "IPY_MODEL_facc3763eb49466eb904a5deeb1bae65",
              "IPY_MODEL_c80806513de844be9cbfecb4cc97ff03",
              "IPY_MODEL_db99cbfc585b413ca1c9fa4e2478ecf7"
            ],
            "layout": "IPY_MODEL_2d32fbcb99f44719b238cf832170ee37"
          }
        },
        "facc3763eb49466eb904a5deeb1bae65": {
          "model_module": "@jupyter-widgets/controls",
          "model_name": "HTMLModel",
          "model_module_version": "1.5.0",
          "state": {
            "_dom_classes": [],
            "_model_module": "@jupyter-widgets/controls",
            "_model_module_version": "1.5.0",
            "_model_name": "HTMLModel",
            "_view_count": null,
            "_view_module": "@jupyter-widgets/controls",
            "_view_module_version": "1.5.0",
            "_view_name": "HTMLView",
            "description": "",
            "description_tooltip": null,
            "layout": "IPY_MODEL_7280b220e6cd4398a3292c62c9d759b1",
            "placeholder": "​",
            "style": "IPY_MODEL_0fb2df8acaa44a758c3b90e3599ff43c",
            "value": "100%"
          }
        },
        "c80806513de844be9cbfecb4cc97ff03": {
          "model_module": "@jupyter-widgets/controls",
          "model_name": "FloatProgressModel",
          "model_module_version": "1.5.0",
          "state": {
            "_dom_classes": [],
            "_model_module": "@jupyter-widgets/controls",
            "_model_module_version": "1.5.0",
            "_model_name": "FloatProgressModel",
            "_view_count": null,
            "_view_module": "@jupyter-widgets/controls",
            "_view_module_version": "1.5.0",
            "_view_name": "ProgressView",
            "bar_style": "success",
            "description": "",
            "description_tooltip": null,
            "layout": "IPY_MODEL_7d3a678051ba4da59ab8d816587b3d6b",
            "max": 4542,
            "min": 0,
            "orientation": "horizontal",
            "style": "IPY_MODEL_ab6fcd4d589d461e81b8ad9089fe955b",
            "value": 4542
          }
        },
        "db99cbfc585b413ca1c9fa4e2478ecf7": {
          "model_module": "@jupyter-widgets/controls",
          "model_name": "HTMLModel",
          "model_module_version": "1.5.0",
          "state": {
            "_dom_classes": [],
            "_model_module": "@jupyter-widgets/controls",
            "_model_module_version": "1.5.0",
            "_model_name": "HTMLModel",
            "_view_count": null,
            "_view_module": "@jupyter-widgets/controls",
            "_view_module_version": "1.5.0",
            "_view_name": "HTMLView",
            "description": "",
            "description_tooltip": null,
            "layout": "IPY_MODEL_89051be8ee234c6dac9708d20deeabb8",
            "placeholder": "​",
            "style": "IPY_MODEL_c56b5f28a1a5404598d43e9332c888de",
            "value": " 4542/4542 [00:00&lt;00:00, 153875.28it/s]"
          }
        },
        "2d32fbcb99f44719b238cf832170ee37": {
          "model_module": "@jupyter-widgets/base",
          "model_name": "LayoutModel",
          "model_module_version": "1.2.0",
          "state": {
            "_model_module": "@jupyter-widgets/base",
            "_model_module_version": "1.2.0",
            "_model_name": "LayoutModel",
            "_view_count": null,
            "_view_module": "@jupyter-widgets/base",
            "_view_module_version": "1.2.0",
            "_view_name": "LayoutView",
            "align_content": null,
            "align_items": null,
            "align_self": null,
            "border": null,
            "bottom": null,
            "display": null,
            "flex": null,
            "flex_flow": null,
            "grid_area": null,
            "grid_auto_columns": null,
            "grid_auto_flow": null,
            "grid_auto_rows": null,
            "grid_column": null,
            "grid_gap": null,
            "grid_row": null,
            "grid_template_areas": null,
            "grid_template_columns": null,
            "grid_template_rows": null,
            "height": null,
            "justify_content": null,
            "justify_items": null,
            "left": null,
            "margin": null,
            "max_height": null,
            "max_width": null,
            "min_height": null,
            "min_width": null,
            "object_fit": null,
            "object_position": null,
            "order": null,
            "overflow": null,
            "overflow_x": null,
            "overflow_y": null,
            "padding": null,
            "right": null,
            "top": null,
            "visibility": null,
            "width": null
          }
        },
        "7280b220e6cd4398a3292c62c9d759b1": {
          "model_module": "@jupyter-widgets/base",
          "model_name": "LayoutModel",
          "model_module_version": "1.2.0",
          "state": {
            "_model_module": "@jupyter-widgets/base",
            "_model_module_version": "1.2.0",
            "_model_name": "LayoutModel",
            "_view_count": null,
            "_view_module": "@jupyter-widgets/base",
            "_view_module_version": "1.2.0",
            "_view_name": "LayoutView",
            "align_content": null,
            "align_items": null,
            "align_self": null,
            "border": null,
            "bottom": null,
            "display": null,
            "flex": null,
            "flex_flow": null,
            "grid_area": null,
            "grid_auto_columns": null,
            "grid_auto_flow": null,
            "grid_auto_rows": null,
            "grid_column": null,
            "grid_gap": null,
            "grid_row": null,
            "grid_template_areas": null,
            "grid_template_columns": null,
            "grid_template_rows": null,
            "height": null,
            "justify_content": null,
            "justify_items": null,
            "left": null,
            "margin": null,
            "max_height": null,
            "max_width": null,
            "min_height": null,
            "min_width": null,
            "object_fit": null,
            "object_position": null,
            "order": null,
            "overflow": null,
            "overflow_x": null,
            "overflow_y": null,
            "padding": null,
            "right": null,
            "top": null,
            "visibility": null,
            "width": null
          }
        },
        "0fb2df8acaa44a758c3b90e3599ff43c": {
          "model_module": "@jupyter-widgets/controls",
          "model_name": "DescriptionStyleModel",
          "model_module_version": "1.5.0",
          "state": {
            "_model_module": "@jupyter-widgets/controls",
            "_model_module_version": "1.5.0",
            "_model_name": "DescriptionStyleModel",
            "_view_count": null,
            "_view_module": "@jupyter-widgets/base",
            "_view_module_version": "1.2.0",
            "_view_name": "StyleView",
            "description_width": ""
          }
        },
        "7d3a678051ba4da59ab8d816587b3d6b": {
          "model_module": "@jupyter-widgets/base",
          "model_name": "LayoutModel",
          "model_module_version": "1.2.0",
          "state": {
            "_model_module": "@jupyter-widgets/base",
            "_model_module_version": "1.2.0",
            "_model_name": "LayoutModel",
            "_view_count": null,
            "_view_module": "@jupyter-widgets/base",
            "_view_module_version": "1.2.0",
            "_view_name": "LayoutView",
            "align_content": null,
            "align_items": null,
            "align_self": null,
            "border": null,
            "bottom": null,
            "display": null,
            "flex": null,
            "flex_flow": null,
            "grid_area": null,
            "grid_auto_columns": null,
            "grid_auto_flow": null,
            "grid_auto_rows": null,
            "grid_column": null,
            "grid_gap": null,
            "grid_row": null,
            "grid_template_areas": null,
            "grid_template_columns": null,
            "grid_template_rows": null,
            "height": null,
            "justify_content": null,
            "justify_items": null,
            "left": null,
            "margin": null,
            "max_height": null,
            "max_width": null,
            "min_height": null,
            "min_width": null,
            "object_fit": null,
            "object_position": null,
            "order": null,
            "overflow": null,
            "overflow_x": null,
            "overflow_y": null,
            "padding": null,
            "right": null,
            "top": null,
            "visibility": null,
            "width": null
          }
        },
        "ab6fcd4d589d461e81b8ad9089fe955b": {
          "model_module": "@jupyter-widgets/controls",
          "model_name": "ProgressStyleModel",
          "model_module_version": "1.5.0",
          "state": {
            "_model_module": "@jupyter-widgets/controls",
            "_model_module_version": "1.5.0",
            "_model_name": "ProgressStyleModel",
            "_view_count": null,
            "_view_module": "@jupyter-widgets/base",
            "_view_module_version": "1.2.0",
            "_view_name": "StyleView",
            "bar_color": null,
            "description_width": ""
          }
        },
        "89051be8ee234c6dac9708d20deeabb8": {
          "model_module": "@jupyter-widgets/base",
          "model_name": "LayoutModel",
          "model_module_version": "1.2.0",
          "state": {
            "_model_module": "@jupyter-widgets/base",
            "_model_module_version": "1.2.0",
            "_model_name": "LayoutModel",
            "_view_count": null,
            "_view_module": "@jupyter-widgets/base",
            "_view_module_version": "1.2.0",
            "_view_name": "LayoutView",
            "align_content": null,
            "align_items": null,
            "align_self": null,
            "border": null,
            "bottom": null,
            "display": null,
            "flex": null,
            "flex_flow": null,
            "grid_area": null,
            "grid_auto_columns": null,
            "grid_auto_flow": null,
            "grid_auto_rows": null,
            "grid_column": null,
            "grid_gap": null,
            "grid_row": null,
            "grid_template_areas": null,
            "grid_template_columns": null,
            "grid_template_rows": null,
            "height": null,
            "justify_content": null,
            "justify_items": null,
            "left": null,
            "margin": null,
            "max_height": null,
            "max_width": null,
            "min_height": null,
            "min_width": null,
            "object_fit": null,
            "object_position": null,
            "order": null,
            "overflow": null,
            "overflow_x": null,
            "overflow_y": null,
            "padding": null,
            "right": null,
            "top": null,
            "visibility": null,
            "width": null
          }
        },
        "c56b5f28a1a5404598d43e9332c888de": {
          "model_module": "@jupyter-widgets/controls",
          "model_name": "DescriptionStyleModel",
          "model_module_version": "1.5.0",
          "state": {
            "_model_module": "@jupyter-widgets/controls",
            "_model_module_version": "1.5.0",
            "_model_name": "DescriptionStyleModel",
            "_view_count": null,
            "_view_module": "@jupyter-widgets/base",
            "_view_module_version": "1.2.0",
            "_view_name": "StyleView",
            "description_width": ""
          }
        },
        "e2cceb25452e462c84401351bd2294be": {
          "model_module": "@jupyter-widgets/controls",
          "model_name": "HBoxModel",
          "model_module_version": "1.5.0",
          "state": {
            "_dom_classes": [],
            "_model_module": "@jupyter-widgets/controls",
            "_model_module_version": "1.5.0",
            "_model_name": "HBoxModel",
            "_view_count": null,
            "_view_module": "@jupyter-widgets/controls",
            "_view_module_version": "1.5.0",
            "_view_name": "HBoxView",
            "box_style": "",
            "children": [
              "IPY_MODEL_4c8480c2d7084976b90fdcbc209182c5",
              "IPY_MODEL_c4e969ed35c440c9b73711fce436a768",
              "IPY_MODEL_fc01502225304cd39ee432639fcc6104"
            ],
            "layout": "IPY_MODEL_26cb3aeea35442c597213abb920129fb"
          }
        },
        "4c8480c2d7084976b90fdcbc209182c5": {
          "model_module": "@jupyter-widgets/controls",
          "model_name": "HTMLModel",
          "model_module_version": "1.5.0",
          "state": {
            "_dom_classes": [],
            "_model_module": "@jupyter-widgets/controls",
            "_model_module_version": "1.5.0",
            "_model_name": "HTMLModel",
            "_view_count": null,
            "_view_module": "@jupyter-widgets/controls",
            "_view_module_version": "1.5.0",
            "_view_name": "HTMLView",
            "description": "",
            "description_tooltip": null,
            "layout": "IPY_MODEL_ffa63f41b67f49e3a9b43f65d2c6b1bd",
            "placeholder": "​",
            "style": "IPY_MODEL_b51f8ef02e4c4c968a9bbd56eb2b10e9",
            "value": "100%"
          }
        },
        "c4e969ed35c440c9b73711fce436a768": {
          "model_module": "@jupyter-widgets/controls",
          "model_name": "FloatProgressModel",
          "model_module_version": "1.5.0",
          "state": {
            "_dom_classes": [],
            "_model_module": "@jupyter-widgets/controls",
            "_model_module_version": "1.5.0",
            "_model_name": "FloatProgressModel",
            "_view_count": null,
            "_view_module": "@jupyter-widgets/controls",
            "_view_module_version": "1.5.0",
            "_view_name": "ProgressView",
            "bar_style": "success",
            "description": "",
            "description_tooltip": null,
            "layout": "IPY_MODEL_2b5a724a04c7420b98239517a0f24df1",
            "max": 9912422,
            "min": 0,
            "orientation": "horizontal",
            "style": "IPY_MODEL_38dcfaca9b45412286ba0010f905cdd1",
            "value": 9912422
          }
        },
        "fc01502225304cd39ee432639fcc6104": {
          "model_module": "@jupyter-widgets/controls",
          "model_name": "HTMLModel",
          "model_module_version": "1.5.0",
          "state": {
            "_dom_classes": [],
            "_model_module": "@jupyter-widgets/controls",
            "_model_module_version": "1.5.0",
            "_model_name": "HTMLModel",
            "_view_count": null,
            "_view_module": "@jupyter-widgets/controls",
            "_view_module_version": "1.5.0",
            "_view_name": "HTMLView",
            "description": "",
            "description_tooltip": null,
            "layout": "IPY_MODEL_a7088a29c36b49de9cb8a318b571f637",
            "placeholder": "​",
            "style": "IPY_MODEL_d197438b1dbd43759e28ff8ddba578d4",
            "value": " 9912422/9912422 [00:00&lt;00:00, 2292581.54it/s]"
          }
        },
        "26cb3aeea35442c597213abb920129fb": {
          "model_module": "@jupyter-widgets/base",
          "model_name": "LayoutModel",
          "model_module_version": "1.2.0",
          "state": {
            "_model_module": "@jupyter-widgets/base",
            "_model_module_version": "1.2.0",
            "_model_name": "LayoutModel",
            "_view_count": null,
            "_view_module": "@jupyter-widgets/base",
            "_view_module_version": "1.2.0",
            "_view_name": "LayoutView",
            "align_content": null,
            "align_items": null,
            "align_self": null,
            "border": null,
            "bottom": null,
            "display": null,
            "flex": null,
            "flex_flow": null,
            "grid_area": null,
            "grid_auto_columns": null,
            "grid_auto_flow": null,
            "grid_auto_rows": null,
            "grid_column": null,
            "grid_gap": null,
            "grid_row": null,
            "grid_template_areas": null,
            "grid_template_columns": null,
            "grid_template_rows": null,
            "height": null,
            "justify_content": null,
            "justify_items": null,
            "left": null,
            "margin": null,
            "max_height": null,
            "max_width": null,
            "min_height": null,
            "min_width": null,
            "object_fit": null,
            "object_position": null,
            "order": null,
            "overflow": null,
            "overflow_x": null,
            "overflow_y": null,
            "padding": null,
            "right": null,
            "top": null,
            "visibility": null,
            "width": null
          }
        },
        "ffa63f41b67f49e3a9b43f65d2c6b1bd": {
          "model_module": "@jupyter-widgets/base",
          "model_name": "LayoutModel",
          "model_module_version": "1.2.0",
          "state": {
            "_model_module": "@jupyter-widgets/base",
            "_model_module_version": "1.2.0",
            "_model_name": "LayoutModel",
            "_view_count": null,
            "_view_module": "@jupyter-widgets/base",
            "_view_module_version": "1.2.0",
            "_view_name": "LayoutView",
            "align_content": null,
            "align_items": null,
            "align_self": null,
            "border": null,
            "bottom": null,
            "display": null,
            "flex": null,
            "flex_flow": null,
            "grid_area": null,
            "grid_auto_columns": null,
            "grid_auto_flow": null,
            "grid_auto_rows": null,
            "grid_column": null,
            "grid_gap": null,
            "grid_row": null,
            "grid_template_areas": null,
            "grid_template_columns": null,
            "grid_template_rows": null,
            "height": null,
            "justify_content": null,
            "justify_items": null,
            "left": null,
            "margin": null,
            "max_height": null,
            "max_width": null,
            "min_height": null,
            "min_width": null,
            "object_fit": null,
            "object_position": null,
            "order": null,
            "overflow": null,
            "overflow_x": null,
            "overflow_y": null,
            "padding": null,
            "right": null,
            "top": null,
            "visibility": null,
            "width": null
          }
        },
        "b51f8ef02e4c4c968a9bbd56eb2b10e9": {
          "model_module": "@jupyter-widgets/controls",
          "model_name": "DescriptionStyleModel",
          "model_module_version": "1.5.0",
          "state": {
            "_model_module": "@jupyter-widgets/controls",
            "_model_module_version": "1.5.0",
            "_model_name": "DescriptionStyleModel",
            "_view_count": null,
            "_view_module": "@jupyter-widgets/base",
            "_view_module_version": "1.2.0",
            "_view_name": "StyleView",
            "description_width": ""
          }
        },
        "2b5a724a04c7420b98239517a0f24df1": {
          "model_module": "@jupyter-widgets/base",
          "model_name": "LayoutModel",
          "model_module_version": "1.2.0",
          "state": {
            "_model_module": "@jupyter-widgets/base",
            "_model_module_version": "1.2.0",
            "_model_name": "LayoutModel",
            "_view_count": null,
            "_view_module": "@jupyter-widgets/base",
            "_view_module_version": "1.2.0",
            "_view_name": "LayoutView",
            "align_content": null,
            "align_items": null,
            "align_self": null,
            "border": null,
            "bottom": null,
            "display": null,
            "flex": null,
            "flex_flow": null,
            "grid_area": null,
            "grid_auto_columns": null,
            "grid_auto_flow": null,
            "grid_auto_rows": null,
            "grid_column": null,
            "grid_gap": null,
            "grid_row": null,
            "grid_template_areas": null,
            "grid_template_columns": null,
            "grid_template_rows": null,
            "height": null,
            "justify_content": null,
            "justify_items": null,
            "left": null,
            "margin": null,
            "max_height": null,
            "max_width": null,
            "min_height": null,
            "min_width": null,
            "object_fit": null,
            "object_position": null,
            "order": null,
            "overflow": null,
            "overflow_x": null,
            "overflow_y": null,
            "padding": null,
            "right": null,
            "top": null,
            "visibility": null,
            "width": null
          }
        },
        "38dcfaca9b45412286ba0010f905cdd1": {
          "model_module": "@jupyter-widgets/controls",
          "model_name": "ProgressStyleModel",
          "model_module_version": "1.5.0",
          "state": {
            "_model_module": "@jupyter-widgets/controls",
            "_model_module_version": "1.5.0",
            "_model_name": "ProgressStyleModel",
            "_view_count": null,
            "_view_module": "@jupyter-widgets/base",
            "_view_module_version": "1.2.0",
            "_view_name": "StyleView",
            "bar_color": null,
            "description_width": ""
          }
        },
        "a7088a29c36b49de9cb8a318b571f637": {
          "model_module": "@jupyter-widgets/base",
          "model_name": "LayoutModel",
          "model_module_version": "1.2.0",
          "state": {
            "_model_module": "@jupyter-widgets/base",
            "_model_module_version": "1.2.0",
            "_model_name": "LayoutModel",
            "_view_count": null,
            "_view_module": "@jupyter-widgets/base",
            "_view_module_version": "1.2.0",
            "_view_name": "LayoutView",
            "align_content": null,
            "align_items": null,
            "align_self": null,
            "border": null,
            "bottom": null,
            "display": null,
            "flex": null,
            "flex_flow": null,
            "grid_area": null,
            "grid_auto_columns": null,
            "grid_auto_flow": null,
            "grid_auto_rows": null,
            "grid_column": null,
            "grid_gap": null,
            "grid_row": null,
            "grid_template_areas": null,
            "grid_template_columns": null,
            "grid_template_rows": null,
            "height": null,
            "justify_content": null,
            "justify_items": null,
            "left": null,
            "margin": null,
            "max_height": null,
            "max_width": null,
            "min_height": null,
            "min_width": null,
            "object_fit": null,
            "object_position": null,
            "order": null,
            "overflow": null,
            "overflow_x": null,
            "overflow_y": null,
            "padding": null,
            "right": null,
            "top": null,
            "visibility": null,
            "width": null
          }
        },
        "d197438b1dbd43759e28ff8ddba578d4": {
          "model_module": "@jupyter-widgets/controls",
          "model_name": "DescriptionStyleModel",
          "model_module_version": "1.5.0",
          "state": {
            "_model_module": "@jupyter-widgets/controls",
            "_model_module_version": "1.5.0",
            "_model_name": "DescriptionStyleModel",
            "_view_count": null,
            "_view_module": "@jupyter-widgets/base",
            "_view_module_version": "1.2.0",
            "_view_name": "StyleView",
            "description_width": ""
          }
        },
        "7b41899cb95945dea3a3794f51eabe5f": {
          "model_module": "@jupyter-widgets/controls",
          "model_name": "HBoxModel",
          "model_module_version": "1.5.0",
          "state": {
            "_dom_classes": [],
            "_model_module": "@jupyter-widgets/controls",
            "_model_module_version": "1.5.0",
            "_model_name": "HBoxModel",
            "_view_count": null,
            "_view_module": "@jupyter-widgets/controls",
            "_view_module_version": "1.5.0",
            "_view_name": "HBoxView",
            "box_style": "",
            "children": [
              "IPY_MODEL_4e130f5a79c84a94bc39d05ced6fa9b9",
              "IPY_MODEL_8ff0d2812f734af481581be92a23f2de",
              "IPY_MODEL_0ea41fb9b0c744e68fb4f2c0950c97fe"
            ],
            "layout": "IPY_MODEL_9711a77cf2bc4bdb8f6b1637f81a5007"
          }
        },
        "4e130f5a79c84a94bc39d05ced6fa9b9": {
          "model_module": "@jupyter-widgets/controls",
          "model_name": "HTMLModel",
          "model_module_version": "1.5.0",
          "state": {
            "_dom_classes": [],
            "_model_module": "@jupyter-widgets/controls",
            "_model_module_version": "1.5.0",
            "_model_name": "HTMLModel",
            "_view_count": null,
            "_view_module": "@jupyter-widgets/controls",
            "_view_module_version": "1.5.0",
            "_view_name": "HTMLView",
            "description": "",
            "description_tooltip": null,
            "layout": "IPY_MODEL_cc1e695663d14ef0804aafc8e0056773",
            "placeholder": "​",
            "style": "IPY_MODEL_a59d2ad748b542b8ab0a563dd792d35e",
            "value": "100%"
          }
        },
        "8ff0d2812f734af481581be92a23f2de": {
          "model_module": "@jupyter-widgets/controls",
          "model_name": "FloatProgressModel",
          "model_module_version": "1.5.0",
          "state": {
            "_dom_classes": [],
            "_model_module": "@jupyter-widgets/controls",
            "_model_module_version": "1.5.0",
            "_model_name": "FloatProgressModel",
            "_view_count": null,
            "_view_module": "@jupyter-widgets/controls",
            "_view_module_version": "1.5.0",
            "_view_name": "ProgressView",
            "bar_style": "success",
            "description": "",
            "description_tooltip": null,
            "layout": "IPY_MODEL_13e656115d8a4eb095dafe94386a0d35",
            "max": 28881,
            "min": 0,
            "orientation": "horizontal",
            "style": "IPY_MODEL_c19a4084f5c146a28db079083a79a5ce",
            "value": 28881
          }
        },
        "0ea41fb9b0c744e68fb4f2c0950c97fe": {
          "model_module": "@jupyter-widgets/controls",
          "model_name": "HTMLModel",
          "model_module_version": "1.5.0",
          "state": {
            "_dom_classes": [],
            "_model_module": "@jupyter-widgets/controls",
            "_model_module_version": "1.5.0",
            "_model_name": "HTMLModel",
            "_view_count": null,
            "_view_module": "@jupyter-widgets/controls",
            "_view_module_version": "1.5.0",
            "_view_name": "HTMLView",
            "description": "",
            "description_tooltip": null,
            "layout": "IPY_MODEL_9514bda606444871b470b4bf876d6a96",
            "placeholder": "​",
            "style": "IPY_MODEL_c293fd94c9fb41188313c45ba78f62c6",
            "value": " 28881/28881 [00:00&lt;00:00, 1074212.26it/s]"
          }
        },
        "9711a77cf2bc4bdb8f6b1637f81a5007": {
          "model_module": "@jupyter-widgets/base",
          "model_name": "LayoutModel",
          "model_module_version": "1.2.0",
          "state": {
            "_model_module": "@jupyter-widgets/base",
            "_model_module_version": "1.2.0",
            "_model_name": "LayoutModel",
            "_view_count": null,
            "_view_module": "@jupyter-widgets/base",
            "_view_module_version": "1.2.0",
            "_view_name": "LayoutView",
            "align_content": null,
            "align_items": null,
            "align_self": null,
            "border": null,
            "bottom": null,
            "display": null,
            "flex": null,
            "flex_flow": null,
            "grid_area": null,
            "grid_auto_columns": null,
            "grid_auto_flow": null,
            "grid_auto_rows": null,
            "grid_column": null,
            "grid_gap": null,
            "grid_row": null,
            "grid_template_areas": null,
            "grid_template_columns": null,
            "grid_template_rows": null,
            "height": null,
            "justify_content": null,
            "justify_items": null,
            "left": null,
            "margin": null,
            "max_height": null,
            "max_width": null,
            "min_height": null,
            "min_width": null,
            "object_fit": null,
            "object_position": null,
            "order": null,
            "overflow": null,
            "overflow_x": null,
            "overflow_y": null,
            "padding": null,
            "right": null,
            "top": null,
            "visibility": null,
            "width": null
          }
        },
        "cc1e695663d14ef0804aafc8e0056773": {
          "model_module": "@jupyter-widgets/base",
          "model_name": "LayoutModel",
          "model_module_version": "1.2.0",
          "state": {
            "_model_module": "@jupyter-widgets/base",
            "_model_module_version": "1.2.0",
            "_model_name": "LayoutModel",
            "_view_count": null,
            "_view_module": "@jupyter-widgets/base",
            "_view_module_version": "1.2.0",
            "_view_name": "LayoutView",
            "align_content": null,
            "align_items": null,
            "align_self": null,
            "border": null,
            "bottom": null,
            "display": null,
            "flex": null,
            "flex_flow": null,
            "grid_area": null,
            "grid_auto_columns": null,
            "grid_auto_flow": null,
            "grid_auto_rows": null,
            "grid_column": null,
            "grid_gap": null,
            "grid_row": null,
            "grid_template_areas": null,
            "grid_template_columns": null,
            "grid_template_rows": null,
            "height": null,
            "justify_content": null,
            "justify_items": null,
            "left": null,
            "margin": null,
            "max_height": null,
            "max_width": null,
            "min_height": null,
            "min_width": null,
            "object_fit": null,
            "object_position": null,
            "order": null,
            "overflow": null,
            "overflow_x": null,
            "overflow_y": null,
            "padding": null,
            "right": null,
            "top": null,
            "visibility": null,
            "width": null
          }
        },
        "a59d2ad748b542b8ab0a563dd792d35e": {
          "model_module": "@jupyter-widgets/controls",
          "model_name": "DescriptionStyleModel",
          "model_module_version": "1.5.0",
          "state": {
            "_model_module": "@jupyter-widgets/controls",
            "_model_module_version": "1.5.0",
            "_model_name": "DescriptionStyleModel",
            "_view_count": null,
            "_view_module": "@jupyter-widgets/base",
            "_view_module_version": "1.2.0",
            "_view_name": "StyleView",
            "description_width": ""
          }
        },
        "13e656115d8a4eb095dafe94386a0d35": {
          "model_module": "@jupyter-widgets/base",
          "model_name": "LayoutModel",
          "model_module_version": "1.2.0",
          "state": {
            "_model_module": "@jupyter-widgets/base",
            "_model_module_version": "1.2.0",
            "_model_name": "LayoutModel",
            "_view_count": null,
            "_view_module": "@jupyter-widgets/base",
            "_view_module_version": "1.2.0",
            "_view_name": "LayoutView",
            "align_content": null,
            "align_items": null,
            "align_self": null,
            "border": null,
            "bottom": null,
            "display": null,
            "flex": null,
            "flex_flow": null,
            "grid_area": null,
            "grid_auto_columns": null,
            "grid_auto_flow": null,
            "grid_auto_rows": null,
            "grid_column": null,
            "grid_gap": null,
            "grid_row": null,
            "grid_template_areas": null,
            "grid_template_columns": null,
            "grid_template_rows": null,
            "height": null,
            "justify_content": null,
            "justify_items": null,
            "left": null,
            "margin": null,
            "max_height": null,
            "max_width": null,
            "min_height": null,
            "min_width": null,
            "object_fit": null,
            "object_position": null,
            "order": null,
            "overflow": null,
            "overflow_x": null,
            "overflow_y": null,
            "padding": null,
            "right": null,
            "top": null,
            "visibility": null,
            "width": null
          }
        },
        "c19a4084f5c146a28db079083a79a5ce": {
          "model_module": "@jupyter-widgets/controls",
          "model_name": "ProgressStyleModel",
          "model_module_version": "1.5.0",
          "state": {
            "_model_module": "@jupyter-widgets/controls",
            "_model_module_version": "1.5.0",
            "_model_name": "ProgressStyleModel",
            "_view_count": null,
            "_view_module": "@jupyter-widgets/base",
            "_view_module_version": "1.2.0",
            "_view_name": "StyleView",
            "bar_color": null,
            "description_width": ""
          }
        },
        "9514bda606444871b470b4bf876d6a96": {
          "model_module": "@jupyter-widgets/base",
          "model_name": "LayoutModel",
          "model_module_version": "1.2.0",
          "state": {
            "_model_module": "@jupyter-widgets/base",
            "_model_module_version": "1.2.0",
            "_model_name": "LayoutModel",
            "_view_count": null,
            "_view_module": "@jupyter-widgets/base",
            "_view_module_version": "1.2.0",
            "_view_name": "LayoutView",
            "align_content": null,
            "align_items": null,
            "align_self": null,
            "border": null,
            "bottom": null,
            "display": null,
            "flex": null,
            "flex_flow": null,
            "grid_area": null,
            "grid_auto_columns": null,
            "grid_auto_flow": null,
            "grid_auto_rows": null,
            "grid_column": null,
            "grid_gap": null,
            "grid_row": null,
            "grid_template_areas": null,
            "grid_template_columns": null,
            "grid_template_rows": null,
            "height": null,
            "justify_content": null,
            "justify_items": null,
            "left": null,
            "margin": null,
            "max_height": null,
            "max_width": null,
            "min_height": null,
            "min_width": null,
            "object_fit": null,
            "object_position": null,
            "order": null,
            "overflow": null,
            "overflow_x": null,
            "overflow_y": null,
            "padding": null,
            "right": null,
            "top": null,
            "visibility": null,
            "width": null
          }
        },
        "c293fd94c9fb41188313c45ba78f62c6": {
          "model_module": "@jupyter-widgets/controls",
          "model_name": "DescriptionStyleModel",
          "model_module_version": "1.5.0",
          "state": {
            "_model_module": "@jupyter-widgets/controls",
            "_model_module_version": "1.5.0",
            "_model_name": "DescriptionStyleModel",
            "_view_count": null,
            "_view_module": "@jupyter-widgets/base",
            "_view_module_version": "1.2.0",
            "_view_name": "StyleView",
            "description_width": ""
          }
        },
        "387e0f478b1b4e6b94d0dbf366bad5f7": {
          "model_module": "@jupyter-widgets/controls",
          "model_name": "HBoxModel",
          "model_module_version": "1.5.0",
          "state": {
            "_dom_classes": [],
            "_model_module": "@jupyter-widgets/controls",
            "_model_module_version": "1.5.0",
            "_model_name": "HBoxModel",
            "_view_count": null,
            "_view_module": "@jupyter-widgets/controls",
            "_view_module_version": "1.5.0",
            "_view_name": "HBoxView",
            "box_style": "",
            "children": [
              "IPY_MODEL_2809e695d11e4c7ab805f2230db164fe",
              "IPY_MODEL_d5ab77a456a3452cb08af77f49e8c383",
              "IPY_MODEL_8370c5f70bd64443b9d9a9913ba8e6f4"
            ],
            "layout": "IPY_MODEL_a6c565f2ce9e482ea8de22a426caaf64"
          }
        },
        "2809e695d11e4c7ab805f2230db164fe": {
          "model_module": "@jupyter-widgets/controls",
          "model_name": "HTMLModel",
          "model_module_version": "1.5.0",
          "state": {
            "_dom_classes": [],
            "_model_module": "@jupyter-widgets/controls",
            "_model_module_version": "1.5.0",
            "_model_name": "HTMLModel",
            "_view_count": null,
            "_view_module": "@jupyter-widgets/controls",
            "_view_module_version": "1.5.0",
            "_view_name": "HTMLView",
            "description": "",
            "description_tooltip": null,
            "layout": "IPY_MODEL_20712f5790ca44aab1bafa0f5b46b524",
            "placeholder": "​",
            "style": "IPY_MODEL_daf08edfad59450cb52dc2ac0f34985f",
            "value": "100%"
          }
        },
        "d5ab77a456a3452cb08af77f49e8c383": {
          "model_module": "@jupyter-widgets/controls",
          "model_name": "FloatProgressModel",
          "model_module_version": "1.5.0",
          "state": {
            "_dom_classes": [],
            "_model_module": "@jupyter-widgets/controls",
            "_model_module_version": "1.5.0",
            "_model_name": "FloatProgressModel",
            "_view_count": null,
            "_view_module": "@jupyter-widgets/controls",
            "_view_module_version": "1.5.0",
            "_view_name": "ProgressView",
            "bar_style": "success",
            "description": "",
            "description_tooltip": null,
            "layout": "IPY_MODEL_90162c4f3e8d4439aadfd3869c957076",
            "max": 1648877,
            "min": 0,
            "orientation": "horizontal",
            "style": "IPY_MODEL_b775b5d3d3644867a9f6556cdfa3cf58",
            "value": 1648877
          }
        },
        "8370c5f70bd64443b9d9a9913ba8e6f4": {
          "model_module": "@jupyter-widgets/controls",
          "model_name": "HTMLModel",
          "model_module_version": "1.5.0",
          "state": {
            "_dom_classes": [],
            "_model_module": "@jupyter-widgets/controls",
            "_model_module_version": "1.5.0",
            "_model_name": "HTMLModel",
            "_view_count": null,
            "_view_module": "@jupyter-widgets/controls",
            "_view_module_version": "1.5.0",
            "_view_name": "HTMLView",
            "description": "",
            "description_tooltip": null,
            "layout": "IPY_MODEL_09df06312f3947d596ede1a8e8c0a920",
            "placeholder": "​",
            "style": "IPY_MODEL_558793eb8fde49a4a3e629c9d175578f",
            "value": " 1648877/1648877 [00:00&lt;00:00, 57526483.70it/s]"
          }
        },
        "a6c565f2ce9e482ea8de22a426caaf64": {
          "model_module": "@jupyter-widgets/base",
          "model_name": "LayoutModel",
          "model_module_version": "1.2.0",
          "state": {
            "_model_module": "@jupyter-widgets/base",
            "_model_module_version": "1.2.0",
            "_model_name": "LayoutModel",
            "_view_count": null,
            "_view_module": "@jupyter-widgets/base",
            "_view_module_version": "1.2.0",
            "_view_name": "LayoutView",
            "align_content": null,
            "align_items": null,
            "align_self": null,
            "border": null,
            "bottom": null,
            "display": null,
            "flex": null,
            "flex_flow": null,
            "grid_area": null,
            "grid_auto_columns": null,
            "grid_auto_flow": null,
            "grid_auto_rows": null,
            "grid_column": null,
            "grid_gap": null,
            "grid_row": null,
            "grid_template_areas": null,
            "grid_template_columns": null,
            "grid_template_rows": null,
            "height": null,
            "justify_content": null,
            "justify_items": null,
            "left": null,
            "margin": null,
            "max_height": null,
            "max_width": null,
            "min_height": null,
            "min_width": null,
            "object_fit": null,
            "object_position": null,
            "order": null,
            "overflow": null,
            "overflow_x": null,
            "overflow_y": null,
            "padding": null,
            "right": null,
            "top": null,
            "visibility": null,
            "width": null
          }
        },
        "20712f5790ca44aab1bafa0f5b46b524": {
          "model_module": "@jupyter-widgets/base",
          "model_name": "LayoutModel",
          "model_module_version": "1.2.0",
          "state": {
            "_model_module": "@jupyter-widgets/base",
            "_model_module_version": "1.2.0",
            "_model_name": "LayoutModel",
            "_view_count": null,
            "_view_module": "@jupyter-widgets/base",
            "_view_module_version": "1.2.0",
            "_view_name": "LayoutView",
            "align_content": null,
            "align_items": null,
            "align_self": null,
            "border": null,
            "bottom": null,
            "display": null,
            "flex": null,
            "flex_flow": null,
            "grid_area": null,
            "grid_auto_columns": null,
            "grid_auto_flow": null,
            "grid_auto_rows": null,
            "grid_column": null,
            "grid_gap": null,
            "grid_row": null,
            "grid_template_areas": null,
            "grid_template_columns": null,
            "grid_template_rows": null,
            "height": null,
            "justify_content": null,
            "justify_items": null,
            "left": null,
            "margin": null,
            "max_height": null,
            "max_width": null,
            "min_height": null,
            "min_width": null,
            "object_fit": null,
            "object_position": null,
            "order": null,
            "overflow": null,
            "overflow_x": null,
            "overflow_y": null,
            "padding": null,
            "right": null,
            "top": null,
            "visibility": null,
            "width": null
          }
        },
        "daf08edfad59450cb52dc2ac0f34985f": {
          "model_module": "@jupyter-widgets/controls",
          "model_name": "DescriptionStyleModel",
          "model_module_version": "1.5.0",
          "state": {
            "_model_module": "@jupyter-widgets/controls",
            "_model_module_version": "1.5.0",
            "_model_name": "DescriptionStyleModel",
            "_view_count": null,
            "_view_module": "@jupyter-widgets/base",
            "_view_module_version": "1.2.0",
            "_view_name": "StyleView",
            "description_width": ""
          }
        },
        "90162c4f3e8d4439aadfd3869c957076": {
          "model_module": "@jupyter-widgets/base",
          "model_name": "LayoutModel",
          "model_module_version": "1.2.0",
          "state": {
            "_model_module": "@jupyter-widgets/base",
            "_model_module_version": "1.2.0",
            "_model_name": "LayoutModel",
            "_view_count": null,
            "_view_module": "@jupyter-widgets/base",
            "_view_module_version": "1.2.0",
            "_view_name": "LayoutView",
            "align_content": null,
            "align_items": null,
            "align_self": null,
            "border": null,
            "bottom": null,
            "display": null,
            "flex": null,
            "flex_flow": null,
            "grid_area": null,
            "grid_auto_columns": null,
            "grid_auto_flow": null,
            "grid_auto_rows": null,
            "grid_column": null,
            "grid_gap": null,
            "grid_row": null,
            "grid_template_areas": null,
            "grid_template_columns": null,
            "grid_template_rows": null,
            "height": null,
            "justify_content": null,
            "justify_items": null,
            "left": null,
            "margin": null,
            "max_height": null,
            "max_width": null,
            "min_height": null,
            "min_width": null,
            "object_fit": null,
            "object_position": null,
            "order": null,
            "overflow": null,
            "overflow_x": null,
            "overflow_y": null,
            "padding": null,
            "right": null,
            "top": null,
            "visibility": null,
            "width": null
          }
        },
        "b775b5d3d3644867a9f6556cdfa3cf58": {
          "model_module": "@jupyter-widgets/controls",
          "model_name": "ProgressStyleModel",
          "model_module_version": "1.5.0",
          "state": {
            "_model_module": "@jupyter-widgets/controls",
            "_model_module_version": "1.5.0",
            "_model_name": "ProgressStyleModel",
            "_view_count": null,
            "_view_module": "@jupyter-widgets/base",
            "_view_module_version": "1.2.0",
            "_view_name": "StyleView",
            "bar_color": null,
            "description_width": ""
          }
        },
        "09df06312f3947d596ede1a8e8c0a920": {
          "model_module": "@jupyter-widgets/base",
          "model_name": "LayoutModel",
          "model_module_version": "1.2.0",
          "state": {
            "_model_module": "@jupyter-widgets/base",
            "_model_module_version": "1.2.0",
            "_model_name": "LayoutModel",
            "_view_count": null,
            "_view_module": "@jupyter-widgets/base",
            "_view_module_version": "1.2.0",
            "_view_name": "LayoutView",
            "align_content": null,
            "align_items": null,
            "align_self": null,
            "border": null,
            "bottom": null,
            "display": null,
            "flex": null,
            "flex_flow": null,
            "grid_area": null,
            "grid_auto_columns": null,
            "grid_auto_flow": null,
            "grid_auto_rows": null,
            "grid_column": null,
            "grid_gap": null,
            "grid_row": null,
            "grid_template_areas": null,
            "grid_template_columns": null,
            "grid_template_rows": null,
            "height": null,
            "justify_content": null,
            "justify_items": null,
            "left": null,
            "margin": null,
            "max_height": null,
            "max_width": null,
            "min_height": null,
            "min_width": null,
            "object_fit": null,
            "object_position": null,
            "order": null,
            "overflow": null,
            "overflow_x": null,
            "overflow_y": null,
            "padding": null,
            "right": null,
            "top": null,
            "visibility": null,
            "width": null
          }
        },
        "558793eb8fde49a4a3e629c9d175578f": {
          "model_module": "@jupyter-widgets/controls",
          "model_name": "DescriptionStyleModel",
          "model_module_version": "1.5.0",
          "state": {
            "_model_module": "@jupyter-widgets/controls",
            "_model_module_version": "1.5.0",
            "_model_name": "DescriptionStyleModel",
            "_view_count": null,
            "_view_module": "@jupyter-widgets/base",
            "_view_module_version": "1.2.0",
            "_view_name": "StyleView",
            "description_width": ""
          }
        },
        "20bc91c42fa74bb9bb8042034ee95a6f": {
          "model_module": "@jupyter-widgets/controls",
          "model_name": "HBoxModel",
          "model_module_version": "1.5.0",
          "state": {
            "_dom_classes": [],
            "_model_module": "@jupyter-widgets/controls",
            "_model_module_version": "1.5.0",
            "_model_name": "HBoxModel",
            "_view_count": null,
            "_view_module": "@jupyter-widgets/controls",
            "_view_module_version": "1.5.0",
            "_view_name": "HBoxView",
            "box_style": "",
            "children": [
              "IPY_MODEL_7f1edfc234444faa804de361a8c053b4",
              "IPY_MODEL_a78c04a0b89245b6940ca32e8a1e8cdf",
              "IPY_MODEL_3e557644b6ca4f3e92956995497546ba"
            ],
            "layout": "IPY_MODEL_1c0a28d6e41f4740a3879924443395bd"
          }
        },
        "7f1edfc234444faa804de361a8c053b4": {
          "model_module": "@jupyter-widgets/controls",
          "model_name": "HTMLModel",
          "model_module_version": "1.5.0",
          "state": {
            "_dom_classes": [],
            "_model_module": "@jupyter-widgets/controls",
            "_model_module_version": "1.5.0",
            "_model_name": "HTMLModel",
            "_view_count": null,
            "_view_module": "@jupyter-widgets/controls",
            "_view_module_version": "1.5.0",
            "_view_name": "HTMLView",
            "description": "",
            "description_tooltip": null,
            "layout": "IPY_MODEL_f0a70f2ead2d45f1a2c37d6e4739cb75",
            "placeholder": "​",
            "style": "IPY_MODEL_ff38a25aa3604e1b975a53395418ee5f",
            "value": "100%"
          }
        },
        "a78c04a0b89245b6940ca32e8a1e8cdf": {
          "model_module": "@jupyter-widgets/controls",
          "model_name": "FloatProgressModel",
          "model_module_version": "1.5.0",
          "state": {
            "_dom_classes": [],
            "_model_module": "@jupyter-widgets/controls",
            "_model_module_version": "1.5.0",
            "_model_name": "FloatProgressModel",
            "_view_count": null,
            "_view_module": "@jupyter-widgets/controls",
            "_view_module_version": "1.5.0",
            "_view_name": "ProgressView",
            "bar_style": "success",
            "description": "",
            "description_tooltip": null,
            "layout": "IPY_MODEL_ddb310a768784cc9a473a8f022288196",
            "max": 4542,
            "min": 0,
            "orientation": "horizontal",
            "style": "IPY_MODEL_7280dba85ed64feaa7ef971a786e02d8",
            "value": 4542
          }
        },
        "3e557644b6ca4f3e92956995497546ba": {
          "model_module": "@jupyter-widgets/controls",
          "model_name": "HTMLModel",
          "model_module_version": "1.5.0",
          "state": {
            "_dom_classes": [],
            "_model_module": "@jupyter-widgets/controls",
            "_model_module_version": "1.5.0",
            "_model_name": "HTMLModel",
            "_view_count": null,
            "_view_module": "@jupyter-widgets/controls",
            "_view_module_version": "1.5.0",
            "_view_name": "HTMLView",
            "description": "",
            "description_tooltip": null,
            "layout": "IPY_MODEL_0ea52219161c4540be2ba04186195f7f",
            "placeholder": "​",
            "style": "IPY_MODEL_0ec3f0c98f8a4b50a776b9a78b8bf6cd",
            "value": " 4542/4542 [00:00&lt;00:00, 201243.65it/s]"
          }
        },
        "1c0a28d6e41f4740a3879924443395bd": {
          "model_module": "@jupyter-widgets/base",
          "model_name": "LayoutModel",
          "model_module_version": "1.2.0",
          "state": {
            "_model_module": "@jupyter-widgets/base",
            "_model_module_version": "1.2.0",
            "_model_name": "LayoutModel",
            "_view_count": null,
            "_view_module": "@jupyter-widgets/base",
            "_view_module_version": "1.2.0",
            "_view_name": "LayoutView",
            "align_content": null,
            "align_items": null,
            "align_self": null,
            "border": null,
            "bottom": null,
            "display": null,
            "flex": null,
            "flex_flow": null,
            "grid_area": null,
            "grid_auto_columns": null,
            "grid_auto_flow": null,
            "grid_auto_rows": null,
            "grid_column": null,
            "grid_gap": null,
            "grid_row": null,
            "grid_template_areas": null,
            "grid_template_columns": null,
            "grid_template_rows": null,
            "height": null,
            "justify_content": null,
            "justify_items": null,
            "left": null,
            "margin": null,
            "max_height": null,
            "max_width": null,
            "min_height": null,
            "min_width": null,
            "object_fit": null,
            "object_position": null,
            "order": null,
            "overflow": null,
            "overflow_x": null,
            "overflow_y": null,
            "padding": null,
            "right": null,
            "top": null,
            "visibility": null,
            "width": null
          }
        },
        "f0a70f2ead2d45f1a2c37d6e4739cb75": {
          "model_module": "@jupyter-widgets/base",
          "model_name": "LayoutModel",
          "model_module_version": "1.2.0",
          "state": {
            "_model_module": "@jupyter-widgets/base",
            "_model_module_version": "1.2.0",
            "_model_name": "LayoutModel",
            "_view_count": null,
            "_view_module": "@jupyter-widgets/base",
            "_view_module_version": "1.2.0",
            "_view_name": "LayoutView",
            "align_content": null,
            "align_items": null,
            "align_self": null,
            "border": null,
            "bottom": null,
            "display": null,
            "flex": null,
            "flex_flow": null,
            "grid_area": null,
            "grid_auto_columns": null,
            "grid_auto_flow": null,
            "grid_auto_rows": null,
            "grid_column": null,
            "grid_gap": null,
            "grid_row": null,
            "grid_template_areas": null,
            "grid_template_columns": null,
            "grid_template_rows": null,
            "height": null,
            "justify_content": null,
            "justify_items": null,
            "left": null,
            "margin": null,
            "max_height": null,
            "max_width": null,
            "min_height": null,
            "min_width": null,
            "object_fit": null,
            "object_position": null,
            "order": null,
            "overflow": null,
            "overflow_x": null,
            "overflow_y": null,
            "padding": null,
            "right": null,
            "top": null,
            "visibility": null,
            "width": null
          }
        },
        "ff38a25aa3604e1b975a53395418ee5f": {
          "model_module": "@jupyter-widgets/controls",
          "model_name": "DescriptionStyleModel",
          "model_module_version": "1.5.0",
          "state": {
            "_model_module": "@jupyter-widgets/controls",
            "_model_module_version": "1.5.0",
            "_model_name": "DescriptionStyleModel",
            "_view_count": null,
            "_view_module": "@jupyter-widgets/base",
            "_view_module_version": "1.2.0",
            "_view_name": "StyleView",
            "description_width": ""
          }
        },
        "ddb310a768784cc9a473a8f022288196": {
          "model_module": "@jupyter-widgets/base",
          "model_name": "LayoutModel",
          "model_module_version": "1.2.0",
          "state": {
            "_model_module": "@jupyter-widgets/base",
            "_model_module_version": "1.2.0",
            "_model_name": "LayoutModel",
            "_view_count": null,
            "_view_module": "@jupyter-widgets/base",
            "_view_module_version": "1.2.0",
            "_view_name": "LayoutView",
            "align_content": null,
            "align_items": null,
            "align_self": null,
            "border": null,
            "bottom": null,
            "display": null,
            "flex": null,
            "flex_flow": null,
            "grid_area": null,
            "grid_auto_columns": null,
            "grid_auto_flow": null,
            "grid_auto_rows": null,
            "grid_column": null,
            "grid_gap": null,
            "grid_row": null,
            "grid_template_areas": null,
            "grid_template_columns": null,
            "grid_template_rows": null,
            "height": null,
            "justify_content": null,
            "justify_items": null,
            "left": null,
            "margin": null,
            "max_height": null,
            "max_width": null,
            "min_height": null,
            "min_width": null,
            "object_fit": null,
            "object_position": null,
            "order": null,
            "overflow": null,
            "overflow_x": null,
            "overflow_y": null,
            "padding": null,
            "right": null,
            "top": null,
            "visibility": null,
            "width": null
          }
        },
        "7280dba85ed64feaa7ef971a786e02d8": {
          "model_module": "@jupyter-widgets/controls",
          "model_name": "ProgressStyleModel",
          "model_module_version": "1.5.0",
          "state": {
            "_model_module": "@jupyter-widgets/controls",
            "_model_module_version": "1.5.0",
            "_model_name": "ProgressStyleModel",
            "_view_count": null,
            "_view_module": "@jupyter-widgets/base",
            "_view_module_version": "1.2.0",
            "_view_name": "StyleView",
            "bar_color": null,
            "description_width": ""
          }
        },
        "0ea52219161c4540be2ba04186195f7f": {
          "model_module": "@jupyter-widgets/base",
          "model_name": "LayoutModel",
          "model_module_version": "1.2.0",
          "state": {
            "_model_module": "@jupyter-widgets/base",
            "_model_module_version": "1.2.0",
            "_model_name": "LayoutModel",
            "_view_count": null,
            "_view_module": "@jupyter-widgets/base",
            "_view_module_version": "1.2.0",
            "_view_name": "LayoutView",
            "align_content": null,
            "align_items": null,
            "align_self": null,
            "border": null,
            "bottom": null,
            "display": null,
            "flex": null,
            "flex_flow": null,
            "grid_area": null,
            "grid_auto_columns": null,
            "grid_auto_flow": null,
            "grid_auto_rows": null,
            "grid_column": null,
            "grid_gap": null,
            "grid_row": null,
            "grid_template_areas": null,
            "grid_template_columns": null,
            "grid_template_rows": null,
            "height": null,
            "justify_content": null,
            "justify_items": null,
            "left": null,
            "margin": null,
            "max_height": null,
            "max_width": null,
            "min_height": null,
            "min_width": null,
            "object_fit": null,
            "object_position": null,
            "order": null,
            "overflow": null,
            "overflow_x": null,
            "overflow_y": null,
            "padding": null,
            "right": null,
            "top": null,
            "visibility": null,
            "width": null
          }
        },
        "0ec3f0c98f8a4b50a776b9a78b8bf6cd": {
          "model_module": "@jupyter-widgets/controls",
          "model_name": "DescriptionStyleModel",
          "model_module_version": "1.5.0",
          "state": {
            "_model_module": "@jupyter-widgets/controls",
            "_model_module_version": "1.5.0",
            "_model_name": "DescriptionStyleModel",
            "_view_count": null,
            "_view_module": "@jupyter-widgets/base",
            "_view_module_version": "1.2.0",
            "_view_name": "StyleView",
            "description_width": ""
          }
        }
      }
    }
  },
  "cells": [
    {
      "cell_type": "markdown",
      "source": [
        "##Importing the necessary modules and  loading the dataset"
      ],
      "metadata": {
        "id": "JE6PI-0n4V_1"
      }
    },
    {
      "cell_type": "code",
      "execution_count": 1,
      "metadata": {
        "colab": {
          "base_uri": "https://localhost:8080/"
        },
        "id": "xkgJcMqPr3py",
        "outputId": "1cdb191a-46ee-4239-b891-c256ffb38070"
      },
      "outputs": [
        {
          "output_type": "stream",
          "name": "stdout",
          "text": [
            "Downloading data from https://storage.googleapis.com/tensorflow/tf-keras-datasets/train-labels-idx1-ubyte.gz\n",
            "29515/29515 [==============================] - 0s 0us/step\n",
            "Downloading data from https://storage.googleapis.com/tensorflow/tf-keras-datasets/train-images-idx3-ubyte.gz\n",
            "26421880/26421880 [==============================] - 0s 0us/step\n",
            "Downloading data from https://storage.googleapis.com/tensorflow/tf-keras-datasets/t10k-labels-idx1-ubyte.gz\n",
            "5148/5148 [==============================] - 0s 0us/step\n",
            "Downloading data from https://storage.googleapis.com/tensorflow/tf-keras-datasets/t10k-images-idx3-ubyte.gz\n",
            "4422102/4422102 [==============================] - 0s 0us/step\n",
            "x_train shape: (60000, 28, 28) y_train shape: (60000,)\n"
          ]
        }
      ],
      "source": [
        "import tensorflow as tf\n",
        "\n",
        "import numpy as np\n",
        "import matplotlib.pyplot as plt\n",
        "\n",
        "# Load the fashion-mnist pre-shuffled train data and test data\n",
        "(x_train, y_train), (x_test, y_test) = tf.keras.datasets.fashion_mnist.load_data()\n",
        "\n",
        "print(\"x_train shape:\", x_train.shape, \"y_train shape:\", y_train.shape)"
      ]
    },
    {
      "cell_type": "markdown",
      "source": [
        "## Defining the number of classes"
      ],
      "metadata": {
        "id": "o6lS_d-G4xXt"
      }
    },
    {
      "cell_type": "code",
      "source": [
        "classes=np.unique(y_train)\n",
        "n_classes=len(classes)\n",
        "print(classes)\n",
        "print(n_classes)"
      ],
      "metadata": {
        "colab": {
          "base_uri": "https://localhost:8080/"
        },
        "id": "mTQHnvrEs1kw",
        "outputId": "b26be6d5-5811-4a2f-fe2c-ee18abaa18ab"
      },
      "execution_count": 2,
      "outputs": [
        {
          "output_type": "stream",
          "name": "stdout",
          "text": [
            "[0 1 2 3 4 5 6 7 8 9]\n",
            "10\n"
          ]
        }
      ]
    },
    {
      "cell_type": "markdown",
      "source": [
        "## train and test frames"
      ],
      "metadata": {
        "id": "Jfc2MbNW4ktm"
      }
    },
    {
      "cell_type": "code",
      "source": [
        "# Print training set shape - note there are 60,000 training data of image size of 28x28, 60,000 train labels)\n",
        "print(\"x_train shape:\", x_train.shape, \"y_train shape:\", y_train.shape)\n",
        "\n",
        "# Print the number of training and test datasets\n",
        "print(x_train.shape[0], 'train set')\n",
        "print(x_test.shape[0], 'test set')"
      ],
      "metadata": {
        "colab": {
          "base_uri": "https://localhost:8080/"
        },
        "id": "tExPy51DtL9o",
        "outputId": "98bc377a-4cd6-4a23-b71e-b61e49ecaa04"
      },
      "execution_count": 3,
      "outputs": [
        {
          "output_type": "stream",
          "name": "stdout",
          "text": [
            "x_train shape: (60000, 28, 28) y_train shape: (60000,)\n",
            "60000 train set\n",
            "10000 test set\n"
          ]
        }
      ]
    },
    {
      "cell_type": "code",
      "source": [
        "import pandas as pd\n",
        "\n",
        "from tensorflow import keras\n",
        "from keras.models import Sequential\n",
        "from keras.layers import Dense\n",
        "from keras.layers import Dropout\n",
        "from keras.utils.np_utils import to_categorical"
      ],
      "metadata": {
        "id": "b20WF6w9ttun"
      },
      "execution_count": 4,
      "outputs": []
    },
    {
      "cell_type": "code",
      "source": [
        "x_train=x_train.reshape(-1,28,28,1).astype('float32')\n",
        "x_test=x_test.reshape(-1,28,28,1).astype('float32')\n",
        "\n",
        "x_train=x_train/255\n",
        "x_test=x_test/255\n",
        "\n",
        "y_train=to_categorical(y_train)"
      ],
      "metadata": {
        "id": "_jQeXF2ftcMI"
      },
      "execution_count": 5,
      "outputs": []
    },
    {
      "cell_type": "markdown",
      "source": [
        "##Splitting the X_train and y_train dataframes into a training and validation "
      ],
      "metadata": {
        "id": "INmQq2z04904"
      }
    },
    {
      "cell_type": "code",
      "source": [
        "from sklearn.model_selection import train_test_split\n",
        "\n",
        "x_train,X_valid,y_train,y_valid=train_test_split(x_train,y_train,test_size=.2,random_state=13)\n",
        "\n",
        "x_train.shape,X_valid.shape,y_train.shape,y_valid.shape"
      ],
      "metadata": {
        "colab": {
          "base_uri": "https://localhost:8080/"
        },
        "id": "MAChroBVt0r5",
        "outputId": "5536ae83-1815-4d42-de49-32cc595babf8"
      },
      "execution_count": 6,
      "outputs": [
        {
          "output_type": "execute_result",
          "data": {
            "text/plain": [
              "((48000, 28, 28, 1), (12000, 28, 28, 1), (48000, 10), (12000, 10))"
            ]
          },
          "metadata": {},
          "execution_count": 6
        }
      ]
    },
    {
      "cell_type": "markdown",
      "source": [
        "##Building and training the network"
      ],
      "metadata": {
        "id": "aaKEvWNy5FHE"
      }
    },
    {
      "cell_type": "code",
      "source": [
        "from tensorflow.keras.layers import Input\n",
        "from keras.models import Sequential,Model\n",
        "from keras.layers import Dense,Flatten,Conv2D,MaxPooling2D\n",
        "\n",
        "batch_size=100\n",
        "epochs=5\n",
        "n_classes=10"
      ],
      "metadata": {
        "id": "djTwSZW2uAUJ"
      },
      "execution_count": 7,
      "outputs": []
    },
    {
      "cell_type": "code",
      "source": [
        "fashionmodel = Sequential()\n",
        "fashionmodel.add(Conv2D(32 , kernel_size =(3 , 3) , activation='linear' , padding='same', input_shape =(28 ,28 ,1) ) )\n",
        "fashionmodel.add(MaxPooling2D ( ( 2 , 2) , padding=\"same\" ) )\n",
        "fashionmodel.add(Conv2D(64 , ( 3 , 3) , activation='linear' , padding=\"same\" ) )\n",
        "fashionmodel.add(MaxPooling2D( (2 , 2) , padding='same' ) )\n",
        "fashionmodel.add(Conv2D(128 , ( 3 , 3) , activation='linear' , padding='same' ) )\n",
        "fashionmodel.add(MaxPooling2D((2 , 2) , padding='same' ) )\n",
        "fashionmodel.add(Flatten() )\n",
        "fashionmodel.add(Dense (128 ,activation='linear' ) )\n",
        "fashionmodel.add(Dense ( n_classes ,activation='softmax' ) )\n",
        "fashionmodel.summary()"
      ],
      "metadata": {
        "colab": {
          "base_uri": "https://localhost:8080/"
        },
        "id": "752urrfiurwZ",
        "outputId": "60fb1f80-8850-4eb9-b81b-c19822b00c75"
      },
      "execution_count": 8,
      "outputs": [
        {
          "output_type": "stream",
          "name": "stdout",
          "text": [
            "Model: \"sequential\"\n",
            "_________________________________________________________________\n",
            " Layer (type)                Output Shape              Param #   \n",
            "=================================================================\n",
            " conv2d (Conv2D)             (None, 28, 28, 32)        320       \n",
            "                                                                 \n",
            " max_pooling2d (MaxPooling2D  (None, 14, 14, 32)       0         \n",
            " )                                                               \n",
            "                                                                 \n",
            " conv2d_1 (Conv2D)           (None, 14, 14, 64)        18496     \n",
            "                                                                 \n",
            " max_pooling2d_1 (MaxPooling  (None, 7, 7, 64)         0         \n",
            " 2D)                                                             \n",
            "                                                                 \n",
            " conv2d_2 (Conv2D)           (None, 7, 7, 128)         73856     \n",
            "                                                                 \n",
            " max_pooling2d_2 (MaxPooling  (None, 4, 4, 128)        0         \n",
            " 2D)                                                             \n",
            "                                                                 \n",
            " flatten (Flatten)           (None, 2048)              0         \n",
            "                                                                 \n",
            " dense (Dense)               (None, 128)               262272    \n",
            "                                                                 \n",
            " dense_1 (Dense)             (None, 10)                1290      \n",
            "                                                                 \n",
            "=================================================================\n",
            "Total params: 356,234\n",
            "Trainable params: 356,234\n",
            "Non-trainable params: 0\n",
            "_________________________________________________________________\n"
          ]
        }
      ]
    },
    {
      "cell_type": "code",
      "source": [
        "fashionmodel.compile(optimizer='adam',loss='categorical_crossentropy',metrics=['accuracy'])\n",
        "prediction=fashionmodel.fit(x_train,y_train,batch_size=100,epochs=5,verbose=1,validation_data=(X_valid,y_valid))"
      ],
      "metadata": {
        "colab": {
          "base_uri": "https://localhost:8080/"
        },
        "id": "Ld-KHkrfu_KT",
        "outputId": "71c9f2ca-16d4-4683-e765-41e9ed961986"
      },
      "execution_count": 9,
      "outputs": [
        {
          "output_type": "stream",
          "name": "stdout",
          "text": [
            "Epoch 1/5\n",
            "480/480 [==============================] - 90s 187ms/step - loss: 0.4737 - accuracy: 0.8328 - val_loss: 0.3476 - val_accuracy: 0.8778\n",
            "Epoch 2/5\n",
            "480/480 [==============================] - 89s 185ms/step - loss: 0.3111 - accuracy: 0.8898 - val_loss: 0.3033 - val_accuracy: 0.8925\n",
            "Epoch 3/5\n",
            "480/480 [==============================] - 103s 214ms/step - loss: 0.2585 - accuracy: 0.9082 - val_loss: 0.2745 - val_accuracy: 0.9016\n",
            "Epoch 4/5\n",
            "480/480 [==============================] - 91s 190ms/step - loss: 0.2279 - accuracy: 0.9184 - val_loss: 0.2672 - val_accuracy: 0.9049\n",
            "Epoch 5/5\n",
            "480/480 [==============================] - 89s 186ms/step - loss: 0.1991 - accuracy: 0.9277 - val_loss: 0.2611 - val_accuracy: 0.9076\n"
          ]
        }
      ]
    },
    {
      "cell_type": "markdown",
      "source": [
        "##Model Evaluation on Test Set"
      ],
      "metadata": {
        "id": "8Lpiefip5UuF"
      }
    },
    {
      "cell_type": "code",
      "source": [
        "evaluation=fashionmodel.evaluate(x_test,to_categorical(y_test),verbose=1)\n",
        "print(\"Test Loss: \",evaluation[0])\n",
        "print(\"Test Accuracy: \",evaluation[1])"
      ],
      "metadata": {
        "colab": {
          "base_uri": "https://localhost:8080/"
        },
        "id": "yOVEpBNZ3wrx",
        "outputId": "daa0d0f2-7595-4f4e-d78c-baa59b4a3da1"
      },
      "execution_count": 10,
      "outputs": [
        {
          "output_type": "stream",
          "name": "stdout",
          "text": [
            "313/313 [==============================] - 7s 21ms/step - loss: 0.2675 - accuracy: 0.9080\n",
            "Test Loss:  0.26749950647354126\n",
            "Test Accuracy:  0.9079999923706055\n"
          ]
        }
      ]
    },
    {
      "cell_type": "code",
      "source": [
        "accuracy=prediction.history['accuracy']\n",
        "val_accuracy=prediction.history['val_accuracy']\n",
        "loss=prediction.history['loss']\n",
        "val_loss=prediction.history['val_loss']\n",
        "epochs=range(len(accuracy))\n",
        "plt.plot(epochs,accuracy,'bo',label='Training Accuracy')\n",
        "plt.plot(epochs,val_accuracy,'b',label='Validation Accuracy')\n",
        "plt.title(\"Training & Validation Accuracy\")\n",
        "plt.legend()\n",
        "plt.figure()\n",
        "plt.plot(epochs,loss,'bo',label='Training Loss')\n",
        "plt.plot(epochs,val_loss,'b',label='Validation Loss')\n",
        "plt.title(\"Training & Validation Loss\")\n",
        "plt.legend()\n",
        "plt.show()"
      ],
      "metadata": {
        "colab": {
          "base_uri": "https://localhost:8080/",
          "height": 545
        },
        "id": "SaSCuQnp3rzr",
        "outputId": "5f1d41c6-16de-412e-975f-aa07f10f8b5d"
      },
      "execution_count": 11,
      "outputs": [
        {
          "output_type": "display_data",
          "data": {
            "text/plain": [
              "<Figure size 432x288 with 1 Axes>"
            ],
            "image/png": "[encoded data removed]"
          },
          "metadata": {
            "needs_background": "light"
          }
        },
        {
          "output_type": "display_data",
          "data": {
            "text/plain": [
              "<Figure size 432x288 with 1 Axes>"
            ],
            "image/png": "[encoded data removed]"
          },
          "metadata": {
            "needs_background": "light"
          }
        }
      ]
    },
    {
      "cell_type": "markdown",
      "source": [
        "## Building  New Model"
      ],
      "metadata": {
        "id": "Tfr-0BOq5JUk"
      }
    },
    {
      "cell_type": "code",
      "source": [
        "batch_size=100\n",
        "epochs=20\n",
        "n_classes=10"
      ],
      "metadata": {
        "id": "uYRz11HlwZmN"
      },
      "execution_count": 12,
      "outputs": []
    },
    {
      "cell_type": "code",
      "source": [
        "fashionmodel = Sequential()\n",
        "fashionmodel.add(Conv2D(32 , kernel_size =(3 , 3) , activation='relu' , padding='same', input_shape =(28 ,28 ,1) ) )\n",
        "fashionmodel.add(MaxPooling2D ( ( 2 , 2) , padding=\"same\" ) )\n",
        "fashionmodel.add(Conv2D(64 , ( 3 , 3) , activation='relu' , padding=\"same\" ) )\n",
        "fashionmodel.add(MaxPooling2D( (2 , 2) , padding='same' ) )\n",
        "fashionmodel.add(Conv2D(128 , ( 3 , 3) , activation='relu' , padding='same' ) )\n",
        "fashionmodel.add(MaxPooling2D((2 , 2) , padding='same' ) )\n",
        "fashionmodel.add(Flatten() )\n",
        "fashionmodel.add(Dense (128 ,activation='relu' ) )\n",
        "fashionmodel.add(Dense ( n_classes ,activation='softmax' ) )\n",
        "fashionmodel.summary()"
      ],
      "metadata": {
        "colab": {
          "base_uri": "https://localhost:8080/"
        },
        "id": "A6Vd3Pb6wxx_",
        "outputId": "dc37aa30-8137-4ff6-ce73-e64df947be1e"
      },
      "execution_count": 13,
      "outputs": [
        {
          "output_type": "stream",
          "name": "stdout",
          "text": [
            "Model: \"sequential_1\"\n",
            "_________________________________________________________________\n",
            " Layer (type)                Output Shape              Param #   \n",
            "=================================================================\n",
            " conv2d_3 (Conv2D)           (None, 28, 28, 32)        320       \n",
            "                                                                 \n",
            " max_pooling2d_3 (MaxPooling  (None, 14, 14, 32)       0         \n",
            " 2D)                                                             \n",
            "                                                                 \n",
            " conv2d_4 (Conv2D)           (None, 14, 14, 64)        18496     \n",
            "                                                                 \n",
            " max_pooling2d_4 (MaxPooling  (None, 7, 7, 64)         0         \n",
            " 2D)                                                             \n",
            "                                                                 \n",
            " conv2d_5 (Conv2D)           (None, 7, 7, 128)         73856     \n",
            "                                                                 \n",
            " max_pooling2d_5 (MaxPooling  (None, 4, 4, 128)        0         \n",
            " 2D)                                                             \n",
            "                                                                 \n",
            " flatten_1 (Flatten)         (None, 2048)              0         \n",
            "                                                                 \n",
            " dense_2 (Dense)             (None, 128)               262272    \n",
            "                                                                 \n",
            " dense_3 (Dense)             (None, 10)                1290      \n",
            "                                                                 \n",
            "=================================================================\n",
            "Total params: 356,234\n",
            "Trainable params: 356,234\n",
            "Non-trainable params: 0\n",
            "_________________________________________________________________\n"
          ]
        }
      ]
    },
    {
      "cell_type": "code",
      "source": [
        "fashionmodel.compile(optimizer='adam',loss='categorical_crossentropy',metrics=['accuracy'])\n",
        "prediction=fashionmodel.fit(x_train,y_train,batch_size=100,epochs=20,verbose=0,validation_data=(X_valid,y_valid))"
      ],
      "metadata": {
        "id": "mrs4yb13xIrg"
      },
      "execution_count": 14,
      "outputs": []
    },
    {
      "cell_type": "markdown",
      "source": [
        "##Model Evaluation on  Test Set"
      ],
      "metadata": {
        "id": "yALTYcQt5TSl"
      }
    },
    {
      "cell_type": "code",
      "source": [
        "evaluation=fashionmodel.evaluate(x_test,to_categorical(y_test),verbose=1)\n",
        "print(\"Test Loss: \",evaluation[0])\n",
        "print(\"Test Accuracy: \",evaluation[1])"
      ],
      "metadata": {
        "colab": {
          "base_uri": "https://localhost:8080/"
        },
        "id": "v9myBH0ux7-i",
        "outputId": "a3c9d0c6-4b4c-457f-8556-74494a5c6655"
      },
      "execution_count": 15,
      "outputs": [
        {
          "output_type": "stream",
          "name": "stdout",
          "text": [
            "313/313 [==============================] - 6s 18ms/step - loss: 0.3949 - accuracy: 0.9157\n",
            "Test Loss:  0.3948887884616852\n",
            "Test Accuracy:  0.9157000184059143\n"
          ]
        }
      ]
    },
    {
      "cell_type": "code",
      "source": [
        "accuracy=prediction.history['accuracy']\n",
        "val_accuracy=prediction.history['val_accuracy']\n",
        "loss=prediction.history['loss']\n",
        "val_loss=prediction.history['val_loss']\n",
        "epochs=range(len(accuracy))\n",
        "plt.plot(epochs,accuracy,'bo',label='Training Accuracy')\n",
        "plt.plot(epochs,val_accuracy,'b',label='Validation Accuracy')\n",
        "plt.title(\"Training & Validation Accuracy\")\n",
        "plt.legend()\n",
        "plt.figure()\n",
        "plt.plot(epochs,loss,'bo',label='Training Loss')\n",
        "plt.plot(epochs,val_loss,'b',label='Validation Loss')\n",
        "plt.title(\"Training & Validation Loss\")\n",
        "plt.legend()\n",
        "plt.show()"
      ],
      "metadata": {
        "colab": {
          "base_uri": "https://localhost:8080/",
          "height": 545
        },
        "id": "fHMG_K9myDXL",
        "outputId": "690df02a-ae46-421f-a366-8cb3bdc00e11"
      },
      "execution_count": 16,
      "outputs": [
        {
          "output_type": "display_data",
          "data": {
            "text/plain": [
              "<Figure size 432x288 with 1 Axes>"
            ],
            "image/png": "[encoded data removed]"
          },
          "metadata": {
            "needs_background": "light"
          }
        },
        {
          "output_type": "display_data",
          "data": {
            "text/plain": [
              "<Figure size 432x288 with 1 Axes>"
            ],
            "image/png": "[encoded data removed]"
          },
          "metadata": {
            "needs_background": "light"
          }
        }
      ]
    },
    {
      "cell_type": "code",
      "source": [
        "predicted_classes=fashionmodel.predict(x_test)\n",
        "predicted_classes=np.argmax(np.round(predicted_classes),axis=1)\n",
        "predicted_classes.shape,y_test.shape"
      ],
      "metadata": {
        "colab": {
          "base_uri": "https://localhost:8080/"
        },
        "id": "trJfVl-D330m",
        "outputId": "6e21c738-b476-4395-a7b8-629c08bd5555"
      },
      "execution_count": null,
      "outputs": [
        {
          "output_type": "stream",
          "name": "stdout",
          "text": [
            "313/313 [==============================] - 7s 22ms/step\n"
          ]
        },
        {
          "output_type": "execute_result",
          "data": {
            "text/plain": [
              "((10000,), (10000,))"
            ]
          },
          "metadata": {},
          "execution_count": 40
        }
      ]
    },
    {
      "cell_type": "markdown",
      "source": [
        "## Correctly predicted images"
      ],
      "metadata": {
        "id": "nhxiURoG3_G5"
      }
    },
    {
      "cell_type": "code",
      "source": [
        "\n",
        "correct=np.where(predicted_classes==y_test)[0]\n",
        "print(\"Found %d correct labels\" % len(correct))\n",
        "for i, correct in enumerate( correct[:9]):\n",
        "    plt.subplot(3,3,i+1)\n",
        "    plt.imshow( x_test[correct].reshape( 28 , 28 ) , cmap='gray' , interpolation='none')\n",
        "    plt.title(\"Predicted {} , Class {}\" .format(predicted_classes[correct],y_test[correct] ) )\n",
        "    plt.show()"
      ],
      "metadata": {
        "colab": {
          "base_uri": "https://localhost:8080/",
          "height": 1000
        },
        "id": "_p9383aQ362a",
        "outputId": "a73e66f0-88a9-461c-cc06-3ae290b1c805"
      },
      "execution_count": null,
      "outputs": [
        {
          "output_type": "stream",
          "name": "stdout",
          "text": [
            "Found 7334 correct labels\n"
          ]
        },
        {
          "output_type": "display_data",
          "data": {
            "text/plain": [
              "<Figure size 432x288 with 1 Axes>"
            ],
            "image/png": "[encoded data removed]"
          },
          "metadata": {
            "needs_background": "light"
          }
        },
        {
          "output_type": "display_data",
          "data": {
            "text/plain": [
              "<Figure size 432x288 with 1 Axes>"
            ],
            "image/png": "[encoded data removed]"
          },
          "metadata": {
            "needs_background": "light"
          }
        },
        {
          "output_type": "display_data",
          "data": {
            "text/plain": [
              "<Figure size 432x288 with 1 Axes>"
            ],
            "image/png": "[encoded data removed]"
          },
          "metadata": {
            "needs_background": "light"
          }
        },
        {
          "output_type": "display_data",
          "data": {
            "text/plain": [
              "<Figure size 432x288 with 1 Axes>"
            ],
            "image/png": "[encoded data removed]"
          },
          "metadata": {
            "needs_background": "light"
          }
        },
        {
          "output_type": "display_data",
          "data": {
            "text/plain": [
              "<Figure size 432x288 with 1 Axes>"
            ],
            "image/png": "[encoded data removed]"
          },
          "metadata": {
            "needs_background": "light"
          }
        },
        {
          "output_type": "display_data",
          "data": {
            "text/plain": [
              "<Figure size 432x288 with 1 Axes>"
            ],
            "image/png": "[encoded data removed]"
          },
          "metadata": {
            "needs_background": "light"
          }
        },
        {
          "output_type": "display_data",
          "data": {
            "text/plain": [
              "<Figure size 432x288 with 1 Axes>"
            ],
            "image/png": "[encoded data removed]"
          },
          "metadata": {
            "needs_background": "light"
          }
        },
        {
          "output_type": "display_data",
          "data": {
            "text/plain": [
              "<Figure size 432x288 with 1 Axes>"
            ],
            "image/png": "[encoded data removed]"
          },
          "metadata": {
            "needs_background": "light"
          }
        },
        {
          "output_type": "display_data",
          "data": {
            "text/plain": [
              "<Figure size 432x288 with 1 Axes>"
            ],
            "image/png": "[encoded data removed]"
          },
          "metadata": {
            "needs_background": "light"
          }
        }
      ]
    },
    {
      "cell_type": "markdown",
      "source": [
        "##Incorrectly predicted images"
      ],
      "metadata": {
        "id": "DnJmMr5W5mO4"
      }
    },
    {
      "cell_type": "code",
      "source": [
        "incorrect=np.where(predicted_classes!=y_test)[0]\n",
        "print(\"Found %d incorrect labels\" % len(incorrect))\n",
        "for i, incorrect in enumerate( incorrect[:9]):\n",
        "    plt.subplot(3,3,i+1)\n",
        "    plt.imshow( x_test[incorrect].reshape( 28 , 28 ) , cmap='gray' , interpolation='none')\n",
        "    plt.title(\"Predicted {} , Class {}\" .format(predicted_classes[incorrect],y_test[incorrect] ) )\n",
        "    plt.show()"
      ],
      "metadata": {
        "colab": {
          "base_uri": "https://localhost:8080/",
          "height": 1000
        },
        "id": "H4d6NO0g4KQT",
        "outputId": "53502b8d-ae75-4d6f-e831-0901a9502885"
      },
      "execution_count": null,
      "outputs": [
        {
          "output_type": "stream",
          "name": "stdout",
          "text": [
            "Found 2666 incorrect labels\n"
          ]
        },
        {
          "output_type": "display_data",
          "data": {
            "text/plain": [
              "<Figure size 432x288 with 1 Axes>"
            ],
            "image/png": "[encoded data removed]"
          },
          "metadata": {
            "needs_background": "light"
          }
        },
        {
          "output_type": "display_data",
          "data": {
            "text/plain": [
              "<Figure size 432x288 with 1 Axes>"
            ],
            "image/png": "[encoded data removed]"
          },
          "metadata": {
            "needs_background": "light"
          }
        },
        {
          "output_type": "display_data",
          "data": {
            "text/plain": [
              "<Figure size 432x288 with 1 Axes>"
            ],
            "image/png": "[encoded data removed]"
          },
          "metadata": {
            "needs_background": "light"
          }
        },
        {
          "output_type": "display_data",
          "data": {
            "text/plain": [
              "<Figure size 432x288 with 1 Axes>"
            ],
            "image/png": "[encoded data removed]"
          },
          "metadata": {
            "needs_background": "light"
          }
        },
        {
          "output_type": "display_data",
          "data": {
            "text/plain": [
              "<Figure size 432x288 with 1 Axes>"
            ],
            "image/png": "[encoded data removed]"
          },
          "metadata": {
            "needs_background": "light"
          }
        },
        {
          "output_type": "display_data",
          "data": {
            "text/plain": [
              "<Figure size 432x288 with 1 Axes>"
            ],
            "image/png": "[encoded data removed]"
          },
          "metadata": {
            "needs_background": "light"
          }
        },
        {
          "output_type": "display_data",
          "data": {
            "text/plain": [
              "<Figure size 432x288 with 1 Axes>"
            ],
            "image/png": "[encoded data removed]"
          },
          "metadata": {
            "needs_background": "light"
          }
        },
        {
          "output_type": "display_data",
          "data": {
            "text/plain": [
              "<Figure size 432x288 with 1 Axes>"
            ],
            "image/png": "[encoded data removed]"
          },
          "metadata": {
            "needs_background": "light"
          }
        },
        {
          "output_type": "display_data",
          "data": {
            "text/plain": [
              "<Figure size 432x288 with 1 Axes>"
            ],
            "image/png": "[encoded data removed]"
          },
          "metadata": {
            "needs_background": "light"
          }
        }
      ]
    },
    {
      "cell_type": "markdown",
      "source": [
        "##Code Using Definition methods"
      ],
      "metadata": {
        "id": "dbzzw3jOAqto"
      }
    },
    {
      "cell_type": "code",
      "source": [
        "import torch.nn as nn\n",
        "import torch.nn.functional as F\n",
        "import torch.optim as optim"
      ],
      "metadata": {
        "id": "hdNV2J78-Mtz"
      },
      "execution_count": null,
      "outputs": []
    },
    {
      "cell_type": "code",
      "source": [
        "import torch\n",
        "import torchvision"
      ],
      "metadata": {
        "id": "427JBGV6AQiw"
      },
      "execution_count": null,
      "outputs": []
    },
    {
      "cell_type": "code",
      "source": [
        "n_epochs = 3\n",
        "batch_size_train = 64\n",
        "batch_size_test = 1000\n",
        "learning_rate = 0.01\n",
        "momentum = 0.5\n",
        "log_interval = 10\n",
        "\n",
        "random_seed = 28\n",
        "torch.backends.cudnn.enabled = False\n",
        "torch.manual_seed(random_seed)"
      ],
      "metadata": {
        "colab": {
          "base_uri": "https://localhost:8080/"
        },
        "id": "g18qDe3wAKbi",
        "outputId": "8b9cceb4-00ff-4616-be31-086ae24dad95"
      },
      "execution_count": null,
      "outputs": [
        {
          "output_type": "execute_result",
          "data": {
            "text/plain": [
              "<torch._C.Generator at 0x7fa22f8c0b50>"
            ]
          },
          "metadata": {},
          "execution_count": 3
        }
      ]
    },
    {
      "cell_type": "code",
      "source": [
        "class Net(nn.Module):\n",
        "    def __init__(self):\n",
        "        super(Net, self).__init__()\n",
        "        self.conv1 = nn.Conv2d(1, 10, kernel_size=5)\n",
        "        self.conv2 = nn.Conv2d(10, 20, kernel_size=5)\n",
        "        self.conv2_drop = nn.Dropout2d()\n",
        "        self.fc1 = nn.Linear(320, 50)\n",
        "        self.fc2 = nn.Linear(50, 10)\n",
        "\n",
        "    def forward(self, x):\n",
        "        x = F.relu(F.max_pool2d(self.conv1(x), 2))\n",
        "        x = F.relu(F.max_pool2d(self.conv2_drop(self.conv2(x)), 2))\n",
        "        x = x.view(-1, 320)\n",
        "        x = F.relu(self.fc1(x))\n",
        "        x = F.dropout(x, training=self.training)\n",
        "        x = self.fc2(x)\n",
        "        return F.log_softmax(x)"
      ],
      "metadata": {
        "id": "SNn0I5A6-Pby"
      },
      "execution_count": null,
      "outputs": []
    },
    {
      "cell_type": "code",
      "source": [
        "network = Net()\n",
        "optimizer = optim.SGD(network.parameters(), lr=0.1,\n",
        "                      momentum=momentum)"
      ],
      "metadata": {
        "id": "1GrAlSji-Ris"
      },
      "execution_count": null,
      "outputs": []
    },
    {
      "cell_type": "code",
      "source": [
        "train_loader = torch.utils.data.DataLoader(\n",
        "  torchvision.datasets.MNIST('train_images', train=True, download=True,\n",
        "                             transform=torchvision.transforms.Compose([\n",
        "                               torchvision.transforms.ToTensor(),\n",
        "                               torchvision.transforms.Normalize(\n",
        "                                 (0.1307,), (0.3081,))\n",
        "                             ])),\n",
        "  batch_size=batch_size_train, shuffle=True)\n",
        "\n",
        "test_loader = torch.utils.data.DataLoader(\n",
        "  torchvision.datasets.MNIST('test_images', train=False, download=True,\n",
        "                             transform=torchvision.transforms.Compose([\n",
        "                               torchvision.transforms.ToTensor(),\n",
        "                               torchvision.transforms.Normalize(\n",
        "                                 (0.1307,), (0.3081,))\n",
        "                             ])),\n",
        "  batch_size=batch_size_test, shuffle=True)"
      ],
      "metadata": {
        "colab": {
          "base_uri": "https://localhost:8080/",
          "height": 828,
          "referenced_widgets": [
            "94fb7f2360924eec88db591e7f7dd4e1",
            "17e2ea4b87184a2fa331b145a97e7dd0",
            "c5907a0e91f44d85b22cfc60bfe4af10",
            "f40a8d49921646f4ba7ff80306b5d66d",
            "bdeb5c431b674fdf869eacf9d12a4dd1",
            "444038d217b046d0a2eb74caceb4c8ae",
            "d3d58d9e42234b189fba500778992e27",
            "f5615303a84e41abad769bf9166f028a",
            "5d0fb1a8e7e54989a4940193dac10d95",
            "3763b9fb7d2c4a76a0b77401d14c9216",
            "5cab5c3e1aa14ac386fcea1d4f262caf",
            "5059efa97ebd481a9fddef548520731e",
            "ba0ae73825a2475ea6b27fab51ec9822",
            "be24e2d962a94704bb902f8ef1366399",
            "3404a32c37724d45acecd2da22cce9f3",
            "378a4ec494324a778e8d5f5907cf5ada",
            "e3c12700b0a74d0783830d0fc4a5d2ec",
            "3349f83d2fcb44a596f74c465d0f73f2",
            "3a8b49d7b0f14c24a21f4d10e754dfcb",
            "dea2feac65254415af7a9e87775015ef",
            "9e9ee3307a074f89bf7ed348d7cca21e",
            "2da077740b114edb97f09f19b6ce5bea",
            "ac3fe14c8ddb440981e212ceeccac442",
            "1fcfda9fd2984ed5b394f12898829c15",
            "66663cc008c54c54991c73bbbc2302b0",
            "d525da57b9f14e7781734fd73d3d6f31",
            "9ca6f0979f5a40fc9b87b18594bc8444",
            "e00117aa915c44ddaf3c9003143a3bfb",
            "0867f6d4fb8e47faae9d89c62e4cabb8",
            "67e340fd44f147bbadff331ff0bb6500",
            "f5f4ccdee1c94be0ada206eef4cf9703",
            "d597beff82d04360ac4ceaa96fa28aa9",
            "a0b9f778138f4737bc0d71956206122a",
            "c14beb6f3a3e4bbaba7d6f7b3c33b1a3",
            "facc3763eb49466eb904a5deeb1bae65",
            "c80806513de844be9cbfecb4cc97ff03",
            "db99cbfc585b413ca1c9fa4e2478ecf7",
            "2d32fbcb99f44719b238cf832170ee37",
            "7280b220e6cd4398a3292c62c9d759b1",
            "0fb2df8acaa44a758c3b90e3599ff43c",
            "7d3a678051ba4da59ab8d816587b3d6b",
            "ab6fcd4d589d461e81b8ad9089fe955b",
            "89051be8ee234c6dac9708d20deeabb8",
            "c56b5f28a1a5404598d43e9332c888de",
            "e2cceb25452e462c84401351bd2294be",
            "4c8480c2d7084976b90fdcbc209182c5",
            "c4e969ed35c440c9b73711fce436a768",
            "fc01502225304cd39ee432639fcc6104",
            "26cb3aeea35442c597213abb920129fb",
            "ffa63f41b67f49e3a9b43f65d2c6b1bd",
            "b51f8ef02e4c4c968a9bbd56eb2b10e9",
            "2b5a724a04c7420b98239517a0f24df1",
            "38dcfaca9b45412286ba0010f905cdd1",
            "a7088a29c36b49de9cb8a318b571f637",
            "d197438b1dbd43759e28ff8ddba578d4",
            "7b41899cb95945dea3a3794f51eabe5f",
            "4e130f5a79c84a94bc39d05ced6fa9b9",
            "8ff0d2812f734af481581be92a23f2de",
            "0ea41fb9b0c744e68fb4f2c0950c97fe",
            "9711a77cf2bc4bdb8f6b1637f81a5007",
            "cc1e695663d14ef0804aafc8e0056773",
            "a59d2ad748b542b8ab0a563dd792d35e",
            "13e656115d8a4eb095dafe94386a0d35",
            "c19a4084f5c146a28db079083a79a5ce",
            "9514bda606444871b470b4bf876d6a96",
            "c293fd94c9fb41188313c45ba78f62c6",
            "387e0f478b1b4e6b94d0dbf366bad5f7",
            "2809e695d11e4c7ab805f2230db164fe",
            "d5ab77a456a3452cb08af77f49e8c383",
            "8370c5f70bd64443b9d9a9913ba8e6f4",
            "a6c565f2ce9e482ea8de22a426caaf64",
            "20712f5790ca44aab1bafa0f5b46b524",
            "daf08edfad59450cb52dc2ac0f34985f",
            "90162c4f3e8d4439aadfd3869c957076",
            "b775b5d3d3644867a9f6556cdfa3cf58",
            "09df06312f3947d596ede1a8e8c0a920",
            "558793eb8fde49a4a3e629c9d175578f",
            "20bc91c42fa74bb9bb8042034ee95a6f",
            "7f1edfc234444faa804de361a8c053b4",
            "a78c04a0b89245b6940ca32e8a1e8cdf",
            "3e557644b6ca4f3e92956995497546ba",
            "1c0a28d6e41f4740a3879924443395bd",
            "f0a70f2ead2d45f1a2c37d6e4739cb75",
            "ff38a25aa3604e1b975a53395418ee5f",
            "ddb310a768784cc9a473a8f022288196",
            "7280dba85ed64feaa7ef971a786e02d8",
            "0ea52219161c4540be2ba04186195f7f",
            "0ec3f0c98f8a4b50a776b9a78b8bf6cd"
          ]
        },
        "id": "exJ3dzwTAdhs",
        "outputId": "abdbe0c2-cee3-44b3-bbb1-e0fd9c1e1d5c"
      },
      "execution_count": null,
      "outputs": [
        {
          "output_type": "stream",
          "name": "stdout",
          "text": [
            "Downloading http://yann.lecun.com/exdb/mnist/train-images-idx3-ubyte.gz\n",
            "Downloading http://yann.lecun.com/exdb/mnist/train-images-idx3-ubyte.gz to train_images/MNIST/raw/train-images-idx3-ubyte.gz\n"
          ]
        },
        {
          "output_type": "display_data",
          "data": {
            "text/plain": [
              "  0%|          | 0/9912422 [00:00<?, ?it/s]"
            ],
            "application/vnd.jupyter.widget-view+json": {
              "version_major": 2,
              "version_minor": 0,
              "model_id": "94fb7f2360924eec88db591e7f7dd4e1"
            }
          },
          "metadata": {}
        },
        {
          "output_type": "stream",
          "name": "stdout",
          "text": [
            "Extracting train_images/MNIST/raw/train-images-idx3-ubyte.gz to train_images/MNIST/raw\n",
            "\n",
            "Downloading http://yann.lecun.com/exdb/mnist/train-labels-idx1-ubyte.gz\n",
            "Downloading http://yann.lecun.com/exdb/mnist/train-labels-idx1-ubyte.gz to train_images/MNIST/raw/train-labels-idx1-ubyte.gz\n"
          ]
        },
        {
          "output_type": "display_data",
          "data": {
            "text/plain": [
              "  0%|          | 0/28881 [00:00<?, ?it/s]"
            ],
            "application/vnd.jupyter.widget-view+json": {
              "version_major": 2,
              "version_minor": 0,
              "model_id": "5059efa97ebd481a9fddef548520731e"
            }
          },
          "metadata": {}
        },
        {
          "output_type": "stream",
          "name": "stdout",
          "text": [
            "Extracting train_images/MNIST/raw/train-labels-idx1-ubyte.gz to train_images/MNIST/raw\n",
            "\n",
            "Downloading http://yann.lecun.com/exdb/mnist/t10k-images-idx3-ubyte.gz\n",
            "Downloading http://yann.lecun.com/exdb/mnist/t10k-images-idx3-ubyte.gz to train_images/MNIST/raw/t10k-images-idx3-ubyte.gz\n"
          ]
        },
        {
          "output_type": "display_data",
          "data": {
            "text/plain": [
              "  0%|          | 0/1648877 [00:00<?, ?it/s]"
            ],
            "application/vnd.jupyter.widget-view+json": {
              "version_major": 2,
              "version_minor": 0,
              "model_id": "ac3fe14c8ddb440981e212ceeccac442"
            }
          },
          "metadata": {}
        },
        {
          "output_type": "stream",
          "name": "stdout",
          "text": [
            "Extracting train_images/MNIST/raw/t10k-images-idx3-ubyte.gz to train_images/MNIST/raw\n",
            "\n",
            "Downloading http://yann.lecun.com/exdb/mnist/t10k-labels-idx1-ubyte.gz\n",
            "Downloading http://yann.lecun.com/exdb/mnist/t10k-labels-idx1-ubyte.gz to train_images/MNIST/raw/t10k-labels-idx1-ubyte.gz\n"
          ]
        },
        {
          "output_type": "display_data",
          "data": {
            "text/plain": [
              "  0%|          | 0/4542 [00:00<?, ?it/s]"
            ],
            "application/vnd.jupyter.widget-view+json": {
              "version_major": 2,
              "version_minor": 0,
              "model_id": "c14beb6f3a3e4bbaba7d6f7b3c33b1a3"
            }
          },
          "metadata": {}
        },
        {
          "output_type": "stream",
          "name": "stdout",
          "text": [
            "Extracting train_images/MNIST/raw/t10k-labels-idx1-ubyte.gz to train_images/MNIST/raw\n",
            "\n",
            "Downloading http://yann.lecun.com/exdb/mnist/train-images-idx3-ubyte.gz\n",
            "Downloading http://yann.lecun.com/exdb/mnist/train-images-idx3-ubyte.gz to test_images/MNIST/raw/train-images-idx3-ubyte.gz\n"
          ]
        },
        {
          "output_type": "display_data",
          "data": {
            "text/plain": [
              "  0%|          | 0/9912422 [00:00<?, ?it/s]"
            ],
            "application/vnd.jupyter.widget-view+json": {
              "version_major": 2,
              "version_minor": 0,
              "model_id": "e2cceb25452e462c84401351bd2294be"
            }
          },
          "metadata": {}
        },
        {
          "output_type": "stream",
          "name": "stdout",
          "text": [
            "Extracting test_images/MNIST/raw/train-images-idx3-ubyte.gz to test_images/MNIST/raw\n",
            "\n",
            "Downloading http://yann.lecun.com/exdb/mnist/train-labels-idx1-ubyte.gz\n",
            "Downloading http://yann.lecun.com/exdb/mnist/train-labels-idx1-ubyte.gz to test_images/MNIST/raw/train-labels-idx1-ubyte.gz\n"
          ]
        },
        {
          "output_type": "display_data",
          "data": {
            "text/plain": [
              "  0%|          | 0/28881 [00:00<?, ?it/s]"
            ],
            "application/vnd.jupyter.widget-view+json": {
              "version_major": 2,
              "version_minor": 0,
              "model_id": "7b41899cb95945dea3a3794f51eabe5f"
            }
          },
          "metadata": {}
        },
        {
          "output_type": "stream",
          "name": "stdout",
          "text": [
            "Extracting test_images/MNIST/raw/train-labels-idx1-ubyte.gz to test_images/MNIST/raw\n",
            "\n",
            "Downloading http://yann.lecun.com/exdb/mnist/t10k-images-idx3-ubyte.gz\n",
            "Downloading http://yann.lecun.com/exdb/mnist/t10k-images-idx3-ubyte.gz to test_images/MNIST/raw/t10k-images-idx3-ubyte.gz\n"
          ]
        },
        {
          "output_type": "display_data",
          "data": {
            "text/plain": [
              "  0%|          | 0/1648877 [00:00<?, ?it/s]"
            ],
            "application/vnd.jupyter.widget-view+json": {
              "version_major": 2,
              "version_minor": 0,
              "model_id": "387e0f478b1b4e6b94d0dbf366bad5f7"
            }
          },
          "metadata": {}
        },
        {
          "output_type": "stream",
          "name": "stdout",
          "text": [
            "Extracting test_images/MNIST/raw/t10k-images-idx3-ubyte.gz to test_images/MNIST/raw\n",
            "\n",
            "Downloading http://yann.lecun.com/exdb/mnist/t10k-labels-idx1-ubyte.gz\n",
            "Downloading http://yann.lecun.com/exdb/mnist/t10k-labels-idx1-ubyte.gz to test_images/MNIST/raw/t10k-labels-idx1-ubyte.gz\n"
          ]
        },
        {
          "output_type": "display_data",
          "data": {
            "text/plain": [
              "  0%|          | 0/4542 [00:00<?, ?it/s]"
            ],
            "application/vnd.jupyter.widget-view+json": {
              "version_major": 2,
              "version_minor": 0,
              "model_id": "20bc91c42fa74bb9bb8042034ee95a6f"
            }
          },
          "metadata": {}
        },
        {
          "output_type": "stream",
          "name": "stdout",
          "text": [
            "Extracting test_images/MNIST/raw/t10k-labels-idx1-ubyte.gz to test_images/MNIST/raw\n",
            "\n"
          ]
        }
      ]
    },
    {
      "cell_type": "code",
      "source": [
        "train_losses = []\n",
        "train_counter = []\n",
        "test_losses = []\n",
        "test_counter = [i*len(train_loader.dataset) for i in range(n_epochs + 1)]"
      ],
      "metadata": {
        "id": "o8clYJmS-ShQ"
      },
      "execution_count": null,
      "outputs": []
    },
    {
      "cell_type": "code",
      "source": [
        "def train(epoch):\n",
        "  network.train()\n",
        "  for batch_idx, (data, target) in enumerate(train_loader):\n",
        "    optimizer.zero_grad()\n",
        "    output = network(data)\n",
        "    loss = F.nll_loss(output, target)\n",
        "    loss.backward()\n",
        "    optimizer.step()\n",
        "    if batch_idx % log_interval == 0:\n",
        "      print('Train Epoch: {} [{}/{} ({:.0f}%)]\\tLoss: {:.6f}'.format(\n",
        "        epoch, batch_idx * len(data), len(train_loader.dataset),\n",
        "        100. * batch_idx / len(train_loader), loss.item()))\n",
        "      train_losses.append(loss.item())\n",
        "      train_counter.append(\n",
        "        (batch_idx*64) + ((epoch-1)*len(train_loader.dataset)))\n",
        "      torch.save(network.state_dict(), 'model.pth')\n",
        "      torch.save(optimizer.state_dict(), 'optimizer.pth')"
      ],
      "metadata": {
        "id": "vA12iovO-Sca"
      },
      "execution_count": null,
      "outputs": []
    },
    {
      "cell_type": "code",
      "source": [
        "def test():\n",
        "  network.eval()\n",
        "  test_loss = 0\n",
        "  correct = 0\n",
        "  with torch.no_grad():\n",
        "    for data, target in test_loader:\n",
        "      output = network(data)\n",
        "      test_loss += F.nll_loss(output, target, size_average=False).item()\n",
        "      pred = output.data.max(1, keepdim=True)[1]\n",
        "      correct += pred.eq(target.data.view_as(pred)).sum()\n",
        "  test_loss /= len(test_loader.dataset)\n",
        "  test_losses.append(test_loss)\n",
        "  print('\\nTest set: Avg. loss: {:.4f}, Accuracy: {}/{} ({:.0f}%)\\n'.format(\n",
        "    test_loss, correct, len(test_loader.dataset),\n",
        "    100. * correct / len(test_loader.dataset)))"
      ],
      "metadata": {
        "id": "TyBcDtEq-Zqb"
      },
      "execution_count": null,
      "outputs": []
    },
    {
      "cell_type": "code",
      "source": [
        "# test()\n",
        "for epoch in range(1, n_epochs + 1):\n",
        "  train(epoch)\n",
        "  test()"
      ],
      "metadata": {
        "colab": {
          "base_uri": "https://localhost:8080/"
        },
        "id": "c1GIpEVX-ajX",
        "outputId": "75aa11c8-c005-4ec2-a159-ced95450346a"
      },
      "execution_count": null,
      "outputs": [
        {
          "output_type": "stream",
          "name": "stderr",
          "text": [
            "<ipython-input-4-6c2218f37724>:17: UserWarning: Implicit dimension choice for log_softmax has been deprecated. Change the call to include dim=X as an argument.\n",
            "  return F.log_softmax(x)\n"
          ]
        },
        {
          "output_type": "stream",
          "name": "stdout",
          "text": [
            "Train Epoch: 1 [0/60000 (0%)]\tLoss: 2.261890\n",
            "Train Epoch: 1 [640/60000 (1%)]\tLoss: 2.233091\n",
            "Train Epoch: 1 [1280/60000 (2%)]\tLoss: 1.606303\n",
            "Train Epoch: 1 [1920/60000 (3%)]\tLoss: 1.076151\n",
            "Train Epoch: 1 [2560/60000 (4%)]\tLoss: 0.802985\n",
            "Train Epoch: 1 [3200/60000 (5%)]\tLoss: 0.691942\n",
            "Train Epoch: 1 [3840/60000 (6%)]\tLoss: 1.129568\n",
            "Train Epoch: 1 [4480/60000 (7%)]\tLoss: 0.709564\n",
            "Train Epoch: 1 [5120/60000 (9%)]\tLoss: 0.543057\n",
            "Train Epoch: 1 [5760/60000 (10%)]\tLoss: 0.728339\n",
            "Train Epoch: 1 [6400/60000 (11%)]\tLoss: 0.580196\n",
            "Train Epoch: 1 [7040/60000 (12%)]\tLoss: 0.717960\n",
            "Train Epoch: 1 [7680/60000 (13%)]\tLoss: 0.602795\n",
            "Train Epoch: 1 [8320/60000 (14%)]\tLoss: 0.508886\n",
            "Train Epoch: 1 [8960/60000 (15%)]\tLoss: 0.646001\n",
            "Train Epoch: 1 [9600/60000 (16%)]\tLoss: 0.552537\n",
            "Train Epoch: 1 [10240/60000 (17%)]\tLoss: 0.528103\n",
            "Train Epoch: 1 [10880/60000 (18%)]\tLoss: 0.380038\n",
            "Train Epoch: 1 [11520/60000 (19%)]\tLoss: 0.598374\n",
            "Train Epoch: 1 [12160/60000 (20%)]\tLoss: 0.509218\n",
            "Train Epoch: 1 [12800/60000 (21%)]\tLoss: 0.688280\n",
            "Train Epoch: 1 [13440/60000 (22%)]\tLoss: 0.501353\n",
            "Train Epoch: 1 [14080/60000 (23%)]\tLoss: 0.348561\n",
            "Train Epoch: 1 [14720/60000 (25%)]\tLoss: 0.540881\n",
            "Train Epoch: 1 [15360/60000 (26%)]\tLoss: 0.534509\n",
            "Train Epoch: 1 [16000/60000 (27%)]\tLoss: 0.608007\n",
            "Train Epoch: 1 [16640/60000 (28%)]\tLoss: 0.375592\n",
            "Train Epoch: 1 [17280/60000 (29%)]\tLoss: 0.459616\n",
            "Train Epoch: 1 [17920/60000 (30%)]\tLoss: 0.433101\n",
            "Train Epoch: 1 [18560/60000 (31%)]\tLoss: 0.253639\n",
            "Train Epoch: 1 [19200/60000 (32%)]\tLoss: 0.376709\n",
            "Train Epoch: 1 [19840/60000 (33%)]\tLoss: 0.629071\n",
            "Train Epoch: 1 [20480/60000 (34%)]\tLoss: 0.532434\n",
            "Train Epoch: 1 [21120/60000 (35%)]\tLoss: 0.264074\n",
            "Train Epoch: 1 [21760/60000 (36%)]\tLoss: 0.217117\n",
            "Train Epoch: 1 [22400/60000 (37%)]\tLoss: 0.251383\n",
            "Train Epoch: 1 [23040/60000 (38%)]\tLoss: 0.309058\n",
            "Train Epoch: 1 [23680/60000 (39%)]\tLoss: 0.440530\n",
            "Train Epoch: 1 [24320/60000 (41%)]\tLoss: 0.495204\n",
            "Train Epoch: 1 [24960/60000 (42%)]\tLoss: 0.441371\n",
            "Train Epoch: 1 [25600/60000 (43%)]\tLoss: 0.388706\n",
            "Train Epoch: 1 [26240/60000 (44%)]\tLoss: 0.323178\n",
            "Train Epoch: 1 [26880/60000 (45%)]\tLoss: 0.342435\n",
            "Train Epoch: 1 [27520/60000 (46%)]\tLoss: 0.294792\n",
            "Train Epoch: 1 [28160/60000 (47%)]\tLoss: 0.541626\n",
            "Train Epoch: 1 [28800/60000 (48%)]\tLoss: 0.370876\n",
            "Train Epoch: 1 [29440/60000 (49%)]\tLoss: 0.345292\n",
            "Train Epoch: 1 [30080/60000 (50%)]\tLoss: 0.459080\n",
            "Train Epoch: 1 [30720/60000 (51%)]\tLoss: 0.384094\n",
            "Train Epoch: 1 [31360/60000 (52%)]\tLoss: 0.406026\n",
            "Train Epoch: 1 [32000/60000 (53%)]\tLoss: 0.372004\n",
            "Train Epoch: 1 [32640/60000 (54%)]\tLoss: 0.377421\n",
            "Train Epoch: 1 [33280/60000 (55%)]\tLoss: 0.460814\n",
            "Train Epoch: 1 [33920/60000 (57%)]\tLoss: 0.343229\n",
            "Train Epoch: 1 [34560/60000 (58%)]\tLoss: 0.310079\n",
            "Train Epoch: 1 [35200/60000 (59%)]\tLoss: 0.577126\n",
            "Train Epoch: 1 [35840/60000 (60%)]\tLoss: 0.668771\n",
            "Train Epoch: 1 [36480/60000 (61%)]\tLoss: 0.258201\n",
            "Train Epoch: 1 [37120/60000 (62%)]\tLoss: 0.356026\n",
            "Train Epoch: 1 [37760/60000 (63%)]\tLoss: 0.370789\n",
            "Train Epoch: 1 [38400/60000 (64%)]\tLoss: 0.464349\n",
            "Train Epoch: 1 [39040/60000 (65%)]\tLoss: 0.167756\n",
            "Train Epoch: 1 [39680/60000 (66%)]\tLoss: 0.205818\n",
            "Train Epoch: 1 [40320/60000 (67%)]\tLoss: 0.291080\n",
            "Train Epoch: 1 [40960/60000 (68%)]\tLoss: 0.299307\n",
            "Train Epoch: 1 [41600/60000 (69%)]\tLoss: 0.233767\n",
            "Train Epoch: 1 [42240/60000 (70%)]\tLoss: 0.261659\n",
            "Train Epoch: 1 [42880/60000 (71%)]\tLoss: 0.391766\n",
            "Train Epoch: 1 [43520/60000 (72%)]\tLoss: 0.335767\n",
            "Train Epoch: 1 [44160/60000 (74%)]\tLoss: 0.315081\n",
            "Train Epoch: 1 [44800/60000 (75%)]\tLoss: 0.447246\n",
            "Train Epoch: 1 [45440/60000 (76%)]\tLoss: 0.243294\n",
            "Train Epoch: 1 [46080/60000 (77%)]\tLoss: 0.381296\n",
            "Train Epoch: 1 [46720/60000 (78%)]\tLoss: 0.358292\n",
            "Train Epoch: 1 [47360/60000 (79%)]\tLoss: 0.416082\n",
            "Train Epoch: 1 [48000/60000 (80%)]\tLoss: 0.269586\n",
            "Train Epoch: 1 [48640/60000 (81%)]\tLoss: 0.244294\n",
            "Train Epoch: 1 [49280/60000 (82%)]\tLoss: 0.259929\n",
            "Train Epoch: 1 [49920/60000 (83%)]\tLoss: 0.208441\n",
            "Train Epoch: 1 [50560/60000 (84%)]\tLoss: 0.297055\n",
            "Train Epoch: 1 [51200/60000 (85%)]\tLoss: 0.557920\n",
            "Train Epoch: 1 [51840/60000 (86%)]\tLoss: 0.297347\n",
            "Train Epoch: 1 [52480/60000 (87%)]\tLoss: 0.220669\n",
            "Train Epoch: 1 [53120/60000 (88%)]\tLoss: 0.385421\n",
            "Train Epoch: 1 [53760/60000 (90%)]\tLoss: 0.346691\n",
            "Train Epoch: 1 [54400/60000 (91%)]\tLoss: 0.418570\n",
            "Train Epoch: 1 [55040/60000 (92%)]\tLoss: 0.540757\n",
            "Train Epoch: 1 [55680/60000 (93%)]\tLoss: 0.209630\n",
            "Train Epoch: 1 [56320/60000 (94%)]\tLoss: 0.261187\n",
            "Train Epoch: 1 [56960/60000 (95%)]\tLoss: 0.490354\n",
            "Train Epoch: 1 [57600/60000 (96%)]\tLoss: 0.323657\n",
            "Train Epoch: 1 [58240/60000 (97%)]\tLoss: 0.124184\n",
            "Train Epoch: 1 [58880/60000 (98%)]\tLoss: 0.272527\n",
            "Train Epoch: 1 [59520/60000 (99%)]\tLoss: 0.297101\n"
          ]
        },
        {
          "output_type": "stream",
          "name": "stderr",
          "text": [
            "/usr/local/lib/python3.8/dist-packages/torch/nn/_reduction.py:42: UserWarning: size_average and reduce args will be deprecated, please use reduction='sum' instead.\n",
            "  warnings.warn(warning.format(ret))\n"
          ]
        },
        {
          "output_type": "stream",
          "name": "stdout",
          "text": [
            "\n",
            "Test set: Avg. loss: 0.0949, Accuracy: 9715/10000 (97%)\n",
            "\n",
            "Train Epoch: 2 [0/60000 (0%)]\tLoss: 0.249392\n",
            "Train Epoch: 2 [640/60000 (1%)]\tLoss: 0.159524\n",
            "Train Epoch: 2 [1280/60000 (2%)]\tLoss: 0.394765\n",
            "Train Epoch: 2 [1920/60000 (3%)]\tLoss: 0.127991\n",
            "Train Epoch: 2 [2560/60000 (4%)]\tLoss: 0.321314\n",
            "Train Epoch: 2 [3200/60000 (5%)]\tLoss: 0.202055\n",
            "Train Epoch: 2 [3840/60000 (6%)]\tLoss: 0.321377\n",
            "Train Epoch: 2 [4480/60000 (7%)]\tLoss: 0.440142\n",
            "Train Epoch: 2 [5120/60000 (9%)]\tLoss: 0.316461\n",
            "Train Epoch: 2 [5760/60000 (10%)]\tLoss: 0.299646\n",
            "Train Epoch: 2 [6400/60000 (11%)]\tLoss: 0.459277\n",
            "Train Epoch: 2 [7040/60000 (12%)]\tLoss: 0.481047\n",
            "Train Epoch: 2 [7680/60000 (13%)]\tLoss: 0.328561\n",
            "Train Epoch: 2 [8320/60000 (14%)]\tLoss: 0.426321\n",
            "Train Epoch: 2 [8960/60000 (15%)]\tLoss: 0.311067\n",
            "Train Epoch: 2 [9600/60000 (16%)]\tLoss: 0.344548\n",
            "Train Epoch: 2 [10240/60000 (17%)]\tLoss: 0.246851\n",
            "Train Epoch: 2 [10880/60000 (18%)]\tLoss: 0.336550\n",
            "Train Epoch: 2 [11520/60000 (19%)]\tLoss: 0.130170\n",
            "Train Epoch: 2 [12160/60000 (20%)]\tLoss: 0.341482\n",
            "Train Epoch: 2 [12800/60000 (21%)]\tLoss: 0.287638\n",
            "Train Epoch: 2 [13440/60000 (22%)]\tLoss: 0.210605\n",
            "Train Epoch: 2 [14080/60000 (23%)]\tLoss: 0.282208\n",
            "Train Epoch: 2 [14720/60000 (25%)]\tLoss: 0.629087\n",
            "Train Epoch: 2 [15360/60000 (26%)]\tLoss: 0.332977\n",
            "Train Epoch: 2 [16000/60000 (27%)]\tLoss: 0.432693\n",
            "Train Epoch: 2 [16640/60000 (28%)]\tLoss: 0.324006\n",
            "Train Epoch: 2 [17280/60000 (29%)]\tLoss: 0.093976\n",
            "Train Epoch: 2 [17920/60000 (30%)]\tLoss: 0.172944\n",
            "Train Epoch: 2 [18560/60000 (31%)]\tLoss: 0.249331\n",
            "Train Epoch: 2 [19200/60000 (32%)]\tLoss: 0.126542\n",
            "Train Epoch: 2 [19840/60000 (33%)]\tLoss: 0.650828\n",
            "Train Epoch: 2 [20480/60000 (34%)]\tLoss: 0.303057\n",
            "Train Epoch: 2 [21120/60000 (35%)]\tLoss: 0.272140\n",
            "Train Epoch: 2 [21760/60000 (36%)]\tLoss: 0.139349\n",
            "Train Epoch: 2 [22400/60000 (37%)]\tLoss: 0.071777\n",
            "Train Epoch: 2 [23040/60000 (38%)]\tLoss: 0.167002\n",
            "Train Epoch: 2 [23680/60000 (39%)]\tLoss: 0.248069\n",
            "Train Epoch: 2 [24320/60000 (41%)]\tLoss: 0.339083\n",
            "Train Epoch: 2 [24960/60000 (42%)]\tLoss: 0.126937\n",
            "Train Epoch: 2 [25600/60000 (43%)]\tLoss: 0.208299\n",
            "Train Epoch: 2 [26240/60000 (44%)]\tLoss: 0.293577\n",
            "Train Epoch: 2 [26880/60000 (45%)]\tLoss: 0.459447\n",
            "Train Epoch: 2 [27520/60000 (46%)]\tLoss: 0.331659\n",
            "Train Epoch: 2 [28160/60000 (47%)]\tLoss: 0.367653\n",
            "Train Epoch: 2 [28800/60000 (48%)]\tLoss: 0.323346\n",
            "Train Epoch: 2 [29440/60000 (49%)]\tLoss: 0.323936\n",
            "Train Epoch: 2 [30080/60000 (50%)]\tLoss: 0.220902\n",
            "Train Epoch: 2 [30720/60000 (51%)]\tLoss: 0.192055\n",
            "Train Epoch: 2 [31360/60000 (52%)]\tLoss: 0.370728\n",
            "Train Epoch: 2 [32000/60000 (53%)]\tLoss: 0.375459\n",
            "Train Epoch: 2 [32640/60000 (54%)]\tLoss: 0.108394\n",
            "Train Epoch: 2 [33280/60000 (55%)]\tLoss: 0.154541\n",
            "Train Epoch: 2 [33920/60000 (57%)]\tLoss: 0.138235\n",
            "Train Epoch: 2 [34560/60000 (58%)]\tLoss: 0.178615\n",
            "Train Epoch: 2 [35200/60000 (59%)]\tLoss: 0.347830\n",
            "Train Epoch: 2 [35840/60000 (60%)]\tLoss: 0.287209\n",
            "Train Epoch: 2 [36480/60000 (61%)]\tLoss: 0.321247\n",
            "Train Epoch: 2 [37120/60000 (62%)]\tLoss: 0.189599\n",
            "Train Epoch: 2 [37760/60000 (63%)]\tLoss: 0.188371\n",
            "Train Epoch: 2 [38400/60000 (64%)]\tLoss: 0.417769\n",
            "Train Epoch: 2 [39040/60000 (65%)]\tLoss: 0.222374\n",
            "Train Epoch: 2 [39680/60000 (66%)]\tLoss: 0.162892\n",
            "Train Epoch: 2 [40320/60000 (67%)]\tLoss: 0.266871\n",
            "Train Epoch: 2 [40960/60000 (68%)]\tLoss: 0.088220\n",
            "Train Epoch: 2 [41600/60000 (69%)]\tLoss: 0.308988\n",
            "Train Epoch: 2 [42240/60000 (70%)]\tLoss: 0.361627\n",
            "Train Epoch: 2 [42880/60000 (71%)]\tLoss: 0.404877\n",
            "Train Epoch: 2 [43520/60000 (72%)]\tLoss: 0.356566\n",
            "Train Epoch: 2 [44160/60000 (74%)]\tLoss: 0.142835\n",
            "Train Epoch: 2 [44800/60000 (75%)]\tLoss: 0.621889\n",
            "Train Epoch: 2 [45440/60000 (76%)]\tLoss: 0.203772\n",
            "Train Epoch: 2 [46080/60000 (77%)]\tLoss: 0.382375\n",
            "Train Epoch: 2 [46720/60000 (78%)]\tLoss: 0.275289\n",
            "Train Epoch: 2 [47360/60000 (79%)]\tLoss: 0.177976\n",
            "Train Epoch: 2 [48000/60000 (80%)]\tLoss: 0.251612\n",
            "Train Epoch: 2 [48640/60000 (81%)]\tLoss: 0.224121\n",
            "Train Epoch: 2 [49280/60000 (82%)]\tLoss: 0.582018\n",
            "Train Epoch: 2 [49920/60000 (83%)]\tLoss: 0.131032\n",
            "Train Epoch: 2 [50560/60000 (84%)]\tLoss: 0.111421\n",
            "Train Epoch: 2 [51200/60000 (85%)]\tLoss: 0.333574\n",
            "Train Epoch: 2 [51840/60000 (86%)]\tLoss: 0.336256\n",
            "Train Epoch: 2 [52480/60000 (87%)]\tLoss: 0.103066\n",
            "Train Epoch: 2 [53120/60000 (88%)]\tLoss: 0.240595\n",
            "Train Epoch: 2 [53760/60000 (90%)]\tLoss: 0.118252\n",
            "Train Epoch: 2 [54400/60000 (91%)]\tLoss: 0.375587\n",
            "Train Epoch: 2 [55040/60000 (92%)]\tLoss: 0.148603\n",
            "Train Epoch: 2 [55680/60000 (93%)]\tLoss: 0.104983\n",
            "Train Epoch: 2 [56320/60000 (94%)]\tLoss: 0.324894\n",
            "Train Epoch: 2 [56960/60000 (95%)]\tLoss: 0.226899\n",
            "Train Epoch: 2 [57600/60000 (96%)]\tLoss: 0.374438\n",
            "Train Epoch: 2 [58240/60000 (97%)]\tLoss: 0.378315\n",
            "Train Epoch: 2 [58880/60000 (98%)]\tLoss: 0.234435\n",
            "Train Epoch: 2 [59520/60000 (99%)]\tLoss: 0.132488\n",
            "\n",
            "Test set: Avg. loss: 0.0664, Accuracy: 9812/10000 (98%)\n",
            "\n",
            "Train Epoch: 3 [0/60000 (0%)]\tLoss: 0.171860\n",
            "Train Epoch: 3 [640/60000 (1%)]\tLoss: 0.129691\n",
            "Train Epoch: 3 [1280/60000 (2%)]\tLoss: 0.327750\n",
            "Train Epoch: 3 [1920/60000 (3%)]\tLoss: 0.234701\n",
            "Train Epoch: 3 [2560/60000 (4%)]\tLoss: 0.277934\n",
            "Train Epoch: 3 [3200/60000 (5%)]\tLoss: 0.113422\n",
            "Train Epoch: 3 [3840/60000 (6%)]\tLoss: 0.382843\n",
            "Train Epoch: 3 [4480/60000 (7%)]\tLoss: 0.396457\n",
            "Train Epoch: 3 [5120/60000 (9%)]\tLoss: 0.274972\n",
            "Train Epoch: 3 [5760/60000 (10%)]\tLoss: 0.247214\n",
            "Train Epoch: 3 [6400/60000 (11%)]\tLoss: 0.204517\n",
            "Train Epoch: 3 [7040/60000 (12%)]\tLoss: 0.122271\n",
            "Train Epoch: 3 [7680/60000 (13%)]\tLoss: 0.249692\n",
            "Train Epoch: 3 [8320/60000 (14%)]\tLoss: 0.141490\n",
            "Train Epoch: 3 [8960/60000 (15%)]\tLoss: 0.266627\n",
            "Train Epoch: 3 [9600/60000 (16%)]\tLoss: 0.305464\n",
            "Train Epoch: 3 [10240/60000 (17%)]\tLoss: 0.156234\n",
            "Train Epoch: 3 [10880/60000 (18%)]\tLoss: 0.211148\n",
            "Train Epoch: 3 [11520/60000 (19%)]\tLoss: 0.234363\n",
            "Train Epoch: 3 [12160/60000 (20%)]\tLoss: 0.158031\n",
            "Train Epoch: 3 [12800/60000 (21%)]\tLoss: 0.241034\n",
            "Train Epoch: 3 [13440/60000 (22%)]\tLoss: 0.216707\n",
            "Train Epoch: 3 [14080/60000 (23%)]\tLoss: 0.241987\n",
            "Train Epoch: 3 [14720/60000 (25%)]\tLoss: 0.364912\n",
            "Train Epoch: 3 [15360/60000 (26%)]\tLoss: 0.128695\n",
            "Train Epoch: 3 [16000/60000 (27%)]\tLoss: 0.176069\n",
            "Train Epoch: 3 [16640/60000 (28%)]\tLoss: 0.287459\n",
            "Train Epoch: 3 [17280/60000 (29%)]\tLoss: 0.204922\n",
            "Train Epoch: 3 [17920/60000 (30%)]\tLoss: 0.204636\n",
            "Train Epoch: 3 [18560/60000 (31%)]\tLoss: 0.276765\n",
            "Train Epoch: 3 [19200/60000 (32%)]\tLoss: 0.344141\n",
            "Train Epoch: 3 [19840/60000 (33%)]\tLoss: 0.205119\n",
            "Train Epoch: 3 [20480/60000 (34%)]\tLoss: 0.412303\n",
            "Train Epoch: 3 [21120/60000 (35%)]\tLoss: 0.254983\n",
            "Train Epoch: 3 [21760/60000 (36%)]\tLoss: 0.142942\n",
            "Train Epoch: 3 [22400/60000 (37%)]\tLoss: 0.226610\n",
            "Train Epoch: 3 [23040/60000 (38%)]\tLoss: 0.245201\n",
            "Train Epoch: 3 [23680/60000 (39%)]\tLoss: 0.028173\n",
            "Train Epoch: 3 [24320/60000 (41%)]\tLoss: 0.333654\n",
            "Train Epoch: 3 [24960/60000 (42%)]\tLoss: 0.237094\n",
            "Train Epoch: 3 [25600/60000 (43%)]\tLoss: 0.336534\n",
            "Train Epoch: 3 [26240/60000 (44%)]\tLoss: 0.052739\n",
            "Train Epoch: 3 [26880/60000 (45%)]\tLoss: 0.175112\n",
            "Train Epoch: 3 [27520/60000 (46%)]\tLoss: 0.190301\n",
            "Train Epoch: 3 [28160/60000 (47%)]\tLoss: 0.042922\n",
            "Train Epoch: 3 [28800/60000 (48%)]\tLoss: 0.223543\n",
            "Train Epoch: 3 [29440/60000 (49%)]\tLoss: 0.201560\n",
            "Train Epoch: 3 [30080/60000 (50%)]\tLoss: 0.269350\n",
            "Train Epoch: 3 [30720/60000 (51%)]\tLoss: 0.144315\n",
            "Train Epoch: 3 [31360/60000 (52%)]\tLoss: 0.199300\n",
            "Train Epoch: 3 [32000/60000 (53%)]\tLoss: 0.431221\n",
            "Train Epoch: 3 [32640/60000 (54%)]\tLoss: 0.217062\n",
            "Train Epoch: 3 [33280/60000 (55%)]\tLoss: 0.122813\n",
            "Train Epoch: 3 [33920/60000 (57%)]\tLoss: 0.176261\n",
            "Train Epoch: 3 [34560/60000 (58%)]\tLoss: 0.263251\n",
            "Train Epoch: 3 [35200/60000 (59%)]\tLoss: 0.091237\n",
            "Train Epoch: 3 [35840/60000 (60%)]\tLoss: 0.355515\n",
            "Train Epoch: 3 [36480/60000 (61%)]\tLoss: 0.278983\n",
            "Train Epoch: 3 [37120/60000 (62%)]\tLoss: 0.118470\n",
            "Train Epoch: 3 [37760/60000 (63%)]\tLoss: 0.398759\n",
            "Train Epoch: 3 [38400/60000 (64%)]\tLoss: 0.249413\n",
            "Train Epoch: 3 [39040/60000 (65%)]\tLoss: 0.192934\n",
            "Train Epoch: 3 [39680/60000 (66%)]\tLoss: 0.171547\n",
            "Train Epoch: 3 [40320/60000 (67%)]\tLoss: 0.347187\n",
            "Train Epoch: 3 [40960/60000 (68%)]\tLoss: 0.412078\n",
            "Train Epoch: 3 [41600/60000 (69%)]\tLoss: 0.160418\n",
            "Train Epoch: 3 [42240/60000 (70%)]\tLoss: 0.087131\n",
            "Train Epoch: 3 [42880/60000 (71%)]\tLoss: 0.104497\n",
            "Train Epoch: 3 [43520/60000 (72%)]\tLoss: 0.473814\n",
            "Train Epoch: 3 [44160/60000 (74%)]\tLoss: 0.109502\n",
            "Train Epoch: 3 [44800/60000 (75%)]\tLoss: 0.239423\n",
            "Train Epoch: 3 [45440/60000 (76%)]\tLoss: 0.110873\n",
            "Train Epoch: 3 [46080/60000 (77%)]\tLoss: 0.195934\n",
            "Train Epoch: 3 [46720/60000 (78%)]\tLoss: 0.210957\n",
            "Train Epoch: 3 [47360/60000 (79%)]\tLoss: 0.308902\n",
            "Train Epoch: 3 [48000/60000 (80%)]\tLoss: 0.103535\n",
            "Train Epoch: 3 [48640/60000 (81%)]\tLoss: 0.066388\n",
            "Train Epoch: 3 [49280/60000 (82%)]\tLoss: 0.089535\n",
            "Train Epoch: 3 [49920/60000 (83%)]\tLoss: 0.147044\n",
            "Train Epoch: 3 [50560/60000 (84%)]\tLoss: 0.168479\n",
            "Train Epoch: 3 [51200/60000 (85%)]\tLoss: 0.076011\n",
            "Train Epoch: 3 [51840/60000 (86%)]\tLoss: 0.129482\n",
            "Train Epoch: 3 [52480/60000 (87%)]\tLoss: 0.160927\n",
            "Train Epoch: 3 [53120/60000 (88%)]\tLoss: 0.098312\n",
            "Train Epoch: 3 [53760/60000 (90%)]\tLoss: 0.121380\n",
            "Train Epoch: 3 [54400/60000 (91%)]\tLoss: 0.227368\n",
            "Train Epoch: 3 [55040/60000 (92%)]\tLoss: 0.114868\n",
            "Train Epoch: 3 [55680/60000 (93%)]\tLoss: 0.210028\n",
            "Train Epoch: 3 [56320/60000 (94%)]\tLoss: 0.174942\n",
            "Train Epoch: 3 [56960/60000 (95%)]\tLoss: 0.262255\n",
            "Train Epoch: 3 [57600/60000 (96%)]\tLoss: 0.135421\n",
            "Train Epoch: 3 [58240/60000 (97%)]\tLoss: 0.242978\n",
            "Train Epoch: 3 [58880/60000 (98%)]\tLoss: 0.096890\n",
            "Train Epoch: 3 [59520/60000 (99%)]\tLoss: 0.158719\n",
            "\n",
            "Test set: Avg. loss: 0.0711, Accuracy: 9792/10000 (98%)\n",
            "\n"
          ]
        }
      ]
    },
    {
      "cell_type": "markdown",
      "source": [
        "Epochs-5 (SGD)"
      ],
      "metadata": {
        "id": "obg0uxwFpfD9"
      }
    },
    {
      "cell_type": "code",
      "source": [
        "n_epochs = 5\n",
        "batch_size_train = 64\n",
        "batch_size_test = 1000\n",
        "learning_rate = 0.01\n",
        "momentum = 0.5\n",
        "log_interval = 10\n",
        "\n",
        "random_seed = 30\n",
        "torch.backends.cudnn.enabled = False\n",
        "torch.manual_seed(random_seed)"
      ],
      "metadata": {
        "colab": {
          "base_uri": "https://localhost:8080/"
        },
        "id": "7CJTrc3GoyWb",
        "outputId": "38edefad-863d-42f0-a92b-e77bca327a4f"
      },
      "execution_count": null,
      "outputs": [
        {
          "output_type": "execute_result",
          "data": {
            "text/plain": [
              "<torch._C.Generator at 0x7fa22f8c0b50>"
            ]
          },
          "metadata": {},
          "execution_count": 11
        }
      ]
    },
    {
      "cell_type": "code",
      "source": [
        "class Net(nn.Module):\n",
        "    def __init__(self):\n",
        "        super(Net, self).__init__()\n",
        "        self.conv1 = nn.Conv2d(1, 10, kernel_size=5)\n",
        "        self.conv2 = nn.Conv2d(10, 20, kernel_size=5)\n",
        "        self.conv2_drop = nn.Dropout2d()\n",
        "        self.fc1 = nn.Linear(320, 50)\n",
        "        self.fc2 = nn.Linear(50, 10)\n",
        "\n",
        "    def forward(self, x):\n",
        "        x = F.relu(F.max_pool2d(self.conv1(x), 2))\n",
        "        x = F.relu(F.max_pool2d(self.conv2_drop(self.conv2(x)), 2))\n",
        "        x = x.view(-1, 320)\n",
        "        x = F.relu(self.fc1(x))\n",
        "        x = F.dropout(x, training=self.training)\n",
        "        x = self.fc2(x)\n",
        "        return F.log_softmax(x)"
      ],
      "metadata": {
        "id": "y_PHtaMRoyUF"
      },
      "execution_count": null,
      "outputs": []
    },
    {
      "cell_type": "code",
      "source": [
        "network = Net()\n",
        "optimizer = optim.SGD(network.parameters(), lr=0.1,\n",
        "                      momentum=momentum)"
      ],
      "metadata": {
        "id": "fhV-5yyaoyRh"
      },
      "execution_count": null,
      "outputs": []
    },
    {
      "cell_type": "code",
      "source": [
        "train_losses = []\n",
        "train_counter = []\n",
        "test_losses = []\n",
        "test_counter = [i*len(train_loader.dataset) for i in range(n_epochs + 1)]"
      ],
      "metadata": {
        "id": "TNQoieEyoyOw"
      },
      "execution_count": null,
      "outputs": []
    },
    {
      "cell_type": "code",
      "source": [
        "def train(epoch):\n",
        "  network.train()\n",
        "  for batch_idx, (data, target) in enumerate(train_loader):\n",
        "    optimizer.zero_grad()\n",
        "    output = network(data)\n",
        "    loss = F.nll_loss(output, target)\n",
        "    loss.backward()\n",
        "    optimizer.step()\n",
        "    if batch_idx % log_interval == 0:\n",
        "      print('Train Epoch: {} [{}/{} ({:.0f}%)]\\tLoss: {:.6f}'.format(\n",
        "        epoch, batch_idx * len(data), len(train_loader.dataset),\n",
        "        100. * batch_idx / len(train_loader), loss.item()))\n",
        "      train_losses.append(loss.item())\n",
        "      train_counter.append(\n",
        "        (batch_idx*64) + ((epoch-1)*len(train_loader.dataset)))\n",
        "      torch.save(network.state_dict(), 'model.pth')\n",
        "      torch.save(optimizer.state_dict(), 'optimizer.pth')"
      ],
      "metadata": {
        "id": "nqcUQycsoyMb"
      },
      "execution_count": null,
      "outputs": []
    },
    {
      "cell_type": "code",
      "source": [
        "def test():\n",
        "  network.eval()\n",
        "  test_loss = 0\n",
        "  correct = 0\n",
        "  with torch.no_grad():\n",
        "    for data, target in test_loader:\n",
        "      output = network(data)\n",
        "      test_loss += F.nll_loss(output, target, size_average=False).item()\n",
        "      pred = output.data.max(1, keepdim=True)[1]\n",
        "      correct += pred.eq(target.data.view_as(pred)).sum()\n",
        "  test_loss /= len(test_loader.dataset)\n",
        "  test_losses.append(test_loss)\n",
        "  print('\\nTest set: Avg. loss: {:.4f}, Accuracy: {}/{} ({:.0f}%)\\n'.format(\n",
        "    test_loss, correct, len(test_loader.dataset),\n",
        "    100. * correct / len(test_loader.dataset)))"
      ],
      "metadata": {
        "id": "wMOckuRGoyJb"
      },
      "execution_count": null,
      "outputs": []
    },
    {
      "cell_type": "code",
      "source": [
        "# test()\n",
        "for epoch in range(1, n_epochs + 1):\n",
        "  train(epoch)\n",
        "  test()"
      ],
      "metadata": {
        "colab": {
          "base_uri": "https://localhost:8080/"
        },
        "id": "Pn8nf57ToyGV",
        "outputId": "216b8d50-9022-4a8d-f9e6-d204cbf22ae4"
      },
      "execution_count": null,
      "outputs": [
        {
          "output_type": "stream",
          "name": "stderr",
          "text": [
            "<ipython-input-12-6c2218f37724>:17: UserWarning: Implicit dimension choice for log_softmax has been deprecated. Change the call to include dim=X as an argument.\n",
            "  return F.log_softmax(x)\n"
          ]
        },
        {
          "output_type": "stream",
          "name": "stdout",
          "text": [
            "Train Epoch: 1 [0/60000 (0%)]\tLoss: 2.326300\n",
            "Train Epoch: 1 [640/60000 (1%)]\tLoss: 2.180050\n",
            "Train Epoch: 1 [1280/60000 (2%)]\tLoss: 1.827091\n",
            "Train Epoch: 1 [1920/60000 (3%)]\tLoss: 1.391901\n",
            "Train Epoch: 1 [2560/60000 (4%)]\tLoss: 1.109124\n",
            "Train Epoch: 1 [3200/60000 (5%)]\tLoss: 1.384529\n",
            "Train Epoch: 1 [3840/60000 (6%)]\tLoss: 1.020938\n",
            "Train Epoch: 1 [4480/60000 (7%)]\tLoss: 1.051032\n",
            "Train Epoch: 1 [5120/60000 (9%)]\tLoss: 0.653756\n",
            "Train Epoch: 1 [5760/60000 (10%)]\tLoss: 0.660236\n",
            "Train Epoch: 1 [6400/60000 (11%)]\tLoss: 0.678954\n",
            "Train Epoch: 1 [7040/60000 (12%)]\tLoss: 0.866633\n",
            "Train Epoch: 1 [7680/60000 (13%)]\tLoss: 0.938012\n",
            "Train Epoch: 1 [8320/60000 (14%)]\tLoss: 0.742369\n",
            "Train Epoch: 1 [8960/60000 (15%)]\tLoss: 0.686724\n",
            "Train Epoch: 1 [9600/60000 (16%)]\tLoss: 0.527129\n",
            "Train Epoch: 1 [10240/60000 (17%)]\tLoss: 0.640502\n",
            "Train Epoch: 1 [10880/60000 (18%)]\tLoss: 0.497711\n",
            "Train Epoch: 1 [11520/60000 (19%)]\tLoss: 0.498802\n",
            "Train Epoch: 1 [12160/60000 (20%)]\tLoss: 0.403741\n",
            "Train Epoch: 1 [12800/60000 (21%)]\tLoss: 0.386031\n",
            "Train Epoch: 1 [13440/60000 (22%)]\tLoss: 0.464240\n",
            "Train Epoch: 1 [14080/60000 (23%)]\tLoss: 0.437261\n",
            "Train Epoch: 1 [14720/60000 (25%)]\tLoss: 0.359059\n",
            "Train Epoch: 1 [15360/60000 (26%)]\tLoss: 0.681657\n",
            "Train Epoch: 1 [16000/60000 (27%)]\tLoss: 0.263256\n",
            "Train Epoch: 1 [16640/60000 (28%)]\tLoss: 0.528814\n",
            "Train Epoch: 1 [17280/60000 (29%)]\tLoss: 0.559455\n",
            "Train Epoch: 1 [17920/60000 (30%)]\tLoss: 0.325647\n",
            "Train Epoch: 1 [18560/60000 (31%)]\tLoss: 0.231097\n",
            "Train Epoch: 1 [19200/60000 (32%)]\tLoss: 0.479714\n",
            "Train Epoch: 1 [19840/60000 (33%)]\tLoss: 0.275302\n",
            "Train Epoch: 1 [20480/60000 (34%)]\tLoss: 0.717525\n",
            "Train Epoch: 1 [21120/60000 (35%)]\tLoss: 0.375766\n",
            "Train Epoch: 1 [21760/60000 (36%)]\tLoss: 0.501022\n",
            "Train Epoch: 1 [22400/60000 (37%)]\tLoss: 0.684596\n",
            "Train Epoch: 1 [23040/60000 (38%)]\tLoss: 0.342342\n",
            "Train Epoch: 1 [23680/60000 (39%)]\tLoss: 0.295334\n",
            "Train Epoch: 1 [24320/60000 (41%)]\tLoss: 0.364515\n",
            "Train Epoch: 1 [24960/60000 (42%)]\tLoss: 0.422820\n",
            "Train Epoch: 1 [25600/60000 (43%)]\tLoss: 0.598601\n",
            "Train Epoch: 1 [26240/60000 (44%)]\tLoss: 0.439028\n",
            "Train Epoch: 1 [26880/60000 (45%)]\tLoss: 0.877052\n",
            "Train Epoch: 1 [27520/60000 (46%)]\tLoss: 0.439397\n",
            "Train Epoch: 1 [28160/60000 (47%)]\tLoss: 0.296758\n",
            "Train Epoch: 1 [28800/60000 (48%)]\tLoss: 0.239307\n",
            "Train Epoch: 1 [29440/60000 (49%)]\tLoss: 0.327033\n",
            "Train Epoch: 1 [30080/60000 (50%)]\tLoss: 0.423491\n",
            "Train Epoch: 1 [30720/60000 (51%)]\tLoss: 0.440539\n",
            "Train Epoch: 1 [31360/60000 (52%)]\tLoss: 0.579765\n",
            "Train Epoch: 1 [32000/60000 (53%)]\tLoss: 0.207195\n",
            "Train Epoch: 1 [32640/60000 (54%)]\tLoss: 0.291081\n",
            "Train Epoch: 1 [33280/60000 (55%)]\tLoss: 0.478922\n",
            "Train Epoch: 1 [33920/60000 (57%)]\tLoss: 0.423853\n",
            "Train Epoch: 1 [34560/60000 (58%)]\tLoss: 0.582866\n",
            "Train Epoch: 1 [35200/60000 (59%)]\tLoss: 0.185475\n",
            "Train Epoch: 1 [35840/60000 (60%)]\tLoss: 0.368764\n",
            "Train Epoch: 1 [36480/60000 (61%)]\tLoss: 0.327803\n",
            "Train Epoch: 1 [37120/60000 (62%)]\tLoss: 0.402572\n",
            "Train Epoch: 1 [37760/60000 (63%)]\tLoss: 0.341486\n",
            "Train Epoch: 1 [38400/60000 (64%)]\tLoss: 0.346892\n",
            "Train Epoch: 1 [39040/60000 (65%)]\tLoss: 0.438486\n",
            "Train Epoch: 1 [39680/60000 (66%)]\tLoss: 0.222990\n",
            "Train Epoch: 1 [40320/60000 (67%)]\tLoss: 0.173288\n",
            "Train Epoch: 1 [40960/60000 (68%)]\tLoss: 0.353131\n",
            "Train Epoch: 1 [41600/60000 (69%)]\tLoss: 0.388242\n",
            "Train Epoch: 1 [42240/60000 (70%)]\tLoss: 0.231957\n",
            "Train Epoch: 1 [42880/60000 (71%)]\tLoss: 0.355740\n",
            "Train Epoch: 1 [43520/60000 (72%)]\tLoss: 0.298131\n",
            "Train Epoch: 1 [44160/60000 (74%)]\tLoss: 0.283637\n",
            "Train Epoch: 1 [44800/60000 (75%)]\tLoss: 0.391398\n",
            "Train Epoch: 1 [45440/60000 (76%)]\tLoss: 0.495425\n",
            "Train Epoch: 1 [46080/60000 (77%)]\tLoss: 0.236748\n",
            "Train Epoch: 1 [46720/60000 (78%)]\tLoss: 0.297252\n",
            "Train Epoch: 1 [47360/60000 (79%)]\tLoss: 0.254575\n",
            "Train Epoch: 1 [48000/60000 (80%)]\tLoss: 0.509036\n",
            "Train Epoch: 1 [48640/60000 (81%)]\tLoss: 0.264304\n",
            "Train Epoch: 1 [49280/60000 (82%)]\tLoss: 0.393954\n",
            "Train Epoch: 1 [49920/60000 (83%)]\tLoss: 0.156645\n",
            "Train Epoch: 1 [50560/60000 (84%)]\tLoss: 0.112193\n",
            "Train Epoch: 1 [51200/60000 (85%)]\tLoss: 0.222201\n",
            "Train Epoch: 1 [51840/60000 (86%)]\tLoss: 0.283547\n",
            "Train Epoch: 1 [52480/60000 (87%)]\tLoss: 0.150183\n",
            "Train Epoch: 1 [53120/60000 (88%)]\tLoss: 0.533293\n",
            "Train Epoch: 1 [53760/60000 (90%)]\tLoss: 0.318347\n",
            "Train Epoch: 1 [54400/60000 (91%)]\tLoss: 0.350434\n",
            "Train Epoch: 1 [55040/60000 (92%)]\tLoss: 0.115552\n",
            "Train Epoch: 1 [55680/60000 (93%)]\tLoss: 0.311048\n",
            "Train Epoch: 1 [56320/60000 (94%)]\tLoss: 0.119544\n",
            "Train Epoch: 1 [56960/60000 (95%)]\tLoss: 0.226786\n",
            "Train Epoch: 1 [57600/60000 (96%)]\tLoss: 0.208778\n",
            "Train Epoch: 1 [58240/60000 (97%)]\tLoss: 0.202838\n",
            "Train Epoch: 1 [58880/60000 (98%)]\tLoss: 0.207723\n",
            "Train Epoch: 1 [59520/60000 (99%)]\tLoss: 0.190963\n"
          ]
        },
        {
          "output_type": "stream",
          "name": "stderr",
          "text": [
            "/usr/local/lib/python3.8/dist-packages/torch/nn/_reduction.py:42: UserWarning: size_average and reduce args will be deprecated, please use reduction='sum' instead.\n",
            "  warnings.warn(warning.format(ret))\n"
          ]
        },
        {
          "output_type": "stream",
          "name": "stdout",
          "text": [
            "\n",
            "Test set: Avg. loss: 0.0836, Accuracy: 9755/10000 (98%)\n",
            "\n",
            "Train Epoch: 2 [0/60000 (0%)]\tLoss: 0.334733\n",
            "Train Epoch: 2 [640/60000 (1%)]\tLoss: 0.185972\n",
            "Train Epoch: 2 [1280/60000 (2%)]\tLoss: 0.252643\n",
            "Train Epoch: 2 [1920/60000 (3%)]\tLoss: 0.241336\n",
            "Train Epoch: 2 [2560/60000 (4%)]\tLoss: 0.319141\n",
            "Train Epoch: 2 [3200/60000 (5%)]\tLoss: 0.287025\n",
            "Train Epoch: 2 [3840/60000 (6%)]\tLoss: 0.293589\n",
            "Train Epoch: 2 [4480/60000 (7%)]\tLoss: 0.373666\n",
            "Train Epoch: 2 [5120/60000 (9%)]\tLoss: 0.326392\n",
            "Train Epoch: 2 [5760/60000 (10%)]\tLoss: 0.127129\n",
            "Train Epoch: 2 [6400/60000 (11%)]\tLoss: 0.136592\n",
            "Train Epoch: 2 [7040/60000 (12%)]\tLoss: 0.285775\n",
            "Train Epoch: 2 [7680/60000 (13%)]\tLoss: 0.073398\n",
            "Train Epoch: 2 [8320/60000 (14%)]\tLoss: 0.354325\n",
            "Train Epoch: 2 [8960/60000 (15%)]\tLoss: 0.206713\n",
            "Train Epoch: 2 [9600/60000 (16%)]\tLoss: 0.252221\n",
            "Train Epoch: 2 [10240/60000 (17%)]\tLoss: 0.137811\n",
            "Train Epoch: 2 [10880/60000 (18%)]\tLoss: 0.431150\n",
            "Train Epoch: 2 [11520/60000 (19%)]\tLoss: 0.304398\n",
            "Train Epoch: 2 [12160/60000 (20%)]\tLoss: 0.157546\n",
            "Train Epoch: 2 [12800/60000 (21%)]\tLoss: 0.299974\n",
            "Train Epoch: 2 [13440/60000 (22%)]\tLoss: 0.074931\n",
            "Train Epoch: 2 [14080/60000 (23%)]\tLoss: 0.235274\n",
            "Train Epoch: 2 [14720/60000 (25%)]\tLoss: 0.363887\n",
            "Train Epoch: 2 [15360/60000 (26%)]\tLoss: 0.345953\n",
            "Train Epoch: 2 [16000/60000 (27%)]\tLoss: 0.190540\n",
            "Train Epoch: 2 [16640/60000 (28%)]\tLoss: 0.213276\n",
            "Train Epoch: 2 [17280/60000 (29%)]\tLoss: 0.130334\n",
            "Train Epoch: 2 [17920/60000 (30%)]\tLoss: 0.276672\n",
            "Train Epoch: 2 [18560/60000 (31%)]\tLoss: 0.053657\n",
            "Train Epoch: 2 [19200/60000 (32%)]\tLoss: 0.206275\n",
            "Train Epoch: 2 [19840/60000 (33%)]\tLoss: 0.202608\n",
            "Train Epoch: 2 [20480/60000 (34%)]\tLoss: 0.256800\n",
            "Train Epoch: 2 [21120/60000 (35%)]\tLoss: 0.319552\n",
            "Train Epoch: 2 [21760/60000 (36%)]\tLoss: 0.295280\n",
            "Train Epoch: 2 [22400/60000 (37%)]\tLoss: 0.194683\n",
            "Train Epoch: 2 [23040/60000 (38%)]\tLoss: 0.196414\n",
            "Train Epoch: 2 [23680/60000 (39%)]\tLoss: 0.078669\n",
            "Train Epoch: 2 [24320/60000 (41%)]\tLoss: 0.234615\n",
            "Train Epoch: 2 [24960/60000 (42%)]\tLoss: 0.615760\n",
            "Train Epoch: 2 [25600/60000 (43%)]\tLoss: 0.258210\n",
            "Train Epoch: 2 [26240/60000 (44%)]\tLoss: 0.135272\n",
            "Train Epoch: 2 [26880/60000 (45%)]\tLoss: 0.141929\n",
            "Train Epoch: 2 [27520/60000 (46%)]\tLoss: 0.150984\n",
            "Train Epoch: 2 [28160/60000 (47%)]\tLoss: 0.210294\n",
            "Train Epoch: 2 [28800/60000 (48%)]\tLoss: 0.308605\n",
            "Train Epoch: 2 [29440/60000 (49%)]\tLoss: 0.574392\n",
            "Train Epoch: 2 [30080/60000 (50%)]\tLoss: 0.166245\n",
            "Train Epoch: 2 [30720/60000 (51%)]\tLoss: 0.104233\n",
            "Train Epoch: 2 [31360/60000 (52%)]\tLoss: 0.165540\n",
            "Train Epoch: 2 [32000/60000 (53%)]\tLoss: 0.072977\n",
            "Train Epoch: 2 [32640/60000 (54%)]\tLoss: 0.145313\n",
            "Train Epoch: 2 [33280/60000 (55%)]\tLoss: 0.410086\n",
            "Train Epoch: 2 [33920/60000 (57%)]\tLoss: 0.418004\n",
            "Train Epoch: 2 [34560/60000 (58%)]\tLoss: 0.278794\n",
            "Train Epoch: 2 [35200/60000 (59%)]\tLoss: 0.218918\n",
            "Train Epoch: 2 [35840/60000 (60%)]\tLoss: 0.180784\n",
            "Train Epoch: 2 [36480/60000 (61%)]\tLoss: 0.189862\n",
            "Train Epoch: 2 [37120/60000 (62%)]\tLoss: 0.261007\n",
            "Train Epoch: 2 [37760/60000 (63%)]\tLoss: 0.317221\n",
            "Train Epoch: 2 [38400/60000 (64%)]\tLoss: 0.104539\n",
            "Train Epoch: 2 [39040/60000 (65%)]\tLoss: 0.537836\n",
            "Train Epoch: 2 [39680/60000 (66%)]\tLoss: 0.346778\n",
            "Train Epoch: 2 [40320/60000 (67%)]\tLoss: 0.475227\n",
            "Train Epoch: 2 [40960/60000 (68%)]\tLoss: 0.268349\n",
            "Train Epoch: 2 [41600/60000 (69%)]\tLoss: 0.083615\n",
            "Train Epoch: 2 [42240/60000 (70%)]\tLoss: 0.177290\n",
            "Train Epoch: 2 [42880/60000 (71%)]\tLoss: 0.464497\n",
            "Train Epoch: 2 [43520/60000 (72%)]\tLoss: 0.233063\n",
            "Train Epoch: 2 [44160/60000 (74%)]\tLoss: 0.217992\n",
            "Train Epoch: 2 [44800/60000 (75%)]\tLoss: 0.176288\n",
            "Train Epoch: 2 [45440/60000 (76%)]\tLoss: 0.210545\n",
            "Train Epoch: 2 [46080/60000 (77%)]\tLoss: 0.102100\n",
            "Train Epoch: 2 [46720/60000 (78%)]\tLoss: 0.107815\n",
            "Train Epoch: 2 [47360/60000 (79%)]\tLoss: 0.223738\n",
            "Train Epoch: 2 [48000/60000 (80%)]\tLoss: 0.264621\n",
            "Train Epoch: 2 [48640/60000 (81%)]\tLoss: 0.219433\n",
            "Train Epoch: 2 [49280/60000 (82%)]\tLoss: 0.078614\n",
            "Train Epoch: 2 [49920/60000 (83%)]\tLoss: 0.095502\n",
            "Train Epoch: 2 [50560/60000 (84%)]\tLoss: 0.195758\n",
            "Train Epoch: 2 [51200/60000 (85%)]\tLoss: 0.157479\n",
            "Train Epoch: 2 [51840/60000 (86%)]\tLoss: 0.374996\n",
            "Train Epoch: 2 [52480/60000 (87%)]\tLoss: 0.274652\n",
            "Train Epoch: 2 [53120/60000 (88%)]\tLoss: 0.456415\n",
            "Train Epoch: 2 [53760/60000 (90%)]\tLoss: 0.221157\n",
            "Train Epoch: 2 [54400/60000 (91%)]\tLoss: 0.221763\n",
            "Train Epoch: 2 [55040/60000 (92%)]\tLoss: 0.333456\n",
            "Train Epoch: 2 [55680/60000 (93%)]\tLoss: 0.184001\n",
            "Train Epoch: 2 [56320/60000 (94%)]\tLoss: 0.135047\n",
            "Train Epoch: 2 [56960/60000 (95%)]\tLoss: 0.340389\n",
            "Train Epoch: 2 [57600/60000 (96%)]\tLoss: 0.315289\n",
            "Train Epoch: 2 [58240/60000 (97%)]\tLoss: 0.164052\n",
            "Train Epoch: 2 [58880/60000 (98%)]\tLoss: 0.180385\n",
            "Train Epoch: 2 [59520/60000 (99%)]\tLoss: 0.322572\n",
            "\n",
            "Test set: Avg. loss: 0.0610, Accuracy: 9816/10000 (98%)\n",
            "\n",
            "Train Epoch: 3 [0/60000 (0%)]\tLoss: 0.342792\n",
            "Train Epoch: 3 [640/60000 (1%)]\tLoss: 0.176836\n",
            "Train Epoch: 3 [1280/60000 (2%)]\tLoss: 0.408720\n",
            "Train Epoch: 3 [1920/60000 (3%)]\tLoss: 0.258347\n",
            "Train Epoch: 3 [2560/60000 (4%)]\tLoss: 0.094872\n",
            "Train Epoch: 3 [3200/60000 (5%)]\tLoss: 0.179558\n",
            "Train Epoch: 3 [3840/60000 (6%)]\tLoss: 0.324586\n",
            "Train Epoch: 3 [4480/60000 (7%)]\tLoss: 0.123421\n",
            "Train Epoch: 3 [5120/60000 (9%)]\tLoss: 0.122136\n",
            "Train Epoch: 3 [5760/60000 (10%)]\tLoss: 0.261381\n",
            "Train Epoch: 3 [6400/60000 (11%)]\tLoss: 0.087356\n",
            "Train Epoch: 3 [7040/60000 (12%)]\tLoss: 0.235849\n",
            "Train Epoch: 3 [7680/60000 (13%)]\tLoss: 0.240868\n",
            "Train Epoch: 3 [8320/60000 (14%)]\tLoss: 0.132719\n",
            "Train Epoch: 3 [8960/60000 (15%)]\tLoss: 0.232040\n",
            "Train Epoch: 3 [9600/60000 (16%)]\tLoss: 0.221698\n",
            "Train Epoch: 3 [10240/60000 (17%)]\tLoss: 0.088440\n",
            "Train Epoch: 3 [10880/60000 (18%)]\tLoss: 0.250607\n",
            "Train Epoch: 3 [11520/60000 (19%)]\tLoss: 0.413256\n",
            "Train Epoch: 3 [12160/60000 (20%)]\tLoss: 0.076816\n",
            "Train Epoch: 3 [12800/60000 (21%)]\tLoss: 0.273573\n",
            "Train Epoch: 3 [13440/60000 (22%)]\tLoss: 0.238080\n",
            "Train Epoch: 3 [14080/60000 (23%)]\tLoss: 0.088098\n",
            "Train Epoch: 3 [14720/60000 (25%)]\tLoss: 0.395320\n",
            "Train Epoch: 3 [15360/60000 (26%)]\tLoss: 0.230800\n",
            "Train Epoch: 3 [16000/60000 (27%)]\tLoss: 0.175398\n",
            "Train Epoch: 3 [16640/60000 (28%)]\tLoss: 0.291786\n",
            "Train Epoch: 3 [17280/60000 (29%)]\tLoss: 0.172351\n",
            "Train Epoch: 3 [17920/60000 (30%)]\tLoss: 0.146608\n",
            "Train Epoch: 3 [18560/60000 (31%)]\tLoss: 0.151875\n",
            "Train Epoch: 3 [19200/60000 (32%)]\tLoss: 0.259315\n",
            "Train Epoch: 3 [19840/60000 (33%)]\tLoss: 0.367615\n",
            "Train Epoch: 3 [20480/60000 (34%)]\tLoss: 0.223387\n",
            "Train Epoch: 3 [21120/60000 (35%)]\tLoss: 0.388171\n",
            "Train Epoch: 3 [21760/60000 (36%)]\tLoss: 0.189894\n",
            "Train Epoch: 3 [22400/60000 (37%)]\tLoss: 0.360892\n",
            "Train Epoch: 3 [23040/60000 (38%)]\tLoss: 0.480969\n",
            "Train Epoch: 3 [23680/60000 (39%)]\tLoss: 0.094254\n",
            "Train Epoch: 3 [24320/60000 (41%)]\tLoss: 0.186916\n",
            "Train Epoch: 3 [24960/60000 (42%)]\tLoss: 0.399020\n",
            "Train Epoch: 3 [25600/60000 (43%)]\tLoss: 0.291740\n",
            "Train Epoch: 3 [26240/60000 (44%)]\tLoss: 0.297573\n",
            "Train Epoch: 3 [26880/60000 (45%)]\tLoss: 0.419896\n",
            "Train Epoch: 3 [27520/60000 (46%)]\tLoss: 0.070189\n",
            "Train Epoch: 3 [28160/60000 (47%)]\tLoss: 0.138924\n",
            "Train Epoch: 3 [28800/60000 (48%)]\tLoss: 0.158548\n",
            "Train Epoch: 3 [29440/60000 (49%)]\tLoss: 0.395525\n",
            "Train Epoch: 3 [30080/60000 (50%)]\tLoss: 0.269225\n",
            "Train Epoch: 3 [30720/60000 (51%)]\tLoss: 0.227565\n",
            "Train Epoch: 3 [31360/60000 (52%)]\tLoss: 0.151896\n",
            "Train Epoch: 3 [32000/60000 (53%)]\tLoss: 0.347031\n",
            "Train Epoch: 3 [32640/60000 (54%)]\tLoss: 0.349107\n",
            "Train Epoch: 3 [33280/60000 (55%)]\tLoss: 0.265865\n",
            "Train Epoch: 3 [33920/60000 (57%)]\tLoss: 0.298229\n",
            "Train Epoch: 3 [34560/60000 (58%)]\tLoss: 0.066761\n",
            "Train Epoch: 3 [35200/60000 (59%)]\tLoss: 0.114075\n",
            "Train Epoch: 3 [35840/60000 (60%)]\tLoss: 0.183387\n",
            "Train Epoch: 3 [36480/60000 (61%)]\tLoss: 0.222541\n",
            "Train Epoch: 3 [37120/60000 (62%)]\tLoss: 0.090472\n",
            "Train Epoch: 3 [37760/60000 (63%)]\tLoss: 0.428294\n",
            "Train Epoch: 3 [38400/60000 (64%)]\tLoss: 0.372310\n",
            "Train Epoch: 3 [39040/60000 (65%)]\tLoss: 0.107416\n",
            "Train Epoch: 3 [39680/60000 (66%)]\tLoss: 0.137110\n",
            "Train Epoch: 3 [40320/60000 (67%)]\tLoss: 0.174303\n",
            "Train Epoch: 3 [40960/60000 (68%)]\tLoss: 0.374815\n",
            "Train Epoch: 3 [41600/60000 (69%)]\tLoss: 0.345987\n",
            "Train Epoch: 3 [42240/60000 (70%)]\tLoss: 0.066619\n",
            "Train Epoch: 3 [42880/60000 (71%)]\tLoss: 0.493822\n",
            "Train Epoch: 3 [43520/60000 (72%)]\tLoss: 0.263772\n",
            "Train Epoch: 3 [44160/60000 (74%)]\tLoss: 0.243189\n",
            "Train Epoch: 3 [44800/60000 (75%)]\tLoss: 0.292293\n",
            "Train Epoch: 3 [45440/60000 (76%)]\tLoss: 0.378540\n",
            "Train Epoch: 3 [46080/60000 (77%)]\tLoss: 0.358679\n",
            "Train Epoch: 3 [46720/60000 (78%)]\tLoss: 0.205089\n",
            "Train Epoch: 3 [47360/60000 (79%)]\tLoss: 0.106355\n",
            "Train Epoch: 3 [48000/60000 (80%)]\tLoss: 0.172532\n",
            "Train Epoch: 3 [48640/60000 (81%)]\tLoss: 0.232199\n",
            "Train Epoch: 3 [49280/60000 (82%)]\tLoss: 0.295618\n",
            "Train Epoch: 3 [49920/60000 (83%)]\tLoss: 0.319754\n",
            "Train Epoch: 3 [50560/60000 (84%)]\tLoss: 0.197738\n",
            "Train Epoch: 3 [51200/60000 (85%)]\tLoss: 0.144930\n",
            "Train Epoch: 3 [51840/60000 (86%)]\tLoss: 0.200418\n",
            "Train Epoch: 3 [52480/60000 (87%)]\tLoss: 0.298250\n",
            "Train Epoch: 3 [53120/60000 (88%)]\tLoss: 0.079149\n",
            "Train Epoch: 3 [53760/60000 (90%)]\tLoss: 0.264385\n",
            "Train Epoch: 3 [54400/60000 (91%)]\tLoss: 0.100414\n",
            "Train Epoch: 3 [55040/60000 (92%)]\tLoss: 0.357336\n",
            "Train Epoch: 3 [55680/60000 (93%)]\tLoss: 0.386511\n",
            "Train Epoch: 3 [56320/60000 (94%)]\tLoss: 0.168341\n",
            "Train Epoch: 3 [56960/60000 (95%)]\tLoss: 0.541130\n",
            "Train Epoch: 3 [57600/60000 (96%)]\tLoss: 0.138308\n",
            "Train Epoch: 3 [58240/60000 (97%)]\tLoss: 0.124337\n",
            "Train Epoch: 3 [58880/60000 (98%)]\tLoss: 0.167268\n",
            "Train Epoch: 3 [59520/60000 (99%)]\tLoss: 0.182293\n",
            "\n",
            "Test set: Avg. loss: 0.0595, Accuracy: 9831/10000 (98%)\n",
            "\n",
            "Train Epoch: 4 [0/60000 (0%)]\tLoss: 0.179645\n",
            "Train Epoch: 4 [640/60000 (1%)]\tLoss: 0.252917\n",
            "Train Epoch: 4 [1280/60000 (2%)]\tLoss: 0.325115\n",
            "Train Epoch: 4 [1920/60000 (3%)]\tLoss: 0.295149\n",
            "Train Epoch: 4 [2560/60000 (4%)]\tLoss: 0.197691\n",
            "Train Epoch: 4 [3200/60000 (5%)]\tLoss: 0.171188\n",
            "Train Epoch: 4 [3840/60000 (6%)]\tLoss: 0.365418\n",
            "Train Epoch: 4 [4480/60000 (7%)]\tLoss: 0.132300\n",
            "Train Epoch: 4 [5120/60000 (9%)]\tLoss: 0.130467\n",
            "Train Epoch: 4 [5760/60000 (10%)]\tLoss: 0.350027\n",
            "Train Epoch: 4 [6400/60000 (11%)]\tLoss: 0.098841\n",
            "Train Epoch: 4 [7040/60000 (12%)]\tLoss: 0.179844\n",
            "Train Epoch: 4 [7680/60000 (13%)]\tLoss: 0.166638\n",
            "Train Epoch: 4 [8320/60000 (14%)]\tLoss: 0.447653\n",
            "Train Epoch: 4 [8960/60000 (15%)]\tLoss: 0.136298\n",
            "Train Epoch: 4 [9600/60000 (16%)]\tLoss: 0.142290\n",
            "Train Epoch: 4 [10240/60000 (17%)]\tLoss: 0.277552\n",
            "Train Epoch: 4 [10880/60000 (18%)]\tLoss: 0.668454\n",
            "Train Epoch: 4 [11520/60000 (19%)]\tLoss: 0.105676\n",
            "Train Epoch: 4 [12160/60000 (20%)]\tLoss: 0.089615\n",
            "Train Epoch: 4 [12800/60000 (21%)]\tLoss: 0.181369\n",
            "Train Epoch: 4 [13440/60000 (22%)]\tLoss: 0.343346\n",
            "Train Epoch: 4 [14080/60000 (23%)]\tLoss: 0.149676\n",
            "Train Epoch: 4 [14720/60000 (25%)]\tLoss: 0.501339\n",
            "Train Epoch: 4 [15360/60000 (26%)]\tLoss: 0.169280\n",
            "Train Epoch: 4 [16000/60000 (27%)]\tLoss: 0.272595\n",
            "Train Epoch: 4 [16640/60000 (28%)]\tLoss: 0.378961\n",
            "Train Epoch: 4 [17280/60000 (29%)]\tLoss: 0.200888\n",
            "Train Epoch: 4 [17920/60000 (30%)]\tLoss: 0.187043\n",
            "Train Epoch: 4 [18560/60000 (31%)]\tLoss: 0.132195\n",
            "Train Epoch: 4 [19200/60000 (32%)]\tLoss: 0.278005\n",
            "Train Epoch: 4 [19840/60000 (33%)]\tLoss: 0.346594\n",
            "Train Epoch: 4 [20480/60000 (34%)]\tLoss: 0.199898\n",
            "Train Epoch: 4 [21120/60000 (35%)]\tLoss: 0.293576\n",
            "Train Epoch: 4 [21760/60000 (36%)]\tLoss: 0.175352\n",
            "Train Epoch: 4 [22400/60000 (37%)]\tLoss: 0.217402\n",
            "Train Epoch: 4 [23040/60000 (38%)]\tLoss: 0.156970\n",
            "Train Epoch: 4 [23680/60000 (39%)]\tLoss: 0.129461\n",
            "Train Epoch: 4 [24320/60000 (41%)]\tLoss: 0.195497\n",
            "Train Epoch: 4 [24960/60000 (42%)]\tLoss: 0.290629\n",
            "Train Epoch: 4 [25600/60000 (43%)]\tLoss: 0.153381\n",
            "Train Epoch: 4 [26240/60000 (44%)]\tLoss: 0.372307\n",
            "Train Epoch: 4 [26880/60000 (45%)]\tLoss: 0.071735\n",
            "Train Epoch: 4 [27520/60000 (46%)]\tLoss: 0.207738\n",
            "Train Epoch: 4 [28160/60000 (47%)]\tLoss: 0.085966\n",
            "Train Epoch: 4 [28800/60000 (48%)]\tLoss: 0.106245\n",
            "Train Epoch: 4 [29440/60000 (49%)]\tLoss: 0.826679\n",
            "Train Epoch: 4 [30080/60000 (50%)]\tLoss: 0.391211\n",
            "Train Epoch: 4 [30720/60000 (51%)]\tLoss: 0.120567\n",
            "Train Epoch: 4 [31360/60000 (52%)]\tLoss: 0.201952\n",
            "Train Epoch: 4 [32000/60000 (53%)]\tLoss: 0.136497\n",
            "Train Epoch: 4 [32640/60000 (54%)]\tLoss: 0.147994\n",
            "Train Epoch: 4 [33280/60000 (55%)]\tLoss: 0.291731\n",
            "Train Epoch: 4 [33920/60000 (57%)]\tLoss: 0.136107\n",
            "Train Epoch: 4 [34560/60000 (58%)]\tLoss: 0.140942\n",
            "Train Epoch: 4 [35200/60000 (59%)]\tLoss: 0.304228\n",
            "Train Epoch: 4 [35840/60000 (60%)]\tLoss: 0.149395\n",
            "Train Epoch: 4 [36480/60000 (61%)]\tLoss: 0.144685\n",
            "Train Epoch: 4 [37120/60000 (62%)]\tLoss: 0.230413\n",
            "Train Epoch: 4 [37760/60000 (63%)]\tLoss: 0.338961\n",
            "Train Epoch: 4 [38400/60000 (64%)]\tLoss: 0.275434\n",
            "Train Epoch: 4 [39040/60000 (65%)]\tLoss: 0.247754\n",
            "Train Epoch: 4 [39680/60000 (66%)]\tLoss: 0.123043\n",
            "Train Epoch: 4 [40320/60000 (67%)]\tLoss: 0.157573\n",
            "Train Epoch: 4 [40960/60000 (68%)]\tLoss: 0.189381\n",
            "Train Epoch: 4 [41600/60000 (69%)]\tLoss: 0.343696\n",
            "Train Epoch: 4 [42240/60000 (70%)]\tLoss: 0.111354\n",
            "Train Epoch: 4 [42880/60000 (71%)]\tLoss: 0.060078\n",
            "Train Epoch: 4 [43520/60000 (72%)]\tLoss: 0.306780\n",
            "Train Epoch: 4 [44160/60000 (74%)]\tLoss: 0.070955\n",
            "Train Epoch: 4 [44800/60000 (75%)]\tLoss: 0.072645\n",
            "Train Epoch: 4 [45440/60000 (76%)]\tLoss: 0.147991\n",
            "Train Epoch: 4 [46080/60000 (77%)]\tLoss: 0.148800\n",
            "Train Epoch: 4 [46720/60000 (78%)]\tLoss: 0.034892\n",
            "Train Epoch: 4 [47360/60000 (79%)]\tLoss: 0.142830\n",
            "Train Epoch: 4 [48000/60000 (80%)]\tLoss: 0.282496\n",
            "Train Epoch: 4 [48640/60000 (81%)]\tLoss: 0.332668\n",
            "Train Epoch: 4 [49280/60000 (82%)]\tLoss: 0.298771\n",
            "Train Epoch: 4 [49920/60000 (83%)]\tLoss: 0.183263\n",
            "Train Epoch: 4 [50560/60000 (84%)]\tLoss: 0.235424\n",
            "Train Epoch: 4 [51200/60000 (85%)]\tLoss: 0.119314\n",
            "Train Epoch: 4 [51840/60000 (86%)]\tLoss: 0.244935\n",
            "Train Epoch: 4 [52480/60000 (87%)]\tLoss: 0.133265\n",
            "Train Epoch: 4 [53120/60000 (88%)]\tLoss: 0.350152\n",
            "Train Epoch: 4 [53760/60000 (90%)]\tLoss: 0.129191\n",
            "Train Epoch: 4 [54400/60000 (91%)]\tLoss: 0.327213\n",
            "Train Epoch: 4 [55040/60000 (92%)]\tLoss: 0.040279\n",
            "Train Epoch: 4 [55680/60000 (93%)]\tLoss: 0.207900\n",
            "Train Epoch: 4 [56320/60000 (94%)]\tLoss: 0.146780\n",
            "Train Epoch: 4 [56960/60000 (95%)]\tLoss: 0.149414\n",
            "Train Epoch: 4 [57600/60000 (96%)]\tLoss: 0.105976\n",
            "Train Epoch: 4 [58240/60000 (97%)]\tLoss: 0.107096\n",
            "Train Epoch: 4 [58880/60000 (98%)]\tLoss: 0.190687\n",
            "Train Epoch: 4 [59520/60000 (99%)]\tLoss: 0.497715\n",
            "\n",
            "Test set: Avg. loss: 0.0529, Accuracy: 9838/10000 (98%)\n",
            "\n",
            "Train Epoch: 5 [0/60000 (0%)]\tLoss: 0.190690\n",
            "Train Epoch: 5 [640/60000 (1%)]\tLoss: 0.128135\n",
            "Train Epoch: 5 [1280/60000 (2%)]\tLoss: 0.148261\n",
            "Train Epoch: 5 [1920/60000 (3%)]\tLoss: 0.143599\n",
            "Train Epoch: 5 [2560/60000 (4%)]\tLoss: 0.086314\n",
            "Train Epoch: 5 [3200/60000 (5%)]\tLoss: 0.278346\n",
            "Train Epoch: 5 [3840/60000 (6%)]\tLoss: 0.077376\n",
            "Train Epoch: 5 [4480/60000 (7%)]\tLoss: 0.211669\n",
            "Train Epoch: 5 [5120/60000 (9%)]\tLoss: 0.120059\n",
            "Train Epoch: 5 [5760/60000 (10%)]\tLoss: 0.137379\n",
            "Train Epoch: 5 [6400/60000 (11%)]\tLoss: 0.236276\n",
            "Train Epoch: 5 [7040/60000 (12%)]\tLoss: 0.469482\n",
            "Train Epoch: 5 [7680/60000 (13%)]\tLoss: 0.058339\n",
            "Train Epoch: 5 [8320/60000 (14%)]\tLoss: 0.069241\n",
            "Train Epoch: 5 [8960/60000 (15%)]\tLoss: 0.161402\n",
            "Train Epoch: 5 [9600/60000 (16%)]\tLoss: 0.215681\n",
            "Train Epoch: 5 [10240/60000 (17%)]\tLoss: 0.193292\n",
            "Train Epoch: 5 [10880/60000 (18%)]\tLoss: 0.206025\n",
            "Train Epoch: 5 [11520/60000 (19%)]\tLoss: 0.162009\n",
            "Train Epoch: 5 [12160/60000 (20%)]\tLoss: 0.118374\n",
            "Train Epoch: 5 [12800/60000 (21%)]\tLoss: 0.167921\n",
            "Train Epoch: 5 [13440/60000 (22%)]\tLoss: 0.140783\n",
            "Train Epoch: 5 [14080/60000 (23%)]\tLoss: 0.234495\n",
            "Train Epoch: 5 [14720/60000 (25%)]\tLoss: 0.070113\n",
            "Train Epoch: 5 [15360/60000 (26%)]\tLoss: 0.113996\n",
            "Train Epoch: 5 [16000/60000 (27%)]\tLoss: 0.057930\n",
            "Train Epoch: 5 [16640/60000 (28%)]\tLoss: 0.052646\n",
            "Train Epoch: 5 [17280/60000 (29%)]\tLoss: 0.107273\n",
            "Train Epoch: 5 [17920/60000 (30%)]\tLoss: 0.093306\n",
            "Train Epoch: 5 [18560/60000 (31%)]\tLoss: 0.214571\n",
            "Train Epoch: 5 [19200/60000 (32%)]\tLoss: 0.246029\n",
            "Train Epoch: 5 [19840/60000 (33%)]\tLoss: 0.367378\n",
            "Train Epoch: 5 [20480/60000 (34%)]\tLoss: 0.058718\n",
            "Train Epoch: 5 [21120/60000 (35%)]\tLoss: 0.162659\n",
            "Train Epoch: 5 [21760/60000 (36%)]\tLoss: 0.326813\n",
            "Train Epoch: 5 [22400/60000 (37%)]\tLoss: 0.187251\n",
            "Train Epoch: 5 [23040/60000 (38%)]\tLoss: 0.151068\n",
            "Train Epoch: 5 [23680/60000 (39%)]\tLoss: 0.182954\n",
            "Train Epoch: 5 [24320/60000 (41%)]\tLoss: 0.189972\n",
            "Train Epoch: 5 [24960/60000 (42%)]\tLoss: 0.139872\n",
            "Train Epoch: 5 [25600/60000 (43%)]\tLoss: 0.171396\n",
            "Train Epoch: 5 [26240/60000 (44%)]\tLoss: 0.123502\n",
            "Train Epoch: 5 [26880/60000 (45%)]\tLoss: 0.174755\n",
            "Train Epoch: 5 [27520/60000 (46%)]\tLoss: 0.102164\n",
            "Train Epoch: 5 [28160/60000 (47%)]\tLoss: 0.120720\n",
            "Train Epoch: 5 [28800/60000 (48%)]\tLoss: 0.271886\n",
            "Train Epoch: 5 [29440/60000 (49%)]\tLoss: 0.377840\n",
            "Train Epoch: 5 [30080/60000 (50%)]\tLoss: 0.392075\n",
            "Train Epoch: 5 [30720/60000 (51%)]\tLoss: 0.203492\n",
            "Train Epoch: 5 [31360/60000 (52%)]\tLoss: 0.063963\n",
            "Train Epoch: 5 [32000/60000 (53%)]\tLoss: 0.251523\n",
            "Train Epoch: 5 [32640/60000 (54%)]\tLoss: 0.241764\n",
            "Train Epoch: 5 [33280/60000 (55%)]\tLoss: 0.205078\n",
            "Train Epoch: 5 [33920/60000 (57%)]\tLoss: 0.074915\n",
            "Train Epoch: 5 [34560/60000 (58%)]\tLoss: 0.208017\n",
            "Train Epoch: 5 [35200/60000 (59%)]\tLoss: 0.107336\n",
            "Train Epoch: 5 [35840/60000 (60%)]\tLoss: 0.332185\n",
            "Train Epoch: 5 [36480/60000 (61%)]\tLoss: 0.166549\n",
            "Train Epoch: 5 [37120/60000 (62%)]\tLoss: 0.152754\n",
            "Train Epoch: 5 [37760/60000 (63%)]\tLoss: 0.185492\n",
            "Train Epoch: 5 [38400/60000 (64%)]\tLoss: 0.129932\n",
            "Train Epoch: 5 [39040/60000 (65%)]\tLoss: 0.167956\n",
            "Train Epoch: 5 [39680/60000 (66%)]\tLoss: 0.119272\n",
            "Train Epoch: 5 [40320/60000 (67%)]\tLoss: 0.136521\n",
            "Train Epoch: 5 [40960/60000 (68%)]\tLoss: 0.255335\n",
            "Train Epoch: 5 [41600/60000 (69%)]\tLoss: 0.094677\n",
            "Train Epoch: 5 [42240/60000 (70%)]\tLoss: 0.145587\n",
            "Train Epoch: 5 [42880/60000 (71%)]\tLoss: 0.178335\n",
            "Train Epoch: 5 [43520/60000 (72%)]\tLoss: 0.105549\n",
            "Train Epoch: 5 [44160/60000 (74%)]\tLoss: 0.139199\n",
            "Train Epoch: 5 [44800/60000 (75%)]\tLoss: 0.207664\n",
            "Train Epoch: 5 [45440/60000 (76%)]\tLoss: 0.088076\n",
            "Train Epoch: 5 [46080/60000 (77%)]\tLoss: 0.363652\n",
            "Train Epoch: 5 [46720/60000 (78%)]\tLoss: 0.131183\n",
            "Train Epoch: 5 [47360/60000 (79%)]\tLoss: 0.185324\n",
            "Train Epoch: 5 [48000/60000 (80%)]\tLoss: 0.114238\n",
            "Train Epoch: 5 [48640/60000 (81%)]\tLoss: 0.208758\n",
            "Train Epoch: 5 [49280/60000 (82%)]\tLoss: 0.415696\n",
            "Train Epoch: 5 [49920/60000 (83%)]\tLoss: 0.326898\n",
            "Train Epoch: 5 [50560/60000 (84%)]\tLoss: 0.612304\n",
            "Train Epoch: 5 [51200/60000 (85%)]\tLoss: 0.255454\n",
            "Train Epoch: 5 [51840/60000 (86%)]\tLoss: 0.246853\n",
            "Train Epoch: 5 [52480/60000 (87%)]\tLoss: 0.094689\n",
            "Train Epoch: 5 [53120/60000 (88%)]\tLoss: 0.110840\n",
            "Train Epoch: 5 [53760/60000 (90%)]\tLoss: 0.402106\n",
            "Train Epoch: 5 [54400/60000 (91%)]\tLoss: 0.121972\n",
            "Train Epoch: 5 [55040/60000 (92%)]\tLoss: 0.326801\n",
            "Train Epoch: 5 [55680/60000 (93%)]\tLoss: 0.273883\n",
            "Train Epoch: 5 [56320/60000 (94%)]\tLoss: 0.267613\n",
            "Train Epoch: 5 [56960/60000 (95%)]\tLoss: 0.187501\n",
            "Train Epoch: 5 [57600/60000 (96%)]\tLoss: 0.162379\n",
            "Train Epoch: 5 [58240/60000 (97%)]\tLoss: 0.097466\n",
            "Train Epoch: 5 [58880/60000 (98%)]\tLoss: 0.198390\n",
            "Train Epoch: 5 [59520/60000 (99%)]\tLoss: 0.095056\n",
            "\n",
            "Test set: Avg. loss: 0.0558, Accuracy: 9829/10000 (98%)\n",
            "\n"
          ]
        }
      ]
    },
    {
      "cell_type": "code",
      "source": [
        "n_epochs = 5\n",
        "batch_size_train = 64\n",
        "batch_size_test = 1000\n",
        "learning_rate = 0.01\n",
        "momentum = 0.5\n",
        "log_interval = 10\n",
        "\n",
        "random_seed = 30\n",
        "torch.backends.cudnn.enabled = False\n",
        "torch.manual_seed(random_seed)"
      ],
      "metadata": {
        "colab": {
          "base_uri": "https://localhost:8080/"
        },
        "id": "BgBFwtjhoyBa",
        "outputId": "5d5d5ea7-092d-4826-85bd-e6110d5d4b22"
      },
      "execution_count": null,
      "outputs": [
        {
          "output_type": "execute_result",
          "data": {
            "text/plain": [
              "<torch._C.Generator at 0x7fa22f8c0b50>"
            ]
          },
          "metadata": {},
          "execution_count": 18
        }
      ]
    },
    {
      "cell_type": "code",
      "source": [
        "class Net(nn.Module):\n",
        "    def __init__(self):\n",
        "        super(Net, self).__init__()\n",
        "        self.conv1 = nn.Conv2d(1, 10, kernel_size=5)\n",
        "        self.conv2 = nn.Conv2d(10, 20, kernel_size=5)\n",
        "        self.conv2_drop = nn.Dropout2d()\n",
        "        self.fc1 = nn.Linear(320, 50)\n",
        "        self.fc2 = nn.Linear(50, 10)\n",
        "\n",
        "    def forward(self, x):\n",
        "        x = F.relu(F.max_pool2d(self.conv1(x), 2))\n",
        "        x = F.relu(F.max_pool2d(self.conv2_drop(self.conv2(x)), 2))\n",
        "        x = x.view(-1, 320)\n",
        "        x = F.relu(self.fc1(x))\n",
        "        x = F.dropout(x, training=self.training)\n",
        "        x = self.fc2(x)\n",
        "        return F.log_softmax(x)"
      ],
      "metadata": {
        "id": "Y8ABLevaox-p"
      },
      "execution_count": null,
      "outputs": []
    },
    {
      "cell_type": "code",
      "source": [
        "network = Net()\n",
        "optimizer = optim.Adam(network.parameters(), lr=0.1\n",
        "                      )"
      ],
      "metadata": {
        "id": "FcrfKAMxox5x"
      },
      "execution_count": null,
      "outputs": []
    },
    {
      "cell_type": "code",
      "source": [
        "train_losses = []\n",
        "train_counter = []\n",
        "test_losses = []\n",
        "test_counter = [i*len(train_loader.dataset) for i in range(n_epochs + 1)]"
      ],
      "metadata": {
        "id": "FWSZET-Kox2t"
      },
      "execution_count": null,
      "outputs": []
    },
    {
      "cell_type": "code",
      "source": [
        "def train(epoch):\n",
        "  network.train()\n",
        "  for batch_idx, (data, target) in enumerate(train_loader):\n",
        "    optimizer.zero_grad()\n",
        "    output = network(data)\n",
        "    loss = F.nll_loss(output, target)\n",
        "    loss.backward()\n",
        "    optimizer.step()\n",
        "    if batch_idx % log_interval == 0:\n",
        "      print('Train Epoch: {} [{}/{} ({:.0f}%)]\\tLoss: {:.6f}'.format(\n",
        "        epoch, batch_idx * len(data), len(train_loader.dataset),\n",
        "        100. * batch_idx / len(train_loader), loss.item()))\n",
        "      train_losses.append(loss.item())\n",
        "      train_counter.append(\n",
        "        (batch_idx*64) + ((epoch-1)*len(train_loader.dataset)))\n",
        "      torch.save(network.state_dict(), 'model.pth')\n",
        "      torch.save(optimizer.state_dict(), 'optimizer.pth')"
      ],
      "metadata": {
        "id": "X7KEcsiDqsLF"
      },
      "execution_count": null,
      "outputs": []
    },
    {
      "cell_type": "code",
      "source": [
        "def test():\n",
        "  network.eval()\n",
        "  test_loss = 0\n",
        "  correct = 0\n",
        "  with torch.no_grad():\n",
        "    for data, target in test_loader:\n",
        "      output = network(data)\n",
        "      test_loss += F.nll_loss(output, target, size_average=False).item()\n",
        "      pred = output.data.max(1, keepdim=True)[1]\n",
        "      correct += pred.eq(target.data.view_as(pred)).sum()\n",
        "  test_loss /= len(test_loader.dataset)\n",
        "  test_losses.append(test_loss)\n",
        "  print('\\nTest set: Avg. loss: {:.4f}, Accuracy: {}/{} ({:.0f}%)\\n'.format(\n",
        "    test_loss, correct, len(test_loader.dataset),\n",
        "    100. * correct / len(test_loader.dataset)))"
      ],
      "metadata": {
        "id": "CiuTe_e7qv9H"
      },
      "execution_count": null,
      "outputs": []
    },
    {
      "cell_type": "code",
      "source": [
        "# test()\n",
        "for epoch in range(1, n_epochs + 1):\n",
        "  train(epoch)\n",
        "  test()"
      ],
      "metadata": {
        "colab": {
          "base_uri": "https://localhost:8080/"
        },
        "id": "aepHcB3GqwAh",
        "outputId": "582670e1-8773-4db7-89ee-0384ad55ef4c"
      },
      "execution_count": null,
      "outputs": [
        {
          "output_type": "stream",
          "name": "stderr",
          "text": [
            "<ipython-input-19-6c2218f37724>:17: UserWarning: Implicit dimension choice for log_softmax has been deprecated. Change the call to include dim=X as an argument.\n",
            "  return F.log_softmax(x)\n"
          ]
        },
        {
          "output_type": "stream",
          "name": "stdout",
          "text": [
            "Train Epoch: 1 [0/60000 (0%)]\tLoss: 2.315328\n",
            "Train Epoch: 1 [640/60000 (1%)]\tLoss: 2.285043\n",
            "Train Epoch: 1 [1280/60000 (2%)]\tLoss: 2.281353\n",
            "Train Epoch: 1 [1920/60000 (3%)]\tLoss: 2.315069\n",
            "Train Epoch: 1 [2560/60000 (4%)]\tLoss: 2.316213\n",
            "Train Epoch: 1 [3200/60000 (5%)]\tLoss: 2.301553\n",
            "Train Epoch: 1 [3840/60000 (6%)]\tLoss: 2.281407\n",
            "Train Epoch: 1 [4480/60000 (7%)]\tLoss: 2.311137\n",
            "Train Epoch: 1 [5120/60000 (9%)]\tLoss: 2.286035\n",
            "Train Epoch: 1 [5760/60000 (10%)]\tLoss: 2.301150\n",
            "Train Epoch: 1 [6400/60000 (11%)]\tLoss: 2.328529\n",
            "Train Epoch: 1 [7040/60000 (12%)]\tLoss: 2.312407\n",
            "Train Epoch: 1 [7680/60000 (13%)]\tLoss: 2.322015\n",
            "Train Epoch: 1 [8320/60000 (14%)]\tLoss: 2.319376\n",
            "Train Epoch: 1 [8960/60000 (15%)]\tLoss: 2.332146\n",
            "Train Epoch: 1 [9600/60000 (16%)]\tLoss: 2.329084\n",
            "Train Epoch: 1 [10240/60000 (17%)]\tLoss: 2.309356\n",
            "Train Epoch: 1 [10880/60000 (18%)]\tLoss: 2.321898\n",
            "Train Epoch: 1 [11520/60000 (19%)]\tLoss: 2.291728\n",
            "Train Epoch: 1 [12160/60000 (20%)]\tLoss: 2.314364\n",
            "Train Epoch: 1 [12800/60000 (21%)]\tLoss: 2.304448\n",
            "Train Epoch: 1 [13440/60000 (22%)]\tLoss: 2.352322\n",
            "Train Epoch: 1 [14080/60000 (23%)]\tLoss: 2.295376\n",
            "Train Epoch: 1 [14720/60000 (25%)]\tLoss: 2.311751\n",
            "Train Epoch: 1 [15360/60000 (26%)]\tLoss: 2.308606\n",
            "Train Epoch: 1 [16000/60000 (27%)]\tLoss: 2.294833\n",
            "Train Epoch: 1 [16640/60000 (28%)]\tLoss: 2.276627\n",
            "Train Epoch: 1 [17280/60000 (29%)]\tLoss: 2.324795\n",
            "Train Epoch: 1 [17920/60000 (30%)]\tLoss: 2.320068\n",
            "Train Epoch: 1 [18560/60000 (31%)]\tLoss: 2.330347\n",
            "Train Epoch: 1 [19200/60000 (32%)]\tLoss: 2.316290\n",
            "Train Epoch: 1 [19840/60000 (33%)]\tLoss: 2.314743\n",
            "Train Epoch: 1 [20480/60000 (34%)]\tLoss: 2.318987\n",
            "Train Epoch: 1 [21120/60000 (35%)]\tLoss: 2.333816\n",
            "Train Epoch: 1 [21760/60000 (36%)]\tLoss: 2.332393\n",
            "Train Epoch: 1 [22400/60000 (37%)]\tLoss: 2.316309\n",
            "Train Epoch: 1 [23040/60000 (38%)]\tLoss: 2.296248\n",
            "Train Epoch: 1 [23680/60000 (39%)]\tLoss: 2.360069\n",
            "Train Epoch: 1 [24320/60000 (41%)]\tLoss: 2.313473\n",
            "Train Epoch: 1 [24960/60000 (42%)]\tLoss: 2.306431\n",
            "Train Epoch: 1 [25600/60000 (43%)]\tLoss: 2.303018\n",
            "Train Epoch: 1 [26240/60000 (44%)]\tLoss: 2.299325\n",
            "Train Epoch: 1 [26880/60000 (45%)]\tLoss: 2.291878\n",
            "Train Epoch: 1 [27520/60000 (46%)]\tLoss: 2.312927\n",
            "Train Epoch: 1 [28160/60000 (47%)]\tLoss: 2.284839\n",
            "Train Epoch: 1 [28800/60000 (48%)]\tLoss: 2.312232\n",
            "Train Epoch: 1 [29440/60000 (49%)]\tLoss: 2.318862\n",
            "Train Epoch: 1 [30080/60000 (50%)]\tLoss: 2.318358\n",
            "Train Epoch: 1 [30720/60000 (51%)]\tLoss: 2.295836\n",
            "Train Epoch: 1 [31360/60000 (52%)]\tLoss: 2.284624\n",
            "Train Epoch: 1 [32000/60000 (53%)]\tLoss: 2.294014\n",
            "Train Epoch: 1 [32640/60000 (54%)]\tLoss: 2.284722\n",
            "Train Epoch: 1 [33280/60000 (55%)]\tLoss: 2.327123\n",
            "Train Epoch: 1 [33920/60000 (57%)]\tLoss: 2.335834\n",
            "Train Epoch: 1 [34560/60000 (58%)]\tLoss: 2.313120\n",
            "Train Epoch: 1 [35200/60000 (59%)]\tLoss: 2.294655\n",
            "Train Epoch: 1 [35840/60000 (60%)]\tLoss: 2.326141\n",
            "Train Epoch: 1 [36480/60000 (61%)]\tLoss: 2.280029\n",
            "Train Epoch: 1 [37120/60000 (62%)]\tLoss: 2.306522\n",
            "Train Epoch: 1 [37760/60000 (63%)]\tLoss: 2.307217\n",
            "Train Epoch: 1 [38400/60000 (64%)]\tLoss: 2.314786\n",
            "Train Epoch: 1 [39040/60000 (65%)]\tLoss: 2.309501\n",
            "Train Epoch: 1 [39680/60000 (66%)]\tLoss: 2.312356\n",
            "Train Epoch: 1 [40320/60000 (67%)]\tLoss: 2.343347\n",
            "Train Epoch: 1 [40960/60000 (68%)]\tLoss: 2.317705\n",
            "Train Epoch: 1 [41600/60000 (69%)]\tLoss: 2.290503\n",
            "Train Epoch: 1 [42240/60000 (70%)]\tLoss: 2.277111\n",
            "Train Epoch: 1 [42880/60000 (71%)]\tLoss: 2.311888\n",
            "Train Epoch: 1 [43520/60000 (72%)]\tLoss: 2.292420\n",
            "Train Epoch: 1 [44160/60000 (74%)]\tLoss: 2.321688\n",
            "Train Epoch: 1 [44800/60000 (75%)]\tLoss: 2.318630\n",
            "Train Epoch: 1 [45440/60000 (76%)]\tLoss: 2.282935\n",
            "Train Epoch: 1 [46080/60000 (77%)]\tLoss: 2.311227\n",
            "Train Epoch: 1 [46720/60000 (78%)]\tLoss: 2.321945\n",
            "Train Epoch: 1 [47360/60000 (79%)]\tLoss: 2.272784\n",
            "Train Epoch: 1 [48000/60000 (80%)]\tLoss: 2.330497\n",
            "Train Epoch: 1 [48640/60000 (81%)]\tLoss: 2.316238\n",
            "Train Epoch: 1 [49280/60000 (82%)]\tLoss: 2.307388\n",
            "Train Epoch: 1 [49920/60000 (83%)]\tLoss: 2.304938\n",
            "Train Epoch: 1 [50560/60000 (84%)]\tLoss: 2.322288\n",
            "Train Epoch: 1 [51200/60000 (85%)]\tLoss: 2.312872\n",
            "Train Epoch: 1 [51840/60000 (86%)]\tLoss: 2.335171\n",
            "Train Epoch: 1 [52480/60000 (87%)]\tLoss: 2.308434\n",
            "Train Epoch: 1 [53120/60000 (88%)]\tLoss: 2.337368\n",
            "Train Epoch: 1 [53760/60000 (90%)]\tLoss: 2.295299\n",
            "Train Epoch: 1 [54400/60000 (91%)]\tLoss: 2.257187\n",
            "Train Epoch: 1 [55040/60000 (92%)]\tLoss: 2.293868\n",
            "Train Epoch: 1 [55680/60000 (93%)]\tLoss: 2.325485\n",
            "Train Epoch: 1 [56320/60000 (94%)]\tLoss: 2.316947\n",
            "Train Epoch: 1 [56960/60000 (95%)]\tLoss: 2.299946\n",
            "Train Epoch: 1 [57600/60000 (96%)]\tLoss: 2.289629\n",
            "Train Epoch: 1 [58240/60000 (97%)]\tLoss: 2.269844\n",
            "Train Epoch: 1 [58880/60000 (98%)]\tLoss: 2.304224\n",
            "Train Epoch: 1 [59520/60000 (99%)]\tLoss: 2.324878\n"
          ]
        },
        {
          "output_type": "stream",
          "name": "stderr",
          "text": [
            "/usr/local/lib/python3.8/dist-packages/torch/nn/_reduction.py:42: UserWarning: size_average and reduce args will be deprecated, please use reduction='sum' instead.\n",
            "  warnings.warn(warning.format(ret))\n"
          ]
        },
        {
          "output_type": "stream",
          "name": "stdout",
          "text": [
            "\n",
            "Test set: Avg. loss: 2.3151, Accuracy: 892/10000 (9%)\n",
            "\n",
            "Train Epoch: 2 [0/60000 (0%)]\tLoss: 2.297700\n",
            "Train Epoch: 2 [640/60000 (1%)]\tLoss: 2.306874\n",
            "Train Epoch: 2 [1280/60000 (2%)]\tLoss: 2.328158\n",
            "Train Epoch: 2 [1920/60000 (3%)]\tLoss: 2.310798\n",
            "Train Epoch: 2 [2560/60000 (4%)]\tLoss: 2.307980\n",
            "Train Epoch: 2 [3200/60000 (5%)]\tLoss: 2.317914\n",
            "Train Epoch: 2 [3840/60000 (6%)]\tLoss: 2.319395\n",
            "Train Epoch: 2 [4480/60000 (7%)]\tLoss: 2.318492\n",
            "Train Epoch: 2 [5120/60000 (9%)]\tLoss: 2.302048\n",
            "Train Epoch: 2 [5760/60000 (10%)]\tLoss: 2.325816\n",
            "Train Epoch: 2 [6400/60000 (11%)]\tLoss: 2.321159\n",
            "Train Epoch: 2 [7040/60000 (12%)]\tLoss: 2.325076\n",
            "Train Epoch: 2 [7680/60000 (13%)]\tLoss: 2.293680\n",
            "Train Epoch: 2 [8320/60000 (14%)]\tLoss: 2.302048\n",
            "Train Epoch: 2 [8960/60000 (15%)]\tLoss: 2.306566\n",
            "Train Epoch: 2 [9600/60000 (16%)]\tLoss: 2.318388\n",
            "Train Epoch: 2 [10240/60000 (17%)]\tLoss: 2.315409\n",
            "Train Epoch: 2 [10880/60000 (18%)]\tLoss: 2.321477\n",
            "Train Epoch: 2 [11520/60000 (19%)]\tLoss: 2.314198\n",
            "Train Epoch: 2 [12160/60000 (20%)]\tLoss: 2.314663\n",
            "Train Epoch: 2 [12800/60000 (21%)]\tLoss: 2.315806\n",
            "Train Epoch: 2 [13440/60000 (22%)]\tLoss: 2.340975\n",
            "Train Epoch: 2 [14080/60000 (23%)]\tLoss: 2.274352\n",
            "Train Epoch: 2 [14720/60000 (25%)]\tLoss: 2.346487\n",
            "Train Epoch: 2 [15360/60000 (26%)]\tLoss: 2.310805\n",
            "Train Epoch: 2 [16000/60000 (27%)]\tLoss: 2.309301\n",
            "Train Epoch: 2 [16640/60000 (28%)]\tLoss: 2.308675\n",
            "Train Epoch: 2 [17280/60000 (29%)]\tLoss: 2.307626\n",
            "Train Epoch: 2 [17920/60000 (30%)]\tLoss: 2.276410\n",
            "Train Epoch: 2 [18560/60000 (31%)]\tLoss: 2.300199\n",
            "Train Epoch: 2 [19200/60000 (32%)]\tLoss: 2.291782\n",
            "Train Epoch: 2 [19840/60000 (33%)]\tLoss: 2.320092\n",
            "Train Epoch: 2 [20480/60000 (34%)]\tLoss: 2.300549\n",
            "Train Epoch: 2 [21120/60000 (35%)]\tLoss: 2.304392\n",
            "Train Epoch: 2 [21760/60000 (36%)]\tLoss: 2.309209\n",
            "Train Epoch: 2 [22400/60000 (37%)]\tLoss: 2.292348\n",
            "Train Epoch: 2 [23040/60000 (38%)]\tLoss: 2.300851\n",
            "Train Epoch: 2 [23680/60000 (39%)]\tLoss: 2.305069\n",
            "Train Epoch: 2 [24320/60000 (41%)]\tLoss: 2.286309\n",
            "Train Epoch: 2 [24960/60000 (42%)]\tLoss: 2.321970\n",
            "Train Epoch: 2 [25600/60000 (43%)]\tLoss: 2.304020\n",
            "Train Epoch: 2 [26240/60000 (44%)]\tLoss: 2.292816\n",
            "Train Epoch: 2 [26880/60000 (45%)]\tLoss: 2.322096\n",
            "Train Epoch: 2 [27520/60000 (46%)]\tLoss: 2.298687\n",
            "Train Epoch: 2 [28160/60000 (47%)]\tLoss: 2.296217\n",
            "Train Epoch: 2 [28800/60000 (48%)]\tLoss: 2.323684\n",
            "Train Epoch: 2 [29440/60000 (49%)]\tLoss: 2.280063\n",
            "Train Epoch: 2 [30080/60000 (50%)]\tLoss: 2.296823\n",
            "Train Epoch: 2 [30720/60000 (51%)]\tLoss: 2.278343\n",
            "Train Epoch: 2 [31360/60000 (52%)]\tLoss: 2.304293\n",
            "Train Epoch: 2 [32000/60000 (53%)]\tLoss: 2.306590\n",
            "Train Epoch: 2 [32640/60000 (54%)]\tLoss: 2.324289\n",
            "Train Epoch: 2 [33280/60000 (55%)]\tLoss: 2.328150\n",
            "Train Epoch: 2 [33920/60000 (57%)]\tLoss: 2.327178\n",
            "Train Epoch: 2 [34560/60000 (58%)]\tLoss: 2.299093\n",
            "Train Epoch: 2 [35200/60000 (59%)]\tLoss: 2.308327\n",
            "Train Epoch: 2 [35840/60000 (60%)]\tLoss: 2.293807\n",
            "Train Epoch: 2 [36480/60000 (61%)]\tLoss: 2.293670\n",
            "Train Epoch: 2 [37120/60000 (62%)]\tLoss: 2.316544\n",
            "Train Epoch: 2 [37760/60000 (63%)]\tLoss: 2.360621\n",
            "Train Epoch: 2 [38400/60000 (64%)]\tLoss: 2.306212\n",
            "Train Epoch: 2 [39040/60000 (65%)]\tLoss: 2.315436\n",
            "Train Epoch: 2 [39680/60000 (66%)]\tLoss: 2.317282\n",
            "Train Epoch: 2 [40320/60000 (67%)]\tLoss: 2.341249\n",
            "Train Epoch: 2 [40960/60000 (68%)]\tLoss: 2.339880\n",
            "Train Epoch: 2 [41600/60000 (69%)]\tLoss: 2.319693\n",
            "Train Epoch: 2 [42240/60000 (70%)]\tLoss: 2.282888\n",
            "Train Epoch: 2 [42880/60000 (71%)]\tLoss: 2.292439\n",
            "Train Epoch: 2 [43520/60000 (72%)]\tLoss: 2.302910\n",
            "Train Epoch: 2 [44160/60000 (74%)]\tLoss: 2.324064\n",
            "Train Epoch: 2 [44800/60000 (75%)]\tLoss: 2.271885\n",
            "Train Epoch: 2 [45440/60000 (76%)]\tLoss: 2.336127\n",
            "Train Epoch: 2 [46080/60000 (77%)]\tLoss: 2.323673\n",
            "Train Epoch: 2 [46720/60000 (78%)]\tLoss: 2.289607\n",
            "Train Epoch: 2 [47360/60000 (79%)]\tLoss: 2.303373\n",
            "Train Epoch: 2 [48000/60000 (80%)]\tLoss: 2.331947\n",
            "Train Epoch: 2 [48640/60000 (81%)]\tLoss: 2.307872\n",
            "Train Epoch: 2 [49280/60000 (82%)]\tLoss: 2.290312\n",
            "Train Epoch: 2 [49920/60000 (83%)]\tLoss: 2.311495\n",
            "Train Epoch: 2 [50560/60000 (84%)]\tLoss: 2.335553\n",
            "Train Epoch: 2 [51200/60000 (85%)]\tLoss: 2.306112\n",
            "Train Epoch: 2 [51840/60000 (86%)]\tLoss: 2.300600\n",
            "Train Epoch: 2 [52480/60000 (87%)]\tLoss: 2.301720\n",
            "Train Epoch: 2 [53120/60000 (88%)]\tLoss: 2.286739\n",
            "Train Epoch: 2 [53760/60000 (90%)]\tLoss: 2.347823\n",
            "Train Epoch: 2 [54400/60000 (91%)]\tLoss: 2.334489\n",
            "Train Epoch: 2 [55040/60000 (92%)]\tLoss: 2.294190\n",
            "Train Epoch: 2 [55680/60000 (93%)]\tLoss: 2.313644\n",
            "Train Epoch: 2 [56320/60000 (94%)]\tLoss: 2.340781\n",
            "Train Epoch: 2 [56960/60000 (95%)]\tLoss: 2.321364\n",
            "Train Epoch: 2 [57600/60000 (96%)]\tLoss: 2.307085\n",
            "Train Epoch: 2 [58240/60000 (97%)]\tLoss: 2.315744\n",
            "Train Epoch: 2 [58880/60000 (98%)]\tLoss: 2.298091\n",
            "Train Epoch: 2 [59520/60000 (99%)]\tLoss: 2.297474\n",
            "\n",
            "Test set: Avg. loss: 2.3120, Accuracy: 1032/10000 (10%)\n",
            "\n",
            "Train Epoch: 3 [0/60000 (0%)]\tLoss: 2.323995\n",
            "Train Epoch: 3 [640/60000 (1%)]\tLoss: 2.311322\n",
            "Train Epoch: 3 [1280/60000 (2%)]\tLoss: 2.296835\n",
            "Train Epoch: 3 [1920/60000 (3%)]\tLoss: 2.309186\n",
            "Train Epoch: 3 [2560/60000 (4%)]\tLoss: 2.307858\n",
            "Train Epoch: 3 [3200/60000 (5%)]\tLoss: 2.315915\n",
            "Train Epoch: 3 [3840/60000 (6%)]\tLoss: 2.318892\n",
            "Train Epoch: 3 [4480/60000 (7%)]\tLoss: 2.303587\n",
            "Train Epoch: 3 [5120/60000 (9%)]\tLoss: 2.312029\n",
            "Train Epoch: 3 [5760/60000 (10%)]\tLoss: 2.311708\n",
            "Train Epoch: 3 [6400/60000 (11%)]\tLoss: 2.333979\n",
            "Train Epoch: 3 [7040/60000 (12%)]\tLoss: 2.307971\n",
            "Train Epoch: 3 [7680/60000 (13%)]\tLoss: 2.309874\n",
            "Train Epoch: 3 [8320/60000 (14%)]\tLoss: 2.318253\n",
            "Train Epoch: 3 [8960/60000 (15%)]\tLoss: 2.281241\n",
            "Train Epoch: 3 [9600/60000 (16%)]\tLoss: 2.322045\n",
            "Train Epoch: 3 [10240/60000 (17%)]\tLoss: 2.310582\n",
            "Train Epoch: 3 [10880/60000 (18%)]\tLoss: 2.298487\n",
            "Train Epoch: 3 [11520/60000 (19%)]\tLoss: 2.279116\n",
            "Train Epoch: 3 [12160/60000 (20%)]\tLoss: 2.268961\n",
            "Train Epoch: 3 [12800/60000 (21%)]\tLoss: 2.301406\n",
            "Train Epoch: 3 [13440/60000 (22%)]\tLoss: 2.324929\n",
            "Train Epoch: 3 [14080/60000 (23%)]\tLoss: 2.338146\n",
            "Train Epoch: 3 [14720/60000 (25%)]\tLoss: 2.363444\n",
            "Train Epoch: 3 [15360/60000 (26%)]\tLoss: 2.322339\n",
            "Train Epoch: 3 [16000/60000 (27%)]\tLoss: 2.295917\n",
            "Train Epoch: 3 [16640/60000 (28%)]\tLoss: 2.309763\n",
            "Train Epoch: 3 [17280/60000 (29%)]\tLoss: 2.306709\n",
            "Train Epoch: 3 [17920/60000 (30%)]\tLoss: 2.300433\n",
            "Train Epoch: 3 [18560/60000 (31%)]\tLoss: 2.275382\n",
            "Train Epoch: 3 [19200/60000 (32%)]\tLoss: 2.296671\n",
            "Train Epoch: 3 [19840/60000 (33%)]\tLoss: 2.330284\n",
            "Train Epoch: 3 [20480/60000 (34%)]\tLoss: 2.281737\n",
            "Train Epoch: 3 [21120/60000 (35%)]\tLoss: 2.275455\n",
            "Train Epoch: 3 [21760/60000 (36%)]\tLoss: 2.297484\n",
            "Train Epoch: 3 [22400/60000 (37%)]\tLoss: 2.328605\n",
            "Train Epoch: 3 [23040/60000 (38%)]\tLoss: 2.313898\n",
            "Train Epoch: 3 [23680/60000 (39%)]\tLoss: 2.314722\n",
            "Train Epoch: 3 [24320/60000 (41%)]\tLoss: 2.286440\n",
            "Train Epoch: 3 [24960/60000 (42%)]\tLoss: 2.336029\n",
            "Train Epoch: 3 [25600/60000 (43%)]\tLoss: 2.309484\n",
            "Train Epoch: 3 [26240/60000 (44%)]\tLoss: 2.293731\n",
            "Train Epoch: 3 [26880/60000 (45%)]\tLoss: 2.319143\n",
            "Train Epoch: 3 [27520/60000 (46%)]\tLoss: 2.323613\n",
            "Train Epoch: 3 [28160/60000 (47%)]\tLoss: 2.281064\n",
            "Train Epoch: 3 [28800/60000 (48%)]\tLoss: 2.305221\n",
            "Train Epoch: 3 [29440/60000 (49%)]\tLoss: 2.294243\n",
            "Train Epoch: 3 [30080/60000 (50%)]\tLoss: 2.279648\n",
            "Train Epoch: 3 [30720/60000 (51%)]\tLoss: 2.344642\n",
            "Train Epoch: 3 [31360/60000 (52%)]\tLoss: 2.293160\n",
            "Train Epoch: 3 [32000/60000 (53%)]\tLoss: 2.287371\n",
            "Train Epoch: 3 [32640/60000 (54%)]\tLoss: 2.282924\n",
            "Train Epoch: 3 [33280/60000 (55%)]\tLoss: 2.297271\n",
            "Train Epoch: 3 [33920/60000 (57%)]\tLoss: 2.360453\n",
            "Train Epoch: 3 [34560/60000 (58%)]\tLoss: 2.309369\n",
            "Train Epoch: 3 [35200/60000 (59%)]\tLoss: 2.340259\n",
            "Train Epoch: 3 [35840/60000 (60%)]\tLoss: 2.319591\n",
            "Train Epoch: 3 [36480/60000 (61%)]\tLoss: 2.295038\n",
            "Train Epoch: 3 [37120/60000 (62%)]\tLoss: 2.315422\n",
            "Train Epoch: 3 [37760/60000 (63%)]\tLoss: 2.335422\n",
            "Train Epoch: 3 [38400/60000 (64%)]\tLoss: 2.290998\n",
            "Train Epoch: 3 [39040/60000 (65%)]\tLoss: 2.341584\n",
            "Train Epoch: 3 [39680/60000 (66%)]\tLoss: 2.274866\n",
            "Train Epoch: 3 [40320/60000 (67%)]\tLoss: 2.322290\n",
            "Train Epoch: 3 [40960/60000 (68%)]\tLoss: 2.323750\n",
            "Train Epoch: 3 [41600/60000 (69%)]\tLoss: 2.305345\n",
            "Train Epoch: 3 [42240/60000 (70%)]\tLoss: 2.303754\n",
            "Train Epoch: 3 [42880/60000 (71%)]\tLoss: 2.304128\n",
            "Train Epoch: 3 [43520/60000 (72%)]\tLoss: 2.298332\n",
            "Train Epoch: 3 [44160/60000 (74%)]\tLoss: 2.308290\n",
            "Train Epoch: 3 [44800/60000 (75%)]\tLoss: 2.303030\n",
            "Train Epoch: 3 [45440/60000 (76%)]\tLoss: 2.303784\n",
            "Train Epoch: 3 [46080/60000 (77%)]\tLoss: 2.288173\n",
            "Train Epoch: 3 [46720/60000 (78%)]\tLoss: 2.286637\n",
            "Train Epoch: 3 [47360/60000 (79%)]\tLoss: 2.309362\n",
            "Train Epoch: 3 [48000/60000 (80%)]\tLoss: 2.297328\n",
            "Train Epoch: 3 [48640/60000 (81%)]\tLoss: 2.289277\n",
            "Train Epoch: 3 [49280/60000 (82%)]\tLoss: 2.323059\n",
            "Train Epoch: 3 [49920/60000 (83%)]\tLoss: 2.320125\n",
            "Train Epoch: 3 [50560/60000 (84%)]\tLoss: 2.303710\n",
            "Train Epoch: 3 [51200/60000 (85%)]\tLoss: 2.295202\n",
            "Train Epoch: 3 [51840/60000 (86%)]\tLoss: 2.281429\n",
            "Train Epoch: 3 [52480/60000 (87%)]\tLoss: 2.316935\n",
            "Train Epoch: 3 [53120/60000 (88%)]\tLoss: 2.315785\n",
            "Train Epoch: 3 [53760/60000 (90%)]\tLoss: 2.319795\n",
            "Train Epoch: 3 [54400/60000 (91%)]\tLoss: 2.298034\n",
            "Train Epoch: 3 [55040/60000 (92%)]\tLoss: 2.328487\n",
            "Train Epoch: 3 [55680/60000 (93%)]\tLoss: 2.333445\n",
            "Train Epoch: 3 [56320/60000 (94%)]\tLoss: 2.308276\n",
            "Train Epoch: 3 [56960/60000 (95%)]\tLoss: 2.306109\n",
            "Train Epoch: 3 [57600/60000 (96%)]\tLoss: 2.307425\n",
            "Train Epoch: 3 [58240/60000 (97%)]\tLoss: 2.342713\n",
            "Train Epoch: 3 [58880/60000 (98%)]\tLoss: 2.332867\n",
            "Train Epoch: 3 [59520/60000 (99%)]\tLoss: 2.312767\n",
            "\n",
            "Test set: Avg. loss: 2.3102, Accuracy: 982/10000 (10%)\n",
            "\n",
            "Train Epoch: 4 [0/60000 (0%)]\tLoss: 2.329189\n",
            "Train Epoch: 4 [640/60000 (1%)]\tLoss: 2.307115\n",
            "Train Epoch: 4 [1280/60000 (2%)]\tLoss: 2.299514\n",
            "Train Epoch: 4 [1920/60000 (3%)]\tLoss: 2.307116\n",
            "Train Epoch: 4 [2560/60000 (4%)]\tLoss: 2.303758\n",
            "Train Epoch: 4 [3200/60000 (5%)]\tLoss: 2.306902\n",
            "Train Epoch: 4 [3840/60000 (6%)]\tLoss: 2.285399\n",
            "Train Epoch: 4 [4480/60000 (7%)]\tLoss: 2.308547\n",
            "Train Epoch: 4 [5120/60000 (9%)]\tLoss: 2.308360\n",
            "Train Epoch: 4 [5760/60000 (10%)]\tLoss: 2.301582\n",
            "Train Epoch: 4 [6400/60000 (11%)]\tLoss: 2.352305\n",
            "Train Epoch: 4 [7040/60000 (12%)]\tLoss: 2.339359\n",
            "Train Epoch: 4 [7680/60000 (13%)]\tLoss: 2.312277\n",
            "Train Epoch: 4 [8320/60000 (14%)]\tLoss: 2.311088\n",
            "Train Epoch: 4 [8960/60000 (15%)]\tLoss: 2.369707\n",
            "Train Epoch: 4 [9600/60000 (16%)]\tLoss: 2.310276\n",
            "Train Epoch: 4 [10240/60000 (17%)]\tLoss: 2.313892\n",
            "Train Epoch: 4 [10880/60000 (18%)]\tLoss: 2.314941\n",
            "Train Epoch: 4 [11520/60000 (19%)]\tLoss: 2.328502\n",
            "Train Epoch: 4 [12160/60000 (20%)]\tLoss: 2.327513\n",
            "Train Epoch: 4 [12800/60000 (21%)]\tLoss: 2.297858\n",
            "Train Epoch: 4 [13440/60000 (22%)]\tLoss: 2.290159\n",
            "Train Epoch: 4 [14080/60000 (23%)]\tLoss: 2.323109\n",
            "Train Epoch: 4 [14720/60000 (25%)]\tLoss: 2.295101\n",
            "Train Epoch: 4 [15360/60000 (26%)]\tLoss: 2.310106\n",
            "Train Epoch: 4 [16000/60000 (27%)]\tLoss: 2.287067\n",
            "Train Epoch: 4 [16640/60000 (28%)]\tLoss: 2.303854\n",
            "Train Epoch: 4 [17280/60000 (29%)]\tLoss: 2.307427\n",
            "Train Epoch: 4 [17920/60000 (30%)]\tLoss: 2.318353\n",
            "Train Epoch: 4 [18560/60000 (31%)]\tLoss: 2.329444\n",
            "Train Epoch: 4 [19200/60000 (32%)]\tLoss: 2.332156\n",
            "Train Epoch: 4 [19840/60000 (33%)]\tLoss: 2.327501\n",
            "Train Epoch: 4 [20480/60000 (34%)]\tLoss: 2.311620\n",
            "Train Epoch: 4 [21120/60000 (35%)]\tLoss: 2.300643\n",
            "Train Epoch: 4 [21760/60000 (36%)]\tLoss: 2.303550\n",
            "Train Epoch: 4 [22400/60000 (37%)]\tLoss: 2.306061\n",
            "Train Epoch: 4 [23040/60000 (38%)]\tLoss: 2.306238\n",
            "Train Epoch: 4 [23680/60000 (39%)]\tLoss: 2.297576\n",
            "Train Epoch: 4 [24320/60000 (41%)]\tLoss: 2.307014\n",
            "Train Epoch: 4 [24960/60000 (42%)]\tLoss: 2.279578\n",
            "Train Epoch: 4 [25600/60000 (43%)]\tLoss: 2.295515\n",
            "Train Epoch: 4 [26240/60000 (44%)]\tLoss: 2.308202\n",
            "Train Epoch: 4 [26880/60000 (45%)]\tLoss: 2.307014\n",
            "Train Epoch: 4 [27520/60000 (46%)]\tLoss: 2.310848\n",
            "Train Epoch: 4 [28160/60000 (47%)]\tLoss: 2.314437\n",
            "Train Epoch: 4 [28800/60000 (48%)]\tLoss: 2.305769\n",
            "Train Epoch: 4 [29440/60000 (49%)]\tLoss: 2.312321\n",
            "Train Epoch: 4 [30080/60000 (50%)]\tLoss: 2.313159\n",
            "Train Epoch: 4 [30720/60000 (51%)]\tLoss: 2.336235\n",
            "Train Epoch: 4 [31360/60000 (52%)]\tLoss: 2.299041\n",
            "Train Epoch: 4 [32000/60000 (53%)]\tLoss: 2.291385\n",
            "Train Epoch: 4 [32640/60000 (54%)]\tLoss: 2.299699\n",
            "Train Epoch: 4 [33280/60000 (55%)]\tLoss: 2.322795\n",
            "Train Epoch: 4 [33920/60000 (57%)]\tLoss: 2.326053\n",
            "Train Epoch: 4 [34560/60000 (58%)]\tLoss: 2.325237\n",
            "Train Epoch: 4 [35200/60000 (59%)]\tLoss: 2.297559\n",
            "Train Epoch: 4 [35840/60000 (60%)]\tLoss: 2.295108\n",
            "Train Epoch: 4 [36480/60000 (61%)]\tLoss: 2.292117\n",
            "Train Epoch: 4 [37120/60000 (62%)]\tLoss: 2.310162\n",
            "Train Epoch: 4 [37760/60000 (63%)]\tLoss: 2.280190\n",
            "Train Epoch: 4 [38400/60000 (64%)]\tLoss: 2.310183\n",
            "Train Epoch: 4 [39040/60000 (65%)]\tLoss: 2.288345\n",
            "Train Epoch: 4 [39680/60000 (66%)]\tLoss: 2.320428\n",
            "Train Epoch: 4 [40320/60000 (67%)]\tLoss: 2.309150\n",
            "Train Epoch: 4 [40960/60000 (68%)]\tLoss: 2.263294\n",
            "Train Epoch: 4 [41600/60000 (69%)]\tLoss: 2.293545\n",
            "Train Epoch: 4 [42240/60000 (70%)]\tLoss: 2.313023\n",
            "Train Epoch: 4 [42880/60000 (71%)]\tLoss: 2.293417\n",
            "Train Epoch: 4 [43520/60000 (72%)]\tLoss: 2.302925\n",
            "Train Epoch: 4 [44160/60000 (74%)]\tLoss: 2.354661\n",
            "Train Epoch: 4 [44800/60000 (75%)]\tLoss: 2.319657\n",
            "Train Epoch: 4 [45440/60000 (76%)]\tLoss: 2.313712\n",
            "Train Epoch: 4 [46080/60000 (77%)]\tLoss: 2.294010\n",
            "Train Epoch: 4 [46720/60000 (78%)]\tLoss: 2.307891\n",
            "Train Epoch: 4 [47360/60000 (79%)]\tLoss: 2.313292\n",
            "Train Epoch: 4 [48000/60000 (80%)]\tLoss: 2.337947\n",
            "Train Epoch: 4 [48640/60000 (81%)]\tLoss: 2.301047\n",
            "Train Epoch: 4 [49280/60000 (82%)]\tLoss: 2.316577\n",
            "Train Epoch: 4 [49920/60000 (83%)]\tLoss: 2.336453\n",
            "Train Epoch: 4 [50560/60000 (84%)]\tLoss: 2.330797\n",
            "Train Epoch: 4 [51200/60000 (85%)]\tLoss: 2.291353\n",
            "Train Epoch: 4 [51840/60000 (86%)]\tLoss: 2.340961\n",
            "Train Epoch: 4 [52480/60000 (87%)]\tLoss: 2.322020\n",
            "Train Epoch: 4 [53120/60000 (88%)]\tLoss: 2.297087\n",
            "Train Epoch: 4 [53760/60000 (90%)]\tLoss: 2.351845\n",
            "Train Epoch: 4 [54400/60000 (91%)]\tLoss: 2.290603\n",
            "Train Epoch: 4 [55040/60000 (92%)]\tLoss: 2.333081\n",
            "Train Epoch: 4 [55680/60000 (93%)]\tLoss: 2.332518\n",
            "Train Epoch: 4 [56320/60000 (94%)]\tLoss: 2.321628\n",
            "Train Epoch: 4 [56960/60000 (95%)]\tLoss: 2.295154\n",
            "Train Epoch: 4 [57600/60000 (96%)]\tLoss: 2.305783\n",
            "Train Epoch: 4 [58240/60000 (97%)]\tLoss: 2.291167\n",
            "Train Epoch: 4 [58880/60000 (98%)]\tLoss: 2.309369\n",
            "Train Epoch: 4 [59520/60000 (99%)]\tLoss: 2.338978\n",
            "\n",
            "Test set: Avg. loss: 2.3140, Accuracy: 980/10000 (10%)\n",
            "\n",
            "Train Epoch: 5 [0/60000 (0%)]\tLoss: 2.327190\n",
            "Train Epoch: 5 [640/60000 (1%)]\tLoss: 2.290595\n",
            "Train Epoch: 5 [1280/60000 (2%)]\tLoss: 2.302209\n",
            "Train Epoch: 5 [1920/60000 (3%)]\tLoss: 2.300087\n",
            "Train Epoch: 5 [2560/60000 (4%)]\tLoss: 2.329524\n",
            "Train Epoch: 5 [3200/60000 (5%)]\tLoss: 2.325202\n",
            "Train Epoch: 5 [3840/60000 (6%)]\tLoss: 2.295899\n",
            "Train Epoch: 5 [4480/60000 (7%)]\tLoss: 2.307017\n",
            "Train Epoch: 5 [5120/60000 (9%)]\tLoss: 2.282639\n",
            "Train Epoch: 5 [5760/60000 (10%)]\tLoss: 2.330815\n",
            "Train Epoch: 5 [6400/60000 (11%)]\tLoss: 2.314148\n",
            "Train Epoch: 5 [7040/60000 (12%)]\tLoss: 2.306972\n",
            "Train Epoch: 5 [7680/60000 (13%)]\tLoss: 2.312017\n",
            "Train Epoch: 5 [8320/60000 (14%)]\tLoss: 2.306610\n",
            "Train Epoch: 5 [8960/60000 (15%)]\tLoss: 2.320523\n",
            "Train Epoch: 5 [9600/60000 (16%)]\tLoss: 2.340816\n",
            "Train Epoch: 5 [10240/60000 (17%)]\tLoss: 2.308011\n",
            "Train Epoch: 5 [10880/60000 (18%)]\tLoss: 2.275171\n",
            "Train Epoch: 5 [11520/60000 (19%)]\tLoss: 2.303648\n",
            "Train Epoch: 5 [12160/60000 (20%)]\tLoss: 2.312585\n",
            "Train Epoch: 5 [12800/60000 (21%)]\tLoss: 2.331663\n",
            "Train Epoch: 5 [13440/60000 (22%)]\tLoss: 2.306658\n",
            "Train Epoch: 5 [14080/60000 (23%)]\tLoss: 2.297272\n",
            "Train Epoch: 5 [14720/60000 (25%)]\tLoss: 2.313456\n",
            "Train Epoch: 5 [15360/60000 (26%)]\tLoss: 2.303237\n",
            "Train Epoch: 5 [16000/60000 (27%)]\tLoss: 2.326660\n",
            "Train Epoch: 5 [16640/60000 (28%)]\tLoss: 2.351498\n",
            "Train Epoch: 5 [17280/60000 (29%)]\tLoss: 2.341733\n",
            "Train Epoch: 5 [17920/60000 (30%)]\tLoss: 2.303509\n",
            "Train Epoch: 5 [18560/60000 (31%)]\tLoss: 2.297851\n",
            "Train Epoch: 5 [19200/60000 (32%)]\tLoss: 2.308867\n",
            "Train Epoch: 5 [19840/60000 (33%)]\tLoss: 2.331912\n",
            "Train Epoch: 5 [20480/60000 (34%)]\tLoss: 2.356338\n",
            "Train Epoch: 5 [21120/60000 (35%)]\tLoss: 2.291932\n",
            "Train Epoch: 5 [21760/60000 (36%)]\tLoss: 2.317314\n",
            "Train Epoch: 5 [22400/60000 (37%)]\tLoss: 2.321803\n",
            "Train Epoch: 5 [23040/60000 (38%)]\tLoss: 2.300120\n",
            "Train Epoch: 5 [23680/60000 (39%)]\tLoss: 2.284117\n",
            "Train Epoch: 5 [24320/60000 (41%)]\tLoss: 2.285458\n",
            "Train Epoch: 5 [24960/60000 (42%)]\tLoss: 2.300708\n",
            "Train Epoch: 5 [25600/60000 (43%)]\tLoss: 2.284832\n",
            "Train Epoch: 5 [26240/60000 (44%)]\tLoss: 2.346438\n",
            "Train Epoch: 5 [26880/60000 (45%)]\tLoss: 2.310820\n",
            "Train Epoch: 5 [27520/60000 (46%)]\tLoss: 2.292688\n",
            "Train Epoch: 5 [28160/60000 (47%)]\tLoss: 2.351578\n",
            "Train Epoch: 5 [28800/60000 (48%)]\tLoss: 2.332462\n",
            "Train Epoch: 5 [29440/60000 (49%)]\tLoss: 2.299717\n",
            "Train Epoch: 5 [30080/60000 (50%)]\tLoss: 2.283983\n",
            "Train Epoch: 5 [30720/60000 (51%)]\tLoss: 2.349026\n",
            "Train Epoch: 5 [31360/60000 (52%)]\tLoss: 2.333869\n",
            "Train Epoch: 5 [32000/60000 (53%)]\tLoss: 2.285439\n",
            "Train Epoch: 5 [32640/60000 (54%)]\tLoss: 2.300360\n",
            "Train Epoch: 5 [33280/60000 (55%)]\tLoss: 2.316653\n",
            "Train Epoch: 5 [33920/60000 (57%)]\tLoss: 2.309666\n",
            "Train Epoch: 5 [34560/60000 (58%)]\tLoss: 2.310241\n",
            "Train Epoch: 5 [35200/60000 (59%)]\tLoss: 2.311330\n",
            "Train Epoch: 5 [35840/60000 (60%)]\tLoss: 2.315285\n",
            "Train Epoch: 5 [36480/60000 (61%)]\tLoss: 2.347864\n",
            "Train Epoch: 5 [37120/60000 (62%)]\tLoss: 2.300249\n",
            "Train Epoch: 5 [37760/60000 (63%)]\tLoss: 2.320339\n",
            "Train Epoch: 5 [38400/60000 (64%)]\tLoss: 2.307892\n",
            "Train Epoch: 5 [39040/60000 (65%)]\tLoss: 2.299528\n",
            "Train Epoch: 5 [39680/60000 (66%)]\tLoss: 2.282746\n",
            "Train Epoch: 5 [40320/60000 (67%)]\tLoss: 2.333752\n",
            "Train Epoch: 5 [40960/60000 (68%)]\tLoss: 2.298831\n",
            "Train Epoch: 5 [41600/60000 (69%)]\tLoss: 2.299258\n",
            "Train Epoch: 5 [42240/60000 (70%)]\tLoss: 2.311425\n",
            "Train Epoch: 5 [42880/60000 (71%)]\tLoss: 2.305630\n",
            "Train Epoch: 5 [43520/60000 (72%)]\tLoss: 2.312950\n",
            "Train Epoch: 5 [44160/60000 (74%)]\tLoss: 2.313701\n",
            "Train Epoch: 5 [44800/60000 (75%)]\tLoss: 2.326561\n",
            "Train Epoch: 5 [45440/60000 (76%)]\tLoss: 2.297046\n",
            "Train Epoch: 5 [46080/60000 (77%)]\tLoss: 2.323989\n",
            "Train Epoch: 5 [46720/60000 (78%)]\tLoss: 2.293689\n",
            "Train Epoch: 5 [47360/60000 (79%)]\tLoss: 2.283907\n",
            "Train Epoch: 5 [48000/60000 (80%)]\tLoss: 2.275364\n",
            "Train Epoch: 5 [48640/60000 (81%)]\tLoss: 2.298313\n",
            "Train Epoch: 5 [49280/60000 (82%)]\tLoss: 2.281062\n",
            "Train Epoch: 5 [49920/60000 (83%)]\tLoss: 2.303267\n",
            "Train Epoch: 5 [50560/60000 (84%)]\tLoss: 2.319639\n",
            "Train Epoch: 5 [51200/60000 (85%)]\tLoss: 2.305765\n",
            "Train Epoch: 5 [51840/60000 (86%)]\tLoss: 2.304195\n",
            "Train Epoch: 5 [52480/60000 (87%)]\tLoss: 2.304580\n",
            "Train Epoch: 5 [53120/60000 (88%)]\tLoss: 2.324878\n",
            "Train Epoch: 5 [53760/60000 (90%)]\tLoss: 2.305729\n",
            "Train Epoch: 5 [54400/60000 (91%)]\tLoss: 2.338975\n",
            "Train Epoch: 5 [55040/60000 (92%)]\tLoss: 2.304156\n",
            "Train Epoch: 5 [55680/60000 (93%)]\tLoss: 2.303806\n",
            "Train Epoch: 5 [56320/60000 (94%)]\tLoss: 2.338458\n",
            "Train Epoch: 5 [56960/60000 (95%)]\tLoss: 2.319413\n",
            "Train Epoch: 5 [57600/60000 (96%)]\tLoss: 2.332466\n",
            "Train Epoch: 5 [58240/60000 (97%)]\tLoss: 2.305545\n",
            "Train Epoch: 5 [58880/60000 (98%)]\tLoss: 2.305986\n",
            "Train Epoch: 5 [59520/60000 (99%)]\tLoss: 2.311648\n",
            "\n",
            "Test set: Avg. loss: 2.3123, Accuracy: 1010/10000 (10%)\n",
            "\n"
          ]
        }
      ]
    },
    {
      "cell_type": "code",
      "source": [],
      "metadata": {
        "id": "C_dN0-qtqsIN"
      },
      "execution_count": null,
      "outputs": []
    }
  ]
}